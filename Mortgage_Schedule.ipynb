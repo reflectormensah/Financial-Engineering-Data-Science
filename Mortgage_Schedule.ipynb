{
  "nbformat": 4,
  "nbformat_minor": 0,
  "metadata": {
    "colab": {
      "provenance": [],
      "authorship_tag": "ABX9TyPVMVpLJD+p+Hk3mbWaCIwB",
      "include_colab_link": true
    },
    "kernelspec": {
      "name": "python3",
      "display_name": "Python 3"
    },
    "language_info": {
      "name": "python"
    }
  },
  "cells": [
    {
      "cell_type": "markdown",
      "metadata": {
        "id": "view-in-github",
        "colab_type": "text"
      },
      "source": [
        "<a href=\"https://colab.research.google.com/github/reflectormensah/Financial-Engineering-Data-Science/blob/main/Mortgage_Schedule.ipynb\" target=\"_parent\"><img src=\"https://colab.research.google.com/assets/colab-badge.svg\" alt=\"Open In Colab\"/></a>"
      ]
    },
    {
      "cell_type": "code",
      "execution_count": null,
      "metadata": {
        "colab": {
          "base_uri": "https://localhost:8080/"
        },
        "id": "8i0rUQRLn7sk",
        "outputId": "9b867d36-9135-4e3e-9a57-a4abba2390ee"
      },
      "outputs": [
        {
          "output_type": "stream",
          "name": "stdout",
          "text": [
            "Looking in indexes: https://pypi.org/simple, https://us-python.pkg.dev/colab-wheels/public/simple/\n",
            "Collecting numpy_financial\n",
            "  Downloading numpy_financial-1.0.0-py3-none-any.whl (14 kB)\n",
            "Requirement already satisfied: numpy>=1.15 in /usr/local/lib/python3.7/dist-packages (from numpy_financial) (1.21.6)\n",
            "Installing collected packages: numpy-financial\n",
            "Successfully installed numpy-financial-1.0.0\n"
          ]
        }
      ],
      "source": [
        "!pip3 install numpy_financial\n",
        "\n",
        "import pandas as pd\n",
        "import numpy as np\n",
        "import numpy_financial as npf\n",
        "import matplotlib.pyplot as plt\n",
        "import seaborn as sns"
      ]
    },
    {
      "cell_type": "code",
      "source": [
        "# defining the amortizatization function\n",
        "\n",
        "def amortization_schedule(interest, mortgage, years):\n",
        "\n",
        "  mortgage_amt = -(mortgage)\n",
        "  interest_rate =(interest/100)/12\n",
        "  periods = years*12\n",
        "\n",
        "  n_periods = np.arrange(years*12)+1\n",
        "\n",
        "  #Interest Payment\n",
        "  interest_monthly =npf.ipmt(interest_rate, n_periods, periods, mortgage_amt)\n",
        "\n",
        "  # Principal Paydown\n",
        "  principal_monthly = npf.ppmt(interest_rate, n_periods, periods, mortgage_amt)\n",
        "\n",
        "  #Join Data\n",
        "  df_initialize = list(zip(n_periods,interest_monthly, principal_monthly))\n",
        "  df = pd.DataFrame(df_initialize, columns=['period', 'interest', 'principal'])\n",
        "\n",
        "  # Monthly Mortgage Payment\n",
        "  df['Monthly_Payment'] = df['interest'] + df['principal']\n",
        "\n",
        "  #Total Mortgage PAyment\n",
        "  df['outstanding_balance'] = df['monthly_payment'].cumsum()\n",
        "\n",
        "  # Reversing Values since we are paying down the principal balance\n",
        "  df.outstanding_balance = df.outstanding_balance.values[::-1]\n",
        "\n",
        "  return (df)"
      ],
      "metadata": {
        "id": "OOeIJv3ZqVNX"
      },
      "execution_count": null,
      "outputs": []
    },
    {
      "cell_type": "code",
      "source": [
        "# Buliding scenarios around the mortgages given in GWP 1\n",
        "loan = 1e6\n",
        "\n",
        "mortgage_1 = amortization_schedule(4.00, loan, 30)\n",
        "mortgage_2 = amortization_schedule(2.50, loan, 20)\n",
        "mortgage_3 = amortization_schedule(4.00, loan, 20)"
      ],
      "metadata": {
        "colab": {
          "base_uri": "https://localhost:8080/",
          "height": 363
        },
        "id": "trjWb7d7uEh0",
        "outputId": "60b65ebc-1163-4ec5-e56e-82b3746f8efa"
      },
      "execution_count": null,
      "outputs": [
        {
          "output_type": "error",
          "ename": "AttributeError",
          "evalue": "ignored",
          "traceback": [
            "\u001b[0;31m---------------------------------------------------------------------------\u001b[0m",
            "\u001b[0;31mAttributeError\u001b[0m                            Traceback (most recent call last)",
            "\u001b[0;32m<ipython-input-6-b2ed5aab490f>\u001b[0m in \u001b[0;36m<module>\u001b[0;34m\u001b[0m\n\u001b[1;32m      3\u001b[0m \u001b[0;34m\u001b[0m\u001b[0m\n\u001b[1;32m      4\u001b[0m \u001b[0;34m\u001b[0m\u001b[0m\n\u001b[0;32m----> 5\u001b[0;31m \u001b[0mmortgage_2\u001b[0m \u001b[0;34m=\u001b[0m \u001b[0mamortization_schedule\u001b[0m\u001b[0;34m(\u001b[0m\u001b[0;36m2.50\u001b[0m\u001b[0;34m,\u001b[0m \u001b[0mloan\u001b[0m\u001b[0;34m,\u001b[0m \u001b[0;36m20\u001b[0m\u001b[0;34m)\u001b[0m\u001b[0;34m\u001b[0m\u001b[0;34m\u001b[0m\u001b[0m\n\u001b[0m\u001b[1;32m      6\u001b[0m \u001b[0mmortgage_3\u001b[0m \u001b[0;34m=\u001b[0m \u001b[0mamortization_schedule\u001b[0m\u001b[0;34m(\u001b[0m\u001b[0;36m4.00\u001b[0m\u001b[0;34m,\u001b[0m \u001b[0mloan\u001b[0m\u001b[0;34m,\u001b[0m \u001b[0;36m20\u001b[0m\u001b[0;34m)\u001b[0m\u001b[0;34m\u001b[0m\u001b[0;34m\u001b[0m\u001b[0m\n",
            "\u001b[0;32m<ipython-input-3-0d95ae89131b>\u001b[0m in \u001b[0;36mamortization_schedule\u001b[0;34m(interest, mortgage, years)\u001b[0m\n\u001b[1;32m      7\u001b[0m   \u001b[0mperiods\u001b[0m \u001b[0;34m=\u001b[0m \u001b[0myears\u001b[0m\u001b[0;34m*\u001b[0m\u001b[0;36m12\u001b[0m\u001b[0;34m\u001b[0m\u001b[0;34m\u001b[0m\u001b[0m\n\u001b[1;32m      8\u001b[0m \u001b[0;34m\u001b[0m\u001b[0m\n\u001b[0;32m----> 9\u001b[0;31m   \u001b[0mn_periods\u001b[0m \u001b[0;34m=\u001b[0m \u001b[0mnp\u001b[0m\u001b[0;34m.\u001b[0m\u001b[0marrange\u001b[0m\u001b[0;34m(\u001b[0m\u001b[0myears\u001b[0m\u001b[0;34m*\u001b[0m\u001b[0;36m12\u001b[0m\u001b[0;34m)\u001b[0m\u001b[0;34m+\u001b[0m\u001b[0;36m1\u001b[0m\u001b[0;34m\u001b[0m\u001b[0;34m\u001b[0m\u001b[0m\n\u001b[0m\u001b[1;32m     10\u001b[0m \u001b[0;34m\u001b[0m\u001b[0m\n\u001b[1;32m     11\u001b[0m   \u001b[0;31m#Interest Payment\u001b[0m\u001b[0;34m\u001b[0m\u001b[0;34m\u001b[0m\u001b[0;34m\u001b[0m\u001b[0m\n",
            "\u001b[0;32m/usr/local/lib/python3.7/dist-packages/numpy/__init__.py\u001b[0m in \u001b[0;36m__getattr__\u001b[0;34m(attr)\u001b[0m\n\u001b[1;32m    312\u001b[0m \u001b[0;34m\u001b[0m\u001b[0m\n\u001b[1;32m    313\u001b[0m             raise AttributeError(\"module {!r} has no attribute \"\n\u001b[0;32m--> 314\u001b[0;31m                                  \"{!r}\".format(__name__, attr))\n\u001b[0m\u001b[1;32m    315\u001b[0m \u001b[0;34m\u001b[0m\u001b[0m\n\u001b[1;32m    316\u001b[0m         \u001b[0;32mdef\u001b[0m \u001b[0m__dir__\u001b[0m\u001b[0;34m(\u001b[0m\u001b[0;34m)\u001b[0m\u001b[0;34m:\u001b[0m\u001b[0;34m\u001b[0m\u001b[0;34m\u001b[0m\u001b[0m\n",
            "\u001b[0;31mAttributeError\u001b[0m: module 'numpy' has no attribute 'arrange'"
          ]
        }
      ]
    },
    {
      "cell_type": "code",
      "source": [],
      "metadata": {
        "id": "9gXTOy2UuHIY"
      },
      "execution_count": null,
      "outputs": []
    }
  ]
}