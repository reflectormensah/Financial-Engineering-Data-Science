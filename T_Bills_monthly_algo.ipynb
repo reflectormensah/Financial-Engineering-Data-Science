{
 "cells": [
  {
   "cell_type": "code",
   "execution_count": 10,
   "metadata": {},
   "outputs": [],
   "source": [
    "# loading packages\n",
    "import numpy as np\n",
    "import pandas as pd\n",
    "import matplotlib.pyplot as plt\n",
    "import seaborn as sns\n",
    "import itertools\n",
    "import xgboost as xgb\n",
    "import optuna\n",
    "from arch import arch_model\n",
    "from sklearn.model_selection import train_test_split\n",
    "from sklearn.metrics import mean_squared_error, r2_score"
   ]
  },
  {
   "cell_type": "code",
   "execution_count": 2,
   "metadata": {},
   "outputs": [],
   "source": [
    "# loading the data\n",
    "data = pd.read_csv('T_Bills.csv')"
   ]
  },
  {
   "cell_type": "code",
   "execution_count": 3,
   "metadata": {},
   "outputs": [],
   "source": [
    "# cleaning the data\n",
    "data.ffill(inplace=True)"
   ]
  },
  {
   "cell_type": "code",
   "execution_count": 4,
   "metadata": {},
   "outputs": [],
   "source": [
    "data['Date'] = pd.to_datetime(data['Date'])\n",
    "data.set_index('Date', inplace=True)"
   ]
  },
  {
   "cell_type": "code",
   "execution_count": 5,
   "metadata": {},
   "outputs": [
    {
     "data": {
      "application/vnd.microsoft.datawrangler.viewer.v0+json": {
       "columns": [
        {
         "name": "Date",
         "rawType": "datetime64[ns]",
         "type": "datetime"
        },
        {
         "name": "91-day T-Bill Rate",
         "rawType": "float64",
         "type": "float"
        },
        {
         "name": "182-day T-Bill Rate",
         "rawType": "float64",
         "type": "float"
        },
        {
         "name": "364-day Rate",
         "rawType": "float64",
         "type": "float"
        }
       ],
       "conversionMethod": "pd.DataFrame",
       "ref": "9906046f-8f39-4521-b5e2-2d1d20bf6504",
       "rows": [
        [
         "2025-02-24 00:00:00",
         "0.244786",
         "0.253874",
         "0.272996"
        ],
        [
         "2025-03-03 00:00:00",
         "0.207906",
         "0.229851",
         "0.226994"
        ],
        [
         "2025-03-10 00:00:00",
         "0.1772",
         "0.1897",
         "0.1998"
        ],
        [
         "2025-03-17 00:00:00",
         "0.1586",
         "0.1693",
         "0.1897"
        ],
        [
         "2025-03-24 00:00:00",
         "0.1574",
         "0.1693",
         "0.1885"
        ]
       ],
       "shape": {
        "columns": 3,
        "rows": 5
       }
      },
      "text/html": [
       "<div>\n",
       "<style scoped>\n",
       "    .dataframe tbody tr th:only-of-type {\n",
       "        vertical-align: middle;\n",
       "    }\n",
       "\n",
       "    .dataframe tbody tr th {\n",
       "        vertical-align: top;\n",
       "    }\n",
       "\n",
       "    .dataframe thead th {\n",
       "        text-align: right;\n",
       "    }\n",
       "</style>\n",
       "<table border=\"1\" class=\"dataframe\">\n",
       "  <thead>\n",
       "    <tr style=\"text-align: right;\">\n",
       "      <th></th>\n",
       "      <th>91-day T-Bill Rate</th>\n",
       "      <th>182-day T-Bill Rate</th>\n",
       "      <th>364-day Rate</th>\n",
       "    </tr>\n",
       "    <tr>\n",
       "      <th>Date</th>\n",
       "      <th></th>\n",
       "      <th></th>\n",
       "      <th></th>\n",
       "    </tr>\n",
       "  </thead>\n",
       "  <tbody>\n",
       "    <tr>\n",
       "      <th>2025-02-24</th>\n",
       "      <td>0.244786</td>\n",
       "      <td>0.253874</td>\n",
       "      <td>0.272996</td>\n",
       "    </tr>\n",
       "    <tr>\n",
       "      <th>2025-03-03</th>\n",
       "      <td>0.207906</td>\n",
       "      <td>0.229851</td>\n",
       "      <td>0.226994</td>\n",
       "    </tr>\n",
       "    <tr>\n",
       "      <th>2025-03-10</th>\n",
       "      <td>0.177200</td>\n",
       "      <td>0.189700</td>\n",
       "      <td>0.199800</td>\n",
       "    </tr>\n",
       "    <tr>\n",
       "      <th>2025-03-17</th>\n",
       "      <td>0.158600</td>\n",
       "      <td>0.169300</td>\n",
       "      <td>0.189700</td>\n",
       "    </tr>\n",
       "    <tr>\n",
       "      <th>2025-03-24</th>\n",
       "      <td>0.157400</td>\n",
       "      <td>0.169300</td>\n",
       "      <td>0.188500</td>\n",
       "    </tr>\n",
       "  </tbody>\n",
       "</table>\n",
       "</div>"
      ],
      "text/plain": [
       "            91-day T-Bill Rate  182-day T-Bill Rate  364-day Rate\n",
       "Date                                                             \n",
       "2025-02-24            0.244786             0.253874      0.272996\n",
       "2025-03-03            0.207906             0.229851      0.226994\n",
       "2025-03-10            0.177200             0.189700      0.199800\n",
       "2025-03-17            0.158600             0.169300      0.189700\n",
       "2025-03-24            0.157400             0.169300      0.188500"
      ]
     },
     "execution_count": 5,
     "metadata": {},
     "output_type": "execute_result"
    }
   ],
   "source": [
    "data.tail()"
   ]
  },
  {
   "cell_type": "code",
   "execution_count": 6,
   "metadata": {},
   "outputs": [
    {
     "data": {
      "text/plain": [
       "91-day T-Bill Rate     0\n",
       "182-day T-Bill Rate    0\n",
       "364-day Rate           0\n",
       "dtype: int64"
      ]
     },
     "execution_count": 6,
     "metadata": {},
     "output_type": "execute_result"
    }
   ],
   "source": [
    "data.isna().sum()"
   ]
  },
  {
   "cell_type": "code",
   "execution_count": 7,
   "metadata": {},
   "outputs": [],
   "source": [
    "data.rename(columns={'91-day T-Bill Rate': '3_months', '182-day T-Bill Rate': '6_months', '364-day Rate': '1_year'}, inplace=True)"
   ]
  },
  {
   "cell_type": "code",
   "execution_count": 8,
   "metadata": {},
   "outputs": [
    {
     "data": {
      "application/vnd.microsoft.datawrangler.viewer.v0+json": {
       "columns": [
        {
         "name": "Date",
         "rawType": "datetime64[ns]",
         "type": "datetime"
        },
        {
         "name": "3_months",
         "rawType": "float64",
         "type": "float"
        },
        {
         "name": "6_months",
         "rawType": "float64",
         "type": "float"
        },
        {
         "name": "1_year",
         "rawType": "float64",
         "type": "float"
        }
       ],
       "conversionMethod": "pd.DataFrame",
       "ref": "f15d1a9e-6781-49bc-ae6d-f5f8e35efbac",
       "rows": [
        [
         "2013-11-13 00:00:00",
         "0.1935",
         "0.1925",
         "0.185"
        ],
        [
         "2013-11-20 00:00:00",
         "0.1866",
         "0.1911",
         "0.18"
        ],
        [
         "2013-11-27 00:00:00",
         "0.189",
         "0.193",
         "0.18"
        ],
        [
         "2013-12-02 00:00:00",
         "0.187",
         "0.191",
         "0.18"
        ],
        [
         "2013-12-09 00:00:00",
         "0.187",
         "0.188",
         "0.175"
        ]
       ],
       "shape": {
        "columns": 3,
        "rows": 5
       }
      },
      "text/html": [
       "<div>\n",
       "<style scoped>\n",
       "    .dataframe tbody tr th:only-of-type {\n",
       "        vertical-align: middle;\n",
       "    }\n",
       "\n",
       "    .dataframe tbody tr th {\n",
       "        vertical-align: top;\n",
       "    }\n",
       "\n",
       "    .dataframe thead th {\n",
       "        text-align: right;\n",
       "    }\n",
       "</style>\n",
       "<table border=\"1\" class=\"dataframe\">\n",
       "  <thead>\n",
       "    <tr style=\"text-align: right;\">\n",
       "      <th></th>\n",
       "      <th>3_months</th>\n",
       "      <th>6_months</th>\n",
       "      <th>1_year</th>\n",
       "    </tr>\n",
       "    <tr>\n",
       "      <th>Date</th>\n",
       "      <th></th>\n",
       "      <th></th>\n",
       "      <th></th>\n",
       "    </tr>\n",
       "  </thead>\n",
       "  <tbody>\n",
       "    <tr>\n",
       "      <th>2013-11-13</th>\n",
       "      <td>0.1935</td>\n",
       "      <td>0.1925</td>\n",
       "      <td>0.185</td>\n",
       "    </tr>\n",
       "    <tr>\n",
       "      <th>2013-11-20</th>\n",
       "      <td>0.1866</td>\n",
       "      <td>0.1911</td>\n",
       "      <td>0.180</td>\n",
       "    </tr>\n",
       "    <tr>\n",
       "      <th>2013-11-27</th>\n",
       "      <td>0.1890</td>\n",
       "      <td>0.1930</td>\n",
       "      <td>0.180</td>\n",
       "    </tr>\n",
       "    <tr>\n",
       "      <th>2013-12-02</th>\n",
       "      <td>0.1870</td>\n",
       "      <td>0.1910</td>\n",
       "      <td>0.180</td>\n",
       "    </tr>\n",
       "    <tr>\n",
       "      <th>2013-12-09</th>\n",
       "      <td>0.1870</td>\n",
       "      <td>0.1880</td>\n",
       "      <td>0.175</td>\n",
       "    </tr>\n",
       "  </tbody>\n",
       "</table>\n",
       "</div>"
      ],
      "text/plain": [
       "            3_months  6_months  1_year\n",
       "Date                                  \n",
       "2013-11-13    0.1935    0.1925   0.185\n",
       "2013-11-20    0.1866    0.1911   0.180\n",
       "2013-11-27    0.1890    0.1930   0.180\n",
       "2013-12-02    0.1870    0.1910   0.180\n",
       "2013-12-09    0.1870    0.1880   0.175"
      ]
     },
     "execution_count": 8,
     "metadata": {},
     "output_type": "execute_result"
    }
   ],
   "source": [
    "data.head()"
   ]
  },
  {
   "cell_type": "code",
   "execution_count": 9,
   "metadata": {},
   "outputs": [
    {
     "data": {
      "image/png": "[encoded data removed]",
      "text/plain": [
       "<Figure size 1000x600 with 1 Axes>"
      ]
     },
     "metadata": {},
     "output_type": "display_data"
    }
   ],
   "source": [
    "#plotting the data\n",
    "plt.figure(figsize=(10, 6))\n",
    "sns.lineplot(data=data)\n",
    "plt.title('Treasury Bill Rates')\n",
    "plt.xlabel('Date')\n",
    "plt.ylabel('Rates')\n",
    "\n",
    "plt.show()"
   ]
  },
  {
   "cell_type": "markdown",
   "metadata": {},
   "source": [
    "### Volatility Modeling"
   ]
  },
  {
   "cell_type": "code",
   "execution_count": 19,
   "metadata": {},
   "outputs": [],
   "source": [
    "# Rescale the target variable\n",
    "data['3_months'] = data['3_months'] * 100\n",
    "data['6_months'] = data['6_months'] * 100\n",
    "data['1_year'] = data['1_year'] * 100\n"
   ]
  },
  {
   "cell_type": "code",
   "execution_count": 24,
   "metadata": {},
   "outputs": [
    {
     "name": "stdout",
     "output_type": "stream",
     "text": [
      "\n",
      "No valid GARCH model configuration was found.\n"
     ]
    }
   ],
   "source": [
    "# Define search ranges for p, q\n",
    "p = range(1, 4)\n",
    "q = range(1, 4)\n",
    "\n",
    "best_score, best_aic, best_bic, best_ll = float(\"inf\"), float(\"inf\"), float(\"inf\"), -float(\"inf\")\n",
    "best_cfg = None\n",
    "\n",
    "# Iterate over all combinations of (p, q)\n",
    "for p, q in itertools.product(p, q):\n",
    "    try:\n",
    "        # Fit GARCH model without exogenous variables\n",
    "        model = arch_model(data['3_months'], vol=\"Garch\", p=p, q=q)\n",
    "        results = model.fit(disp=\"off\")\n",
    "\n",
    "        # Evaluate model performance\n",
    "        aic, bic, log_likelihood = results.aic, results.bic, results.loglikelihood\n",
    "        predictions = results.forecast(horizon=3, reindex=False).variance.mean(axis=1)\n",
    "        mse = mean_squared_error(data['3_months'][-3:], predictions)\n",
    "\n",
    "        # Update best model criteria\n",
    "        if mse < best_score:\n",
    "            best_score, best_aic, best_bic, best_ll = mse, aic, bic, log_likelihood\n",
    "            best_cfg = (p, q)\n",
    "            print(f\"New Best Model: GARCH({p}, {q}) -> MSE: {mse:.5f}, AIC: {aic:.2f}, BIC: {bic:.2f}, LL: {log_likelihood:.2f}\")\n",
    "\n",
    "    except Exception as e:\n",
    "        continue  # Skip models that fail to converge\n",
    "\n",
    "# Display final best model\n",
    "if best_cfg is not None:\n",
    "    print(f\"\\nBest GARCH Model: ({best_cfg[0]}, {best_cfg[1]}) with MSE: {best_score:.5f}, AIC: {best_aic:.2f}, BIC: {best_bic:.2f}, Log-Likelihood: {best_ll:.2f}\")\n",
    "else:\n",
    "    print(\"\\nNo valid GARCH model configuration was found.\")"
   ]
  },
  {
   "cell_type": "code",
   "execution_count": null,
   "metadata": {},
   "outputs": [],
   "source": [
    "# Extract volatility from the best model\n",
    "data[\"GARCH_Volatility\"] = best_garch_result.conditional_volatility"
   ]
  },
  {
   "cell_type": "code",
   "execution_count": null,
   "metadata": {},
   "outputs": [],
   "source": [
    "# Prepare dataset for XGBoost\n",
    "X = data[[\"TBill_Lag1\", \"TBill_Lag2\", \"GARCH_Volatility\"] + exog_vars]\n",
    "y = data[\"TBill_Rate\"]"
   ]
  },
  {
   "cell_type": "code",
   "execution_count": null,
   "metadata": {},
   "outputs": [],
   "source": [
    "# Train-test split\n",
    "X_train, X_test, y_train, y_test = train_test_split(X, y, test_size=0.2, shuffle=False)"
   ]
  },
  {
   "cell_type": "code",
   "execution_count": null,
   "metadata": {},
   "outputs": [],
   "source": [
    "# Optimize XGBoost using Optuna\n",
    "def objective(trial):\n",
    "    params = {\n",
    "        \"max_depth\": trial.suggest_int(\"max_depth\", 2, 6),\n",
    "        \"learning_rate\": trial.suggest_loguniform(\"learning_rate\", 0.01, 0.3),\n",
    "        \"n_estimators\": trial.suggest_int(\"n_estimators\", 50, 200),\n",
    "    }\n",
    "    model = xgb.XGBRegressor(objective=\"reg:squarederror\", **params)\n",
    "    model.fit(X_train, y_train)\n",
    "    y_pred = model.predict(X_test)\n",
    "    return mean_squared_error(y_test, y_pred)\n",
    "\n",
    "study = optuna.create_study(direction=\"minimize\")\n",
    "study.optimize(objective, n_trials=20)\n"
   ]
  },
  {
   "cell_type": "code",
   "execution_count": null,
   "metadata": {},
   "outputs": [],
   "source": [
    "# Train final XGBoost model with best parameters\n",
    "best_params = study.best_params\n",
    "xgb_model = xgb.XGBRegressor(objective=\"reg:squarederror\", **best_params)\n",
    "xgb_model.fit(X_train, y_train)"
   ]
  },
  {
   "cell_type": "code",
   "execution_count": null,
   "metadata": {},
   "outputs": [],
   "source": [
    "# Make predictions\n",
    "y_pred = xgb_model.predict(X_test)"
   ]
  },
  {
   "cell_type": "code",
   "execution_count": null,
   "metadata": {},
   "outputs": [],
   "source": [
    "# Evaluate model\n",
    "rmse = np.sqrt(mean_squared_error(y_test, y_pred))\n",
    "r2 = r2_score(y_test, y_pred)\n",
    "\n",
    "print(f\"Final XGBoost Model RMSE: {rmse:.4f}\")\n",
    "print(f\"Final XGBoost Model R² Score: {r2:.4f}\")"
   ]
  }
 ],
 "metadata": {
  "kernelspec": {
   "display_name": "base",
   "language": "python",
   "name": "python3"
  },
  "language_info": {
   "codemirror_mode": {
    "name": "ipython",
    "version": 3
   },
   "file_extension": ".py",
   "mimetype": "text/x-python",
   "name": "python",
   "nbconvert_exporter": "python",
   "pygments_lexer": "ipython3",
   "version": "3.12.7"
  }
 },
 "nbformat": 4,
 "nbformat_minor": 2
}
