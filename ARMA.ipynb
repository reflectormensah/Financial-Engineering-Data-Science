{
  "cells": [
    {
      "cell_type": "markdown",
      "metadata": {
        "id": "view-in-github",
        "colab_type": "text"
      },
      "source": [
        "<a href=\"https://colab.research.google.com/github/reflectormensah/Financial-Engineering-Data-Science/blob/main/ARMA.ipynb\" target=\"_parent\"><img src=\"https://colab.research.google.com/assets/colab-badge.svg\" alt=\"Open In Colab\"/></a>"
      ]
    },
    {
      "cell_type": "code",
      "execution_count": null,
      "metadata": {
        "colab": {
          "base_uri": "https://localhost:8080/"
        },
        "id": "SH24Gz8jDvUK",
        "outputId": "f702fc63-c54a-4151-e3dc-90e26f2cba45"
      },
      "outputs": [
        {
          "output_type": "stream",
          "name": "stdout",
          "text": [
            "Requirement already satisfied: nelson_siegel_svensson in /usr/local/lib/python3.7/dist-packages (0.4.2)\n",
            "Requirement already satisfied: numpy>=1.14 in /usr/local/lib/python3.7/dist-packages (from nelson_siegel_svensson) (1.19.5)\n",
            "Requirement already satisfied: Click>=6.0 in /usr/local/lib/python3.7/dist-packages (from nelson_siegel_svensson) (7.1.2)\n",
            "Requirement already satisfied: matplotlib>=3.0 in /usr/local/lib/python3.7/dist-packages (from nelson_siegel_svensson) (3.2.2)\n",
            "Requirement already satisfied: scipy>=1.2 in /usr/local/lib/python3.7/dist-packages (from nelson_siegel_svensson) (1.4.1)\n",
            "Requirement already satisfied: cycler>=0.10 in /usr/local/lib/python3.7/dist-packages (from matplotlib>=3.0->nelson_siegel_svensson) (0.11.0)\n",
            "Requirement already satisfied: python-dateutil>=2.1 in /usr/local/lib/python3.7/dist-packages (from matplotlib>=3.0->nelson_siegel_svensson) (2.8.2)\n",
            "Requirement already satisfied: pyparsing!=2.0.4,!=2.1.2,!=2.1.6,>=2.0.1 in /usr/local/lib/python3.7/dist-packages (from matplotlib>=3.0->nelson_siegel_svensson) (3.0.6)\n",
            "Requirement already satisfied: kiwisolver>=1.0.1 in /usr/local/lib/python3.7/dist-packages (from matplotlib>=3.0->nelson_siegel_svensson) (1.3.2)\n",
            "Requirement already satisfied: six>=1.5 in /usr/local/lib/python3.7/dist-packages (from python-dateutil>=2.1->matplotlib>=3.0->nelson_siegel_svensson) (1.15.0)\n",
            "Requirement already satisfied: yfinance in /usr/local/lib/python3.7/dist-packages (0.1.68)\n",
            "Requirement already satisfied: pandas>=0.24 in /usr/local/lib/python3.7/dist-packages (from yfinance) (1.1.5)\n",
            "Requirement already satisfied: requests>=2.26 in /usr/local/lib/python3.7/dist-packages (from yfinance) (2.27.1)\n",
            "Requirement already satisfied: numpy>=1.15 in /usr/local/lib/python3.7/dist-packages (from yfinance) (1.19.5)\n",
            "Requirement already satisfied: lxml>=4.5.1 in /usr/local/lib/python3.7/dist-packages (from yfinance) (4.7.1)\n",
            "Requirement already satisfied: multitasking>=0.0.7 in /usr/local/lib/python3.7/dist-packages (from yfinance) (0.0.10)\n",
            "Requirement already satisfied: python-dateutil>=2.7.3 in /usr/local/lib/python3.7/dist-packages (from pandas>=0.24->yfinance) (2.8.2)\n",
            "Requirement already satisfied: pytz>=2017.2 in /usr/local/lib/python3.7/dist-packages (from pandas>=0.24->yfinance) (2018.9)\n",
            "Requirement already satisfied: six>=1.5 in /usr/local/lib/python3.7/dist-packages (from python-dateutil>=2.7.3->pandas>=0.24->yfinance) (1.15.0)\n",
            "Requirement already satisfied: urllib3<1.27,>=1.21.1 in /usr/local/lib/python3.7/dist-packages (from requests>=2.26->yfinance) (1.24.3)\n",
            "Requirement already satisfied: idna<4,>=2.5 in /usr/local/lib/python3.7/dist-packages (from requests>=2.26->yfinance) (2.10)\n",
            "Requirement already satisfied: certifi>=2017.4.17 in /usr/local/lib/python3.7/dist-packages (from requests>=2.26->yfinance) (2021.10.8)\n",
            "Requirement already satisfied: charset-normalizer~=2.0.0 in /usr/local/lib/python3.7/dist-packages (from requests>=2.26->yfinance) (2.0.10)\n"
          ]
        }
      ],
      "source": [
        "# from google.colab import drive\n",
        "# drive.mount('/content/drive')\n",
        "\n",
        "!pip install nelson_siegel_svensson\n",
        "! pip install yfinance"
      ]
    },
    {
      "cell_type": "code",
      "execution_count": null,
      "metadata": {
        "colab": {
          "base_uri": "https://localhost:8080/"
        },
        "id": "NwVCL3WtEztt",
        "outputId": "83478066-04f2-42ee-c444-11b18a476dcf"
      },
      "outputs": [
        {
          "output_type": "stream",
          "name": "stderr",
          "text": [
            "/usr/local/lib/python3.7/dist-packages/statsmodels/tools/_testing.py:19: FutureWarning: pandas.util.testing is deprecated. Use the functions in the public API at pandas.testing instead.\n",
            "  import pandas.util.testing as tm\n"
          ]
        },
        {
          "output_type": "stream",
          "name": "stdout",
          "text": [
            "\r[                       0%                       ]\r[*********************100%***********************]  2 of 2 completed\n"
          ]
        }
      ],
      "source": [
        "import yfinance as yf\n",
        "import pandas as pd\n",
        "import datetime as dt\n",
        "import numpy as np\n",
        "import statsmodels.api as sm\n",
        "import pandas_datareader as pdr\n",
        "from nelson_siegel_svensson.calibrate import calibrate_ns_ols\n",
        "\n",
        "# Step 0 Define some useful variables\n",
        "start_date = \"2019-10-01\"\n",
        "end_date = \"2019-11-30\"\n",
        "\n",
        "# Step 1 Source ISFD.L (FTSE ETF) and IGLN.L (Gold ETF) price data & join them together\n",
        "data_etf = yf.download(\"ISFD.L IGLN.L\", start=start_date, end=end_date).reset_index()\n",
        "data_etf[\"Date\"] = [ ele.date() for ele in data_etf[\"Date\"] ]\n",
        "data_etf = data_etf.set_index(\"Date\")\n",
        "data_etf = data_etf[[\"Date\", \"Adj Close\"]]\n",
        "data_etf.columns = [ x.replace(\".L\",\"\") for x in data_etf.columns.get_level_values(1) ]\n",
        "data_etf = data_etf.reset_index()\n",
        "\n",
        "data_ir = pdr.DataReader(['DGS2', 'DGS3', 'DGS5', 'DGS7', 'DGS10', 'DGS30'], 'fred', start_date, end_date).fillna(method='ffill').reset_index().rename(columns={\"DATE\": \"Date\"})\n",
        "data_ir[\"Date\"] = [ ele.date() for ele in data_ir[\"Date\"] ]\n",
        "data_ir = data_ir.rename(columns={'DGS2':\"2Y\", 'DGS3':\"3Y\", 'DGS5':\"5Y\", 'DGS7':\"7Y\", 'DGS10':\"10Y\", 'DGS30':\"30Y\"})\n",
        "\n",
        "assert len(data_etf[\"Date\"])==len(data_ir[\"Date\"])\n",
        "\n",
        "data_full = data_etf.merge(data_ir, left_on=\"Date\", right_on=\"Date\", how=\"outer\")\n",
        "\n",
        "# Step 2 Compute ETF daily returns\n",
        "data_full[\"ISFD_R\"] = data_full[\"ISFD\"]/data_full[\"ISFD\"].shift(1)-1\n",
        "data_full[\"IGLN_R\"] = data_full[\"IGLN\"]/data_full[\"IGLN\"].shift(1)-1\n",
        "data_full[\"Month\"] = [ x.strftime(\"%b\") for x in data_full[\"Date\"] ]\n",
        "\n",
        "data_full_avg = data_full.groupby(\"Month\").agg([\"mean\", \"std\"])\n",
        "\n",
        "# Step 3 Compute monthly mean and std dev for ETF and benchmarks\n",
        "data_full[\"ISFD_R\"] = data_full[\"ISFD\"]/data_full[\"ISFD\"].shift(1)-1\n",
        "data_full[\"IGLN_R\"] = data_full[\"IGLN\"]/data_full[\"IGLN\"].shift(1)-1\n",
        "data_full[\"Month\"] = [ x.strftime(\"%b\") for x in data_full[\"Date\"] ]\n",
        "\n",
        "data_full_avg = data_full.groupby(\"Month\").agg([\"mean\", \"std\"])\n"
      ]
    },
    {
      "cell_type": "code",
      "execution_count": null,
      "metadata": {
        "colab": {
          "base_uri": "https://localhost:8080/",
          "height": 296
        },
        "id": "ucRJ-admFcNb",
        "outputId": "413c037e-b794-4259-d00c-65bb5ecc1df9"
      },
      "outputs": [
        {
          "output_type": "execute_result",
          "data": {
            "text/plain": [
              "<matplotlib.axes._subplots.AxesSubplot at 0x7f8d5ce70f50>"
            ]
          },
          "metadata": {},
          "execution_count": 10
        },
        {
          "output_type": "display_data",
          "data": {
            "image/png": "[encoded data removed]",
            "text/plain": [
              "<Figure size 432x288 with 1 Axes>"
            ]
          },
          "metadata": {
            "needs_background": "light"
          }
        }
      ],
      "source": [
        "# Step 4 Perform some graphing as required\n",
        "data_full.set_index(\"Date\")[[\"2Y\", \"3Y\", \"5Y\", \"7Y\", \"10Y\", \"30Y\"]].plot()"
      ]
    },
    {
      "cell_type": "code",
      "execution_count": null,
      "metadata": {
        "colab": {
          "base_uri": "https://localhost:8080/",
          "height": 299
        },
        "id": "1U2fuPfNFz6S",
        "outputId": "e18ad895-9ff7-423b-b90a-bb43467f8a76"
      },
      "outputs": [
        {
          "output_type": "execute_result",
          "data": {
            "text/plain": [
              "<matplotlib.axes._subplots.AxesSubplot at 0x7f8d7d7b4e90>"
            ]
          },
          "metadata": {},
          "execution_count": 11
        },
        {
          "output_type": "display_data",
          "data": {
            "image/png": "[encoded data removed]",
            "text/plain": [
              "<Figure size 432x288 with 2 Axes>"
            ]
          },
          "metadata": {
            "needs_background": "light"
          }
        }
      ],
      "source": [
        "# Step 4 Perform some graphing as required\n",
        "ax = data_full.plot('Date','ISFD')\n",
        "ax1 = ax.twinx()\n",
        "data_full.plot('Date','IGLN',ax=ax1, color='r')"
      ]
    },
    {
      "cell_type": "code",
      "execution_count": null,
      "metadata": {
        "id": "n4deIZtYF74Z"
      },
      "outputs": [],
      "source": [
        "# Step 5 Write down the Nelson SIegel Equation"
      ]
    },
    {
      "cell_type": "markdown",
      "metadata": {
        "id": "wBNyje-fGLUW"
      },
      "source": [
        "### Nelson Siegel Equation\n",
        "\n",
        "\\begin{equation*}\n",
        "f(m) = \\beta_{0} + \\beta_{1} e^\\frac{-m}{\\tau} + \\frac{-m}{t} \\beta_{2} e^\\frac{-m}{\\tau}\n",
        "\\end{equation*}"
      ]
    },
    {
      "cell_type": "code",
      "execution_count": null,
      "metadata": {
        "id": "IDK9ZXYrGQ9V"
      },
      "outputs": [],
      "source": [
        "# Step 5 FItting the Nelson Siegel yield curve for Oct and Nov\n",
        "\n",
        "for idx, row in data_full.iterrows():\n",
        "    t = np.array([ 2.0, 3.0, 5.0, 7.0, 10.0, 30.0 ])\n",
        "    y = np.array([ row[\"2Y\"], row[\"3Y\"], row[\"5Y\"], row[\"7Y\"], row[\"10Y\"], row[\"30Y\"] ])\n",
        "    curve, status = calibrate_ns_ols(t, y, tau0=1.0)  # starting value of 1.0 for the optimization of tau\n",
        "    assert status.success\n",
        "    data_full.at[idx,\"NS_beta0\"] = curve.beta0\n",
        "    data_full.at[idx,\"NS_beta1\"] = curve.beta1\n",
        "    data_full.at[idx,\"NS_beta2\"] = curve.beta2\n",
        "    data_full.at[idx,\"NS_tau\"] = curve.tau"
      ]
    },
    {
      "cell_type": "code",
      "execution_count": null,
      "metadata": {
        "scrolled": true,
        "colab": {
          "base_uri": "https://localhost:8080/",
          "height": 296
        },
        "id": "JYQAsvtWk0dD",
        "outputId": "45b66b2e-726d-41a8-d16f-d393ba5628f4"
      },
      "outputs": [
        {
          "output_type": "execute_result",
          "data": {
            "text/plain": [
              "<matplotlib.axes._subplots.AxesSubplot at 0x7f8d5c7d4290>"
            ]
          },
          "metadata": {},
          "execution_count": 14
        },
        {
          "output_type": "display_data",
          "data": {
            "image/png": "[encoded data removed]",
            "text/plain": [
              "<Figure size 432x288 with 1 Axes>"
            ]
          },
          "metadata": {
            "needs_background": "light"
          }
        }
      ],
      "source": [
        "data_full.set_index(\"Date\")[[\"NS_beta0\", \"NS_beta1\", \"NS_beta2\", \"NS_tau\"]].plot()"
      ]
    },
    {
      "cell_type": "markdown",
      "metadata": {
        "id": "G_y758gak0dV"
      },
      "source": [
        "#### Step 5.4 What are the significant changes?\n",
        "From the plot of the different beta and tau parameters, we can see that beta2 and tau are the 2 parameters which increase materially over the Oct-Nov period in reaction to the Fed Reserve's interest rate decisions.\n",
        "The impact of the Fed decision on interest rates resulted in a steepening in the yield curve where the long term interest rates increased by a larger amount than short term interest rates.\n",
        "The different Nelson Siegel parameters changed in line with the yield curve steepening, whereby an increase in beta2 and tau will lead to a diminishing value of the third term in the Nelson Siegel equation, which manifests itself in terms of an increased steepness of the calculated function value f(m)"
      ]
    },
    {
      "cell_type": "markdown",
      "metadata": {
        "id": "l0aaOxeRGCP_"
      },
      "source": []
    },
    {
      "cell_type": "code",
      "execution_count": null,
      "metadata": {
        "id": "6MUJeegNGcGH"
      },
      "outputs": [],
      "source": [
        "# Step 6 ARMA Modeling Pricing for Oct and Nov for Gold ETF\n",
        "from statsmodels.graphics.tsaplots import plot_acf, plot_pacf\n",
        "from statsmodels.tsa.arima_process import ArmaProcess\n",
        "from statsmodels.tsa.arima_model import ARIMA\n",
        "\n",
        "import matplotlib.pyplot as plt\n",
        "import numpy as np\n",
        "\n",
        "import warnings\n",
        "warnings.filterwarnings('ignore')\n",
        "\n",
        "%matplotlib inline"
      ]
    },
    {
      "cell_type": "code",
      "execution_count": null,
      "metadata": {
        "id": "zCK4Y8MY91no"
      },
      "outputs": [],
      "source": [
        "# Filtering the DataFrame for Oct and Nov months separately\n",
        "data_full_oct = data_full[data_full[\"Month\"]==\"Oct\"]\n",
        "data_full_nov = data_full[data_full[\"Month\"]==\"Nov\"]"
      ]
    },
    {
      "cell_type": "markdown",
      "metadata": {
        "id": "td7OFPtg92ar"
      },
      "source": [
        "MODEL 1 FOR GOLD IN OCTOBER, ARMA(1,1)"
      ]
    },
    {
      "cell_type": "code",
      "execution_count": null,
      "metadata": {
        "id": "FOEndPg0GhZv",
        "colab": {
          "base_uri": "https://localhost:8080/",
          "height": 339
        },
        "outputId": "ab7a2e44-af68-4437-aa52-4a2f6209f915"
      },
      "outputs": [
        {
          "output_type": "execute_result",
          "data": {
            "text/html": [
              "<table class=\"simpletable\">\n",
              "<caption>ARMA Model Results</caption>\n",
              "<tr>\n",
              "  <th>Dep. Variable:</th>       <td>IGLN</td>       <th>  No. Observations:  </th>   <td>23</td>   \n",
              "</tr>\n",
              "<tr>\n",
              "  <th>Model:</th>            <td>ARMA(1, 1)</td>    <th>  Log Likelihood     </th>  <td>9.066</td> \n",
              "</tr>\n",
              "<tr>\n",
              "  <th>Method:</th>             <td>css-mle</td>     <th>  S.D. of innovations</th>  <td>0.162</td> \n",
              "</tr>\n",
              "<tr>\n",
              "  <th>Date:</th>          <td>Tue, 11 Jan 2022</td> <th>  AIC                </th> <td>-10.132</td>\n",
              "</tr>\n",
              "<tr>\n",
              "  <th>Time:</th>              <td>05:37:24</td>     <th>  BIC                </th> <td>-5.590</td> \n",
              "</tr>\n",
              "<tr>\n",
              "  <th>Sample:</th>                <td>0</td>        <th>  HQIC               </th> <td>-8.990</td> \n",
              "</tr>\n",
              "<tr>\n",
              "  <th></th>                       <td> </td>        <th>                     </th>    <td> </td>   \n",
              "</tr>\n",
              "</table>\n",
              "<table class=\"simpletable\">\n",
              "<tr>\n",
              "       <td></td>         <th>coef</th>     <th>std err</th>      <th>z</th>      <th>P>|z|</th>  <th>[0.025</th>    <th>0.975]</th>  \n",
              "</tr>\n",
              "<tr>\n",
              "  <th>const</th>      <td>   29.2788</td> <td>    0.054</td> <td>  539.156</td> <td> 0.000</td> <td>   29.172</td> <td>   29.385</td>\n",
              "</tr>\n",
              "<tr>\n",
              "  <th>ar.L1.IGLN</th> <td>    0.1477</td> <td>    0.354</td> <td>    0.418</td> <td> 0.681</td> <td>   -0.545</td> <td>    0.841</td>\n",
              "</tr>\n",
              "<tr>\n",
              "  <th>ma.L1.IGLN</th> <td>    0.3960</td> <td>    0.297</td> <td>    1.333</td> <td> 0.197</td> <td>   -0.186</td> <td>    0.978</td>\n",
              "</tr>\n",
              "</table>\n",
              "<table class=\"simpletable\">\n",
              "<caption>Roots</caption>\n",
              "<tr>\n",
              "    <td></td>   <th>            Real</th>  <th>         Imaginary</th> <th>         Modulus</th>  <th>        Frequency</th>\n",
              "</tr>\n",
              "<tr>\n",
              "  <th>AR.1</th> <td>           6.7706</td> <td>          +0.0000j</td> <td>           6.7706</td> <td>           0.0000</td>\n",
              "</tr>\n",
              "<tr>\n",
              "  <th>MA.1</th> <td>          -2.5254</td> <td>          +0.0000j</td> <td>           2.5254</td> <td>           0.5000</td>\n",
              "</tr>\n",
              "</table>"
            ],
            "text/plain": [
              "<class 'statsmodels.iolib.summary.Summary'>\n",
              "\"\"\"\n",
              "                              ARMA Model Results                              \n",
              "==============================================================================\n",
              "Dep. Variable:                   IGLN   No. Observations:                   23\n",
              "Model:                     ARMA(1, 1)   Log Likelihood                   9.066\n",
              "Method:                       css-mle   S.D. of innovations              0.162\n",
              "Date:                Tue, 11 Jan 2022   AIC                            -10.132\n",
              "Time:                        05:37:24   BIC                             -5.590\n",
              "Sample:                             0   HQIC                            -8.990\n",
              "                                                                              \n",
              "==============================================================================\n",
              "                 coef    std err          z      P>|z|      [0.025      0.975]\n",
              "------------------------------------------------------------------------------\n",
              "const         29.2788      0.054    539.156      0.000      29.172      29.385\n",
              "ar.L1.IGLN     0.1477      0.354      0.418      0.681      -0.545       0.841\n",
              "ma.L1.IGLN     0.3960      0.297      1.333      0.197      -0.186       0.978\n",
              "                                    Roots                                    \n",
              "=============================================================================\n",
              "                  Real          Imaginary           Modulus         Frequency\n",
              "-----------------------------------------------------------------------------\n",
              "AR.1            6.7706           +0.0000j            6.7706            0.0000\n",
              "MA.1           -2.5254           +0.0000j            2.5254            0.5000\n",
              "-----------------------------------------------------------------------------\n",
              "\"\"\""
            ]
          },
          "metadata": {},
          "execution_count": 23
        }
      ],
      "source": [
        "oct_gold_model = ARIMA( data_full_oct['IGLN'], order=(1,0,1)).fit()\n",
        "oct_gold_model.summary()"
      ]
    },
    {
      "cell_type": "markdown",
      "metadata": {
        "id": "SClSwaQ_ytL9"
      },
      "source": [
        "MODEL 1 FOR GOLD IN NOVEMBER, ARMA(1,1)"
      ]
    },
    {
      "cell_type": "code",
      "execution_count": null,
      "metadata": {
        "id": "Mbe8mLIGy4bA",
        "colab": {
          "base_uri": "https://localhost:8080/",
          "height": 339
        },
        "outputId": "be340ba9-d0b0-444d-b648-ffe7220dd628"
      },
      "outputs": [
        {
          "output_type": "execute_result",
          "data": {
            "text/html": [
              "<table class=\"simpletable\">\n",
              "<caption>ARMA Model Results</caption>\n",
              "<tr>\n",
              "  <th>Dep. Variable:</th>       <td>IGLN</td>       <th>  No. Observations:  </th>   <td>21</td>  \n",
              "</tr>\n",
              "<tr>\n",
              "  <th>Model:</th>            <td>ARMA(1, 1)</td>    <th>  Log Likelihood     </th>  <td>5.220</td>\n",
              "</tr>\n",
              "<tr>\n",
              "  <th>Method:</th>             <td>css-mle</td>     <th>  S.D. of innovations</th>  <td>0.182</td>\n",
              "</tr>\n",
              "<tr>\n",
              "  <th>Date:</th>          <td>Tue, 11 Jan 2022</td> <th>  AIC                </th> <td>-2.440</td>\n",
              "</tr>\n",
              "<tr>\n",
              "  <th>Time:</th>              <td>05:37:35</td>     <th>  BIC                </th>  <td>1.739</td>\n",
              "</tr>\n",
              "<tr>\n",
              "  <th>Sample:</th>                <td>0</td>        <th>  HQIC               </th> <td>-1.533</td>\n",
              "</tr>\n",
              "<tr>\n",
              "  <th></th>                       <td> </td>        <th>                     </th>    <td> </td>  \n",
              "</tr>\n",
              "</table>\n",
              "<table class=\"simpletable\">\n",
              "<tr>\n",
              "       <td></td>         <th>coef</th>     <th>std err</th>      <th>z</th>      <th>P>|z|</th>  <th>[0.025</th>    <th>0.975]</th>  \n",
              "</tr>\n",
              "<tr>\n",
              "  <th>const</th>      <td>   28.9136</td> <td>    0.268</td> <td>  107.774</td> <td> 0.000</td> <td>   28.388</td> <td>   29.439</td>\n",
              "</tr>\n",
              "<tr>\n",
              "  <th>ar.L1.IGLN</th> <td>    0.8848</td> <td>    0.127</td> <td>    6.979</td> <td> 0.000</td> <td>    0.636</td> <td>    1.133</td>\n",
              "</tr>\n",
              "<tr>\n",
              "  <th>ma.L1.IGLN</th> <td>   -0.0477</td> <td>    0.199</td> <td>   -0.239</td> <td> 0.814</td> <td>   -0.438</td> <td>    0.343</td>\n",
              "</tr>\n",
              "</table>\n",
              "<table class=\"simpletable\">\n",
              "<caption>Roots</caption>\n",
              "<tr>\n",
              "    <td></td>   <th>            Real</th>  <th>         Imaginary</th> <th>         Modulus</th>  <th>        Frequency</th>\n",
              "</tr>\n",
              "<tr>\n",
              "  <th>AR.1</th> <td>           1.1303</td> <td>          +0.0000j</td> <td>           1.1303</td> <td>           0.0000</td>\n",
              "</tr>\n",
              "<tr>\n",
              "  <th>MA.1</th> <td>          20.9730</td> <td>          +0.0000j</td> <td>          20.9730</td> <td>           0.0000</td>\n",
              "</tr>\n",
              "</table>"
            ],
            "text/plain": [
              "<class 'statsmodels.iolib.summary.Summary'>\n",
              "\"\"\"\n",
              "                              ARMA Model Results                              \n",
              "==============================================================================\n",
              "Dep. Variable:                   IGLN   No. Observations:                   21\n",
              "Model:                     ARMA(1, 1)   Log Likelihood                   5.220\n",
              "Method:                       css-mle   S.D. of innovations              0.182\n",
              "Date:                Tue, 11 Jan 2022   AIC                             -2.440\n",
              "Time:                        05:37:35   BIC                              1.739\n",
              "Sample:                             0   HQIC                            -1.533\n",
              "                                                                              \n",
              "==============================================================================\n",
              "                 coef    std err          z      P>|z|      [0.025      0.975]\n",
              "------------------------------------------------------------------------------\n",
              "const         28.9136      0.268    107.774      0.000      28.388      29.439\n",
              "ar.L1.IGLN     0.8848      0.127      6.979      0.000       0.636       1.133\n",
              "ma.L1.IGLN    -0.0477      0.199     -0.239      0.814      -0.438       0.343\n",
              "                                    Roots                                    \n",
              "=============================================================================\n",
              "                  Real          Imaginary           Modulus         Frequency\n",
              "-----------------------------------------------------------------------------\n",
              "AR.1            1.1303           +0.0000j            1.1303            0.0000\n",
              "MA.1           20.9730           +0.0000j           20.9730            0.0000\n",
              "-----------------------------------------------------------------------------\n",
              "\"\"\""
            ]
          },
          "metadata": {},
          "execution_count": 24
        }
      ],
      "source": [
        "nov_gold_model = ARIMA(data_full_nov['IGLN'], order=(1,0,1)).fit()\n",
        "nov_gold_model.summary()"
      ]
    },
    {
      "cell_type": "markdown",
      "source": [
        "In Gold Prices, constant coefficient got decreased by approximately 36 points. Autoregression regression coefficient increased by approximately 73 points and moving average decreased by approximately 44 points. This shows that autogressive parameter is more stronger in November, signifying stronger relation to previous period. The moving average parameter is weak as it reduced in november in relation to previous period. This signifies a weak relationship in relation to prediction period"
      ],
      "metadata": {
        "id": "hPELNtrbrGl0"
      }
    },
    {
      "cell_type": "markdown",
      "metadata": {
        "id": "4tYT0HS0zwTP"
      },
      "source": [
        "MODEL 1 FOR EQUITY IN OCTOBER, ARMA(1,1)"
      ]
    },
    {
      "cell_type": "code",
      "execution_count": null,
      "metadata": {
        "id": "teuNPyda-XXQ",
        "colab": {
          "base_uri": "https://localhost:8080/",
          "height": 339
        },
        "outputId": "8b6004e6-eb68-4a9f-e3fe-2d17b1d78f10"
      },
      "outputs": [
        {
          "output_type": "execute_result",
          "data": {
            "text/html": [
              "<table class=\"simpletable\">\n",
              "<caption>ARMA Model Results</caption>\n",
              "<tr>\n",
              "  <th>Dep. Variable:</th>       <td>ISFD</td>       <th>  No. Observations:  </th>   <td>23</td>   \n",
              "</tr>\n",
              "<tr>\n",
              "  <th>Model:</th>            <td>ARMA(1, 1)</td>    <th>  Log Likelihood     </th> <td>38.366</td> \n",
              "</tr>\n",
              "<tr>\n",
              "  <th>Method:</th>             <td>css-mle</td>     <th>  S.D. of innovations</th>  <td>0.045</td> \n",
              "</tr>\n",
              "<tr>\n",
              "  <th>Date:</th>          <td>Tue, 11 Jan 2022</td> <th>  AIC                </th> <td>-68.732</td>\n",
              "</tr>\n",
              "<tr>\n",
              "  <th>Time:</th>              <td>05:37:43</td>     <th>  BIC                </th> <td>-64.190</td>\n",
              "</tr>\n",
              "<tr>\n",
              "  <th>Sample:</th>                <td>0</td>        <th>  HQIC               </th> <td>-67.590</td>\n",
              "</tr>\n",
              "<tr>\n",
              "  <th></th>                       <td> </td>        <th>                     </th>    <td> </td>   \n",
              "</tr>\n",
              "</table>\n",
              "<table class=\"simpletable\">\n",
              "<tr>\n",
              "       <td></td>         <th>coef</th>     <th>std err</th>      <th>z</th>      <th>P>|z|</th>  <th>[0.025</th>    <th>0.975]</th>  \n",
              "</tr>\n",
              "<tr>\n",
              "  <th>const</th>      <td>    5.4044</td> <td>    0.025</td> <td>  215.549</td> <td> 0.000</td> <td>    5.355</td> <td>    5.454</td>\n",
              "</tr>\n",
              "<tr>\n",
              "  <th>ar.L1.ISFD</th> <td>    0.5163</td> <td>    0.237</td> <td>    2.180</td> <td> 0.041</td> <td>    0.052</td> <td>    0.981</td>\n",
              "</tr>\n",
              "<tr>\n",
              "  <th>ma.L1.ISFD</th> <td>    0.3437</td> <td>    0.252</td> <td>    1.364</td> <td> 0.188</td> <td>   -0.150</td> <td>    0.838</td>\n",
              "</tr>\n",
              "</table>\n",
              "<table class=\"simpletable\">\n",
              "<caption>Roots</caption>\n",
              "<tr>\n",
              "    <td></td>   <th>            Real</th>  <th>         Imaginary</th> <th>         Modulus</th>  <th>        Frequency</th>\n",
              "</tr>\n",
              "<tr>\n",
              "  <th>AR.1</th> <td>           1.9367</td> <td>          +0.0000j</td> <td>           1.9367</td> <td>           0.0000</td>\n",
              "</tr>\n",
              "<tr>\n",
              "  <th>MA.1</th> <td>          -2.9093</td> <td>          +0.0000j</td> <td>           2.9093</td> <td>           0.5000</td>\n",
              "</tr>\n",
              "</table>"
            ],
            "text/plain": [
              "<class 'statsmodels.iolib.summary.Summary'>\n",
              "\"\"\"\n",
              "                              ARMA Model Results                              \n",
              "==============================================================================\n",
              "Dep. Variable:                   ISFD   No. Observations:                   23\n",
              "Model:                     ARMA(1, 1)   Log Likelihood                  38.366\n",
              "Method:                       css-mle   S.D. of innovations              0.045\n",
              "Date:                Tue, 11 Jan 2022   AIC                            -68.732\n",
              "Time:                        05:37:43   BIC                            -64.190\n",
              "Sample:                             0   HQIC                           -67.590\n",
              "                                                                              \n",
              "==============================================================================\n",
              "                 coef    std err          z      P>|z|      [0.025      0.975]\n",
              "------------------------------------------------------------------------------\n",
              "const          5.4044      0.025    215.549      0.000       5.355       5.454\n",
              "ar.L1.ISFD     0.5163      0.237      2.180      0.041       0.052       0.981\n",
              "ma.L1.ISFD     0.3437      0.252      1.364      0.188      -0.150       0.838\n",
              "                                    Roots                                    \n",
              "=============================================================================\n",
              "                  Real          Imaginary           Modulus         Frequency\n",
              "-----------------------------------------------------------------------------\n",
              "AR.1            1.9367           +0.0000j            1.9367            0.0000\n",
              "MA.1           -2.9093           +0.0000j            2.9093            0.5000\n",
              "-----------------------------------------------------------------------------\n",
              "\"\"\""
            ]
          },
          "metadata": {},
          "execution_count": 25
        }
      ],
      "source": [
        "oct_equity_model = ARIMA(data_full_oct['ISFD'], order=(1,0,1)).fit()\n",
        "oct_equity_model.summary()"
      ]
    },
    {
      "cell_type": "markdown",
      "metadata": {
        "id": "4FbMICjd0yWI"
      },
      "source": [
        "MODEL 1 FOR EQUITY IN NOVEMBER, ARMA(1,1)"
      ]
    },
    {
      "cell_type": "code",
      "execution_count": null,
      "metadata": {
        "id": "ZRN5Sn7y-vUN",
        "colab": {
          "base_uri": "https://localhost:8080/",
          "height": 339
        },
        "outputId": "b944ac39-d30c-4fda-8a9e-7ee6d8191399"
      },
      "outputs": [
        {
          "output_type": "execute_result",
          "data": {
            "text/html": [
              "<table class=\"simpletable\">\n",
              "<caption>ARMA Model Results</caption>\n",
              "<tr>\n",
              "  <th>Dep. Variable:</th>       <td>ISFD</td>       <th>  No. Observations:  </th>   <td>21</td>   \n",
              "</tr>\n",
              "<tr>\n",
              "  <th>Model:</th>            <td>ARMA(1, 1)</td>    <th>  Log Likelihood     </th> <td>47.502</td> \n",
              "</tr>\n",
              "<tr>\n",
              "  <th>Method:</th>             <td>css-mle</td>     <th>  S.D. of innovations</th>  <td>0.023</td> \n",
              "</tr>\n",
              "<tr>\n",
              "  <th>Date:</th>          <td>Tue, 11 Jan 2022</td> <th>  AIC                </th> <td>-87.004</td>\n",
              "</tr>\n",
              "<tr>\n",
              "  <th>Time:</th>              <td>05:37:57</td>     <th>  BIC                </th> <td>-82.826</td>\n",
              "</tr>\n",
              "<tr>\n",
              "  <th>Sample:</th>                <td>0</td>        <th>  HQIC               </th> <td>-86.097</td>\n",
              "</tr>\n",
              "<tr>\n",
              "  <th></th>                       <td> </td>        <th>                     </th>    <td> </td>   \n",
              "</tr>\n",
              "</table>\n",
              "<table class=\"simpletable\">\n",
              "<tr>\n",
              "       <td></td>         <th>coef</th>     <th>std err</th>      <th>z</th>      <th>P>|z|</th>  <th>[0.025</th>    <th>0.975]</th>  \n",
              "</tr>\n",
              "<tr>\n",
              "  <th>const</th>      <td>    5.5068</td> <td>    0.016</td> <td>  352.671</td> <td> 0.000</td> <td>    5.476</td> <td>    5.537</td>\n",
              "</tr>\n",
              "<tr>\n",
              "  <th>ar.L1.ISFD</th> <td>    0.3897</td> <td>    0.205</td> <td>    1.897</td> <td> 0.074</td> <td>   -0.013</td> <td>    0.792</td>\n",
              "</tr>\n",
              "<tr>\n",
              "  <th>ma.L1.ISFD</th> <td>    1.0000</td> <td>      nan</td> <td>      nan</td> <td>   nan</td> <td>      nan</td> <td>      nan</td>\n",
              "</tr>\n",
              "</table>\n",
              "<table class=\"simpletable\">\n",
              "<caption>Roots</caption>\n",
              "<tr>\n",
              "    <td></td>   <th>            Real</th>  <th>         Imaginary</th> <th>         Modulus</th>  <th>        Frequency</th>\n",
              "</tr>\n",
              "<tr>\n",
              "  <th>AR.1</th> <td>           2.5662</td> <td>          +0.0000j</td> <td>           2.5662</td> <td>           0.0000</td>\n",
              "</tr>\n",
              "<tr>\n",
              "  <th>MA.1</th> <td>          -1.0000</td> <td>          +0.0000j</td> <td>           1.0000</td> <td>           0.5000</td>\n",
              "</tr>\n",
              "</table>"
            ],
            "text/plain": [
              "<class 'statsmodels.iolib.summary.Summary'>\n",
              "\"\"\"\n",
              "                              ARMA Model Results                              \n",
              "==============================================================================\n",
              "Dep. Variable:                   ISFD   No. Observations:                   21\n",
              "Model:                     ARMA(1, 1)   Log Likelihood                  47.502\n",
              "Method:                       css-mle   S.D. of innovations              0.023\n",
              "Date:                Tue, 11 Jan 2022   AIC                            -87.004\n",
              "Time:                        05:37:57   BIC                            -82.826\n",
              "Sample:                             0   HQIC                           -86.097\n",
              "                                                                              \n",
              "==============================================================================\n",
              "                 coef    std err          z      P>|z|      [0.025      0.975]\n",
              "------------------------------------------------------------------------------\n",
              "const          5.5068      0.016    352.671      0.000       5.476       5.537\n",
              "ar.L1.ISFD     0.3897      0.205      1.897      0.074      -0.013       0.792\n",
              "ma.L1.ISFD     1.0000        nan        nan        nan         nan         nan\n",
              "                                    Roots                                    \n",
              "=============================================================================\n",
              "                  Real          Imaginary           Modulus         Frequency\n",
              "-----------------------------------------------------------------------------\n",
              "AR.1            2.5662           +0.0000j            2.5662            0.0000\n",
              "MA.1           -1.0000           +0.0000j            1.0000            0.5000\n",
              "-----------------------------------------------------------------------------\n",
              "\"\"\""
            ]
          },
          "metadata": {},
          "execution_count": 26
        }
      ],
      "source": [
        "nov_equity_model = ARIMA(data_full_nov['ISFD'], order=(1,0,1)).fit()\n",
        "nov_equity_model.summary()"
      ]
    },
    {
      "cell_type": "markdown",
      "source": [
        "In Equity Prices, constant coefficient got increased by approximately 10 points. Autoregression regression coefficient decreased by approximately 13 points and moving average increased by approximately 66 points. This shows that autogressive parameter is more weak in November, signifying weaker relation to previous period. The moving average parameter was stronger in november in relation to previous period. This signifies a strong relationship in relation to prediction period"
      ],
      "metadata": {
        "id": "CPAYrrBOwBQC"
      }
    },
    {
      "cell_type": "markdown",
      "metadata": {
        "id": "rvSLDhqR_ggK"
      },
      "source": [
        "MODELLING VOLATILITY"
      ]
    },
    {
      "cell_type": "markdown",
      "metadata": {
        "id": "Inxc3DVqCmUq"
      },
      "source": [
        "Gold Analysis"
      ]
    },
    {
      "cell_type": "code",
      "execution_count": null,
      "metadata": {
        "colab": {
          "base_uri": "https://localhost:8080/"
        },
        "id": "g4aG-l79_jgH",
        "outputId": "e3e61b0e-1d3f-45db-e45b-7e6661d6a68e"
      },
      "outputs": [
        {
          "name": "stdout",
          "output_type": "stream",
          "text": [
            "<<<<<<<<<<<<<<<<<<<<<<<GOLD>>>>>>>>>>>>>>>>>>\n",
            "October daily high minus low: 0.6475009918212891\n",
            "Novermber daily high minus low: 1.1424999237060547\n",
            "\n",
            "Average & Std Dev of Gold in October & November:=\n",
            "            mean       std\n",
            "Month                     \n",
            "Nov    28.770714  0.301284\n",
            "Oct    29.276413  0.185422\n"
          ]
        }
      ],
      "source": [
        "print('<<<<<<<<<<<<<<<<<<<<<<<GOLD>>>>>>>>>>>>>>>>>>')\n",
        "print('October daily high minus low:',data_full_oct['IGLN'].max()-data_full_oct['IGLN'].min())\n",
        "\n",
        "print('Novermber daily high minus low:', data_full_nov['IGLN'].max()-data_full_nov['IGLN'].min())\n",
        "\n",
        "print('\\nAverage & Std Dev of Gold in October & November:=')\n",
        "print(data_full_avg[\"IGLN\"])"
      ]
    },
    {
      "cell_type": "code",
      "execution_count": null,
      "metadata": {
        "id": "drKYWjDi-xDS",
        "outputId": "bf43a825-795e-49b9-fd3a-96855df3bc6e"
      },
      "outputs": [
        {
          "name": "stdout",
          "output_type": "stream",
          "text": [
            "Iteration:      1,   Func. Count:      6,   Neg. LLF: 989641.1596375244\n",
            "Iteration:      2,   Func. Count:     17,   Neg. LLF: 16966652.289922733\n",
            "Iteration:      3,   Func. Count:     24,   Neg. LLF: 47.28687860304075\n",
            "Iteration:      4,   Func. Count:     31,   Neg. LLF: -79.22940976200154\n",
            "Iteration:      5,   Func. Count:     37,   Neg. LLF: -79.241692561554\n",
            "Iteration:      6,   Func. Count:     42,   Neg. LLF: -79.24281147552011\n",
            "Iteration:      7,   Func. Count:     47,   Neg. LLF: -79.24260123356625\n",
            "Iteration:      8,   Func. Count:     54,   Neg. LLF: -79.24248066478327\n",
            "Iteration:      9,   Func. Count:     61,   Neg. LLF: 238738.0531768249\n",
            "Iteration:     10,   Func. Count:     72,   Neg. LLF: -52.02550668794601\n",
            "Iteration:     11,   Func. Count:     81,   Neg. LLF: -79.22947372644649\n",
            "Optimization terminated successfully    (Exit mode 0)\n",
            "            Current function value: -79.2430318949102\n",
            "            Iterations: 12\n",
            "            Function evaluations: 91\n",
            "            Gradient evaluations: 11\n"
          ]
        },
        {
          "data": {
            "text/html": [
              "<table class=\"simpletable\">\n",
              "<caption>Constant Mean - GARCH Model Results</caption>\n",
              "<tr>\n",
              "  <th>Dep. Variable:</th>       <td>IGLN_R</td>       <th>  R-squared:         </th>  <td>   0.000</td> \n",
              "</tr>\n",
              "<tr>\n",
              "  <th>Mean Model:</th>       <td>Constant Mean</td>   <th>  Adj. R-squared:    </th>  <td>   0.000</td> \n",
              "</tr>\n",
              "<tr>\n",
              "  <th>Vol Model:</th>            <td>GARCH</td>       <th>  Log-Likelihood:    </th> <td>   79.2430</td>\n",
              "</tr>\n",
              "<tr>\n",
              "  <th>Distribution:</th>        <td>Normal</td>       <th>  AIC:               </th> <td>  -150.486</td>\n",
              "</tr>\n",
              "<tr>\n",
              "  <th>Method:</th>        <td>Maximum Likelihood</td> <th>  BIC:               </th> <td>  -146.122</td>\n",
              "</tr>\n",
              "<tr>\n",
              "  <th></th>                        <td></td>          <th>  No. Observations:  </th>     <td>22</td>    \n",
              "</tr>\n",
              "<tr>\n",
              "  <th>Date:</th>           <td>Mon, Jan 10 2022</td>  <th>  Df Residuals:      </th>     <td>21</td>    \n",
              "</tr>\n",
              "<tr>\n",
              "  <th>Time:</th>               <td>22:37:22</td>      <th>  Df Model:          </th>      <td>1</td>    \n",
              "</tr>\n",
              "</table>\n",
              "<table class=\"simpletable\">\n",
              "<caption>Mean Model</caption>\n",
              "<tr>\n",
              "   <td></td>     <th>coef</th>     <th>std err</th>      <th>t</th>       <th>P>|t|</th>      <th>95.0% Conf. Int.</th>   \n",
              "</tr>\n",
              "<tr>\n",
              "  <th>mu</th> <td>8.2077e-04</td> <td>3.348e-03</td> <td>    0.245</td> <td>    0.806</td> <td>[-5.740e-03,7.382e-03]</td>\n",
              "</tr>\n",
              "</table>\n",
              "<table class=\"simpletable\">\n",
              "<caption>Volatility Model</caption>\n",
              "<tr>\n",
              "      <td></td>        <th>coef</th>     <th>std err</th>      <th>t</th>       <th>P>|t|</th>     <th>95.0% Conf. Int.</th>   \n",
              "</tr>\n",
              "<tr>\n",
              "  <th>omega</th>    <td>1.7241e-05</td> <td>8.234e-10</td> <td>2.094e+04</td>   <td>0.000</td>   <td>[1.724e-05,1.724e-05]</td>\n",
              "</tr>\n",
              "<tr>\n",
              "  <th>alpha[1]</th> <td>5.1912e-05</td> <td>    3.565</td> <td>1.456e-05</td> <td>    1.000</td>   <td>[ -6.987,  6.987]</td>  \n",
              "</tr>\n",
              "<tr>\n",
              "  <th>beta[1]</th>  <td>    0.5897</td> <td>    3.560</td> <td>    0.166</td> <td>    0.868</td>   <td>[ -6.388,  7.568]</td>  \n",
              "</tr>\n",
              "</table><br/><br/>Covariance estimator: robust"
            ],
            "text/plain": [
              "<class 'statsmodels.iolib.summary.Summary'>\n",
              "\"\"\"\n",
              "                     Constant Mean - GARCH Model Results                      \n",
              "==============================================================================\n",
              "Dep. Variable:                 IGLN_R   R-squared:                       0.000\n",
              "Mean Model:             Constant Mean   Adj. R-squared:                  0.000\n",
              "Vol Model:                      GARCH   Log-Likelihood:                79.2430\n",
              "Distribution:                  Normal   AIC:                          -150.486\n",
              "Method:            Maximum Likelihood   BIC:                          -146.122\n",
              "                                        No. Observations:                   22\n",
              "Date:                Mon, Jan 10 2022   Df Residuals:                       21\n",
              "Time:                        22:37:22   Df Model:                            1\n",
              "                                  Mean Model                                 \n",
              "=============================================================================\n",
              "                 coef    std err          t      P>|t|       95.0% Conf. Int.\n",
              "-----------------------------------------------------------------------------\n",
              "mu         8.2077e-04  3.348e-03      0.245      0.806 [-5.740e-03,7.382e-03]\n",
              "                              Volatility Model                              \n",
              "============================================================================\n",
              "                 coef    std err          t      P>|t|      95.0% Conf. Int.\n",
              "----------------------------------------------------------------------------\n",
              "omega      1.7241e-05  8.234e-10  2.094e+04      0.000 [1.724e-05,1.724e-05]\n",
              "alpha[1]   5.1912e-05      3.565  1.456e-05      1.000     [ -6.987,  6.987]\n",
              "beta[1]        0.5897      3.560      0.166      0.868     [ -6.388,  7.568]\n",
              "============================================================================\n",
              "\n",
              "Covariance estimator: robust\n",
              "\"\"\""
            ]
          },
          "execution_count": 45,
          "metadata": {},
          "output_type": "execute_result"
        }
      ],
      "source": [
        "# Garch(1,1) for Gold returns in October\n",
        "# !pip install arch\n",
        "from arch import arch_model\n",
        "\n",
        "oct_gold_return_garch = arch_model(data_full_oct['IGLN_R'][1:],mean='Constant', vol= 'GARCH', p=1,q=1).fit()\n",
        "oct_gold_return_garch.summary()"
      ]
    },
    {
      "cell_type": "code",
      "execution_count": null,
      "metadata": {
        "id": "X2rnyOHak0fb",
        "outputId": "eb3339b8-c04b-4d04-8a85-4c62b627f184"
      },
      "outputs": [
        {
          "name": "stdout",
          "output_type": "stream",
          "text": [
            "Iteration:      1,   Func. Count:      6,   Neg. LLF: 161736774.19610873\n",
            "Iteration:      2,   Func. Count:     17,   Neg. LLF: 2861803.311616438\n",
            "Iteration:      3,   Func. Count:     29,   Neg. LLF: 181771368648.84988\n",
            "Iteration:      4,   Func. Count:     39,   Neg. LLF: 8404681750547.1455\n",
            "Iteration:      5,   Func. Count:     50,   Neg. LLF: 180229424688.04547\n",
            "Iteration:      6,   Func. Count:     60,   Neg. LLF: 8472002661358.783\n",
            "Iteration:      7,   Func. Count:     70,   Neg. LLF: -73.77799990538662\n",
            "Optimization terminated successfully    (Exit mode 0)\n",
            "            Current function value: -73.77799999726832\n",
            "            Iterations: 11\n",
            "            Function evaluations: 70\n",
            "            Gradient evaluations: 7\n"
          ]
        },
        {
          "data": {
            "text/html": [
              "<table class=\"simpletable\">\n",
              "<caption>Constant Mean - GARCH Model Results</caption>\n",
              "<tr>\n",
              "  <th>Dep. Variable:</th>       <td>IGLN_R</td>       <th>  R-squared:         </th>  <td>   0.000</td> \n",
              "</tr>\n",
              "<tr>\n",
              "  <th>Mean Model:</th>       <td>Constant Mean</td>   <th>  Adj. R-squared:    </th>  <td>   0.000</td> \n",
              "</tr>\n",
              "<tr>\n",
              "  <th>Vol Model:</th>            <td>GARCH</td>       <th>  Log-Likelihood:    </th> <td>   73.7780</td>\n",
              "</tr>\n",
              "<tr>\n",
              "  <th>Distribution:</th>        <td>Normal</td>       <th>  AIC:               </th> <td>  -139.556</td>\n",
              "</tr>\n",
              "<tr>\n",
              "  <th>Method:</th>        <td>Maximum Likelihood</td> <th>  BIC:               </th> <td>  -135.573</td>\n",
              "</tr>\n",
              "<tr>\n",
              "  <th></th>                        <td></td>          <th>  No. Observations:  </th>     <td>20</td>    \n",
              "</tr>\n",
              "<tr>\n",
              "  <th>Date:</th>           <td>Mon, Jan 10 2022</td>  <th>  Df Residuals:      </th>     <td>19</td>    \n",
              "</tr>\n",
              "<tr>\n",
              "  <th>Time:</th>               <td>22:42:41</td>      <th>  Df Model:          </th>      <td>1</td>    \n",
              "</tr>\n",
              "</table>\n",
              "<table class=\"simpletable\">\n",
              "<caption>Mean Model</caption>\n",
              "<tr>\n",
              "   <td></td>     <th>coef</th>      <th>std err</th>      <th>t</th>     <th>P>|t|</th>    <th>95.0% Conf. Int.</th>    \n",
              "</tr>\n",
              "<tr>\n",
              "  <th>mu</th> <td>-1.0103e-03</td> <td>2.236e-07</td> <td>-4518.399</td> <td>0.000</td> <td>[-1.011e-03,-1.010e-03]</td>\n",
              "</tr>\n",
              "</table>\n",
              "<table class=\"simpletable\">\n",
              "<caption>Volatility Model</caption>\n",
              "<tr>\n",
              "      <td></td>        <th>coef</th>     <th>std err</th>      <th>t</th>       <th>P>|t|</th>     <th>95.0% Conf. Int.</th>   \n",
              "</tr>\n",
              "<tr>\n",
              "  <th>omega</th>    <td>3.9208e-06</td> <td>8.186e-11</td> <td>4.790e+04</td>   <td>0.000</td>   <td>[3.921e-06,3.921e-06]</td>\n",
              "</tr>\n",
              "<tr>\n",
              "  <th>alpha[1]</th> <td>    0.2000</td> <td>    0.556</td> <td>    0.360</td> <td>    0.719</td>   <td>[ -0.889,  1.289]</td>  \n",
              "</tr>\n",
              "<tr>\n",
              "  <th>beta[1]</th>  <td>    0.7000</td> <td>    0.309</td> <td>    2.265</td> <td>2.351e-02</td>  <td>[9.428e-02,  1.306]</td> \n",
              "</tr>\n",
              "</table><br/><br/>Covariance estimator: robust"
            ],
            "text/plain": [
              "<class 'statsmodels.iolib.summary.Summary'>\n",
              "\"\"\"\n",
              "                     Constant Mean - GARCH Model Results                      \n",
              "==============================================================================\n",
              "Dep. Variable:                 IGLN_R   R-squared:                       0.000\n",
              "Mean Model:             Constant Mean   Adj. R-squared:                  0.000\n",
              "Vol Model:                      GARCH   Log-Likelihood:                73.7780\n",
              "Distribution:                  Normal   AIC:                          -139.556\n",
              "Method:            Maximum Likelihood   BIC:                          -135.573\n",
              "                                        No. Observations:                   20\n",
              "Date:                Mon, Jan 10 2022   Df Residuals:                       19\n",
              "Time:                        22:42:41   Df Model:                            1\n",
              "                                   Mean Model                                  \n",
              "===============================================================================\n",
              "                  coef    std err          t      P>|t|        95.0% Conf. Int.\n",
              "-------------------------------------------------------------------------------\n",
              "mu         -1.0103e-03  2.236e-07  -4518.399      0.000 [-1.011e-03,-1.010e-03]\n",
              "                              Volatility Model                              \n",
              "============================================================================\n",
              "                 coef    std err          t      P>|t|      95.0% Conf. Int.\n",
              "----------------------------------------------------------------------------\n",
              "omega      3.9208e-06  8.186e-11  4.790e+04      0.000 [3.921e-06,3.921e-06]\n",
              "alpha[1]       0.2000      0.556      0.360      0.719     [ -0.889,  1.289]\n",
              "beta[1]        0.7000      0.309      2.265  2.351e-02   [9.428e-02,  1.306]\n",
              "============================================================================\n",
              "\n",
              "Covariance estimator: robust\n",
              "\"\"\""
            ]
          },
          "execution_count": 46,
          "metadata": {},
          "output_type": "execute_result"
        }
      ],
      "source": [
        "nov_gold_return_garch = arch_model(data_full_nov['IGLN_R'][1:],mean='Constant', vol= 'GARCH', p=1,q=1).fit()\n",
        "nov_gold_return_garch.summary()"
      ]
    },
    {
      "cell_type": "markdown",
      "source": [
        "From the above, High minus Low increased significantly by approximately 49 points. This shows that the gold price in november outperferms the gold price in October. Also, the meean decreased by approximately 50 points. This shows that the performance of the gold price has a weakened relations to October performance. Also, the AIC and BIC coefficients increased from october to november."
      ],
      "metadata": {
        "id": "Y-Z12O3f1fyn"
      }
    },
    {
      "cell_type": "markdown",
      "metadata": {
        "id": "X4tv-PGDFs6w"
      },
      "source": [
        "Equity Analysis"
      ]
    },
    {
      "cell_type": "code",
      "execution_count": null,
      "metadata": {
        "colab": {
          "base_uri": "https://localhost:8080/"
        },
        "id": "DLesuvziFioM",
        "outputId": "a2d8d93e-7139-45be-aba5-3c117f57cb76"
      },
      "outputs": [
        {
          "name": "stdout",
          "output_type": "stream",
          "text": [
            "<<<<<<<<<<<<<<<<<<<<<<<EQUITY>>>>>>>>>>>>>>>>>>\n",
            "October daily high minus low: 0.22149991989135742\n",
            "Novermber daily high minus low: 0.15399980545043945\n",
            "\n",
            "Average & Std Dev of Equity in October & November:=\n",
            "           mean       std\n",
            "Month                    \n",
            "Nov    5.508190  0.042448\n",
            "Oct    5.396544  0.062853\n"
          ]
        }
      ],
      "source": [
        "print('<<<<<<<<<<<<<<<<<<<<<<<EQUITY>>>>>>>>>>>>>>>>>>')\n",
        "print('October daily high minus low:',data_full_oct['ISFD'].max()-data_full_oct['ISFD'].min())\n",
        "\n",
        "print('Novermber daily high minus low:', data_full_nov['ISFD'].max()-data_full_nov['ISFD'].min())\n",
        "\n",
        "print('\\nAverage & Std Dev of Equity in October & November:=')\n",
        "print(data_full_avg[\"ISFD\"])"
      ]
    },
    {
      "cell_type": "code",
      "execution_count": null,
      "metadata": {
        "id": "2y_OuhLBHJby",
        "outputId": "f13c9dc8-f4f5-4b43-a627-79bae6553e67"
      },
      "outputs": [
        {
          "name": "stdout",
          "output_type": "stream",
          "text": [
            "Iteration:      1,   Func. Count:      6,   Neg. LLF: 16815694.753118694\n",
            "Iteration:      2,   Func. Count:     17,   Neg. LLF: 506776488123.16943\n",
            "Iteration:      3,   Func. Count:     26,   Neg. LLF: -73.25522230214722\n",
            "Optimization terminated successfully    (Exit mode 0)\n",
            "            Current function value: -73.25522239115618\n",
            "            Iterations: 7\n",
            "            Function evaluations: 26\n",
            "            Gradient evaluations: 3\n"
          ]
        },
        {
          "data": {
            "text/html": [
              "<table class=\"simpletable\">\n",
              "<caption>Constant Mean - GARCH Model Results</caption>\n",
              "<tr>\n",
              "  <th>Dep. Variable:</th>       <td>ISFD_R</td>       <th>  R-squared:         </th>  <td>   0.000</td> \n",
              "</tr>\n",
              "<tr>\n",
              "  <th>Mean Model:</th>       <td>Constant Mean</td>   <th>  Adj. R-squared:    </th>  <td>   0.000</td> \n",
              "</tr>\n",
              "<tr>\n",
              "  <th>Vol Model:</th>            <td>GARCH</td>       <th>  Log-Likelihood:    </th> <td>   73.2552</td>\n",
              "</tr>\n",
              "<tr>\n",
              "  <th>Distribution:</th>        <td>Normal</td>       <th>  AIC:               </th> <td>  -138.510</td>\n",
              "</tr>\n",
              "<tr>\n",
              "  <th>Method:</th>        <td>Maximum Likelihood</td> <th>  BIC:               </th> <td>  -134.146</td>\n",
              "</tr>\n",
              "<tr>\n",
              "  <th></th>                        <td></td>          <th>  No. Observations:  </th>     <td>22</td>    \n",
              "</tr>\n",
              "<tr>\n",
              "  <th>Date:</th>           <td>Mon, Jan 10 2022</td>  <th>  Df Residuals:      </th>     <td>21</td>    \n",
              "</tr>\n",
              "<tr>\n",
              "  <th>Time:</th>               <td>22:44:57</td>      <th>  Df Model:          </th>      <td>1</td>    \n",
              "</tr>\n",
              "</table>\n",
              "<table class=\"simpletable\">\n",
              "<caption>Mean Model</caption>\n",
              "<tr>\n",
              "   <td></td>     <th>coef</th>     <th>std err</th>      <th>t</th>       <th>P>|t|</th>      <th>95.0% Conf. Int.</th>   \n",
              "</tr>\n",
              "<tr>\n",
              "  <th>mu</th> <td>8.2615e-05</td> <td>1.513e-03</td> <td>5.461e-02</td> <td>    0.956</td> <td>[-2.882e-03,3.047e-03]</td>\n",
              "</tr>\n",
              "</table>\n",
              "<table class=\"simpletable\">\n",
              "<caption>Volatility Model</caption>\n",
              "<tr>\n",
              "      <td></td>        <th>coef</th>     <th>std err</th>      <th>t</th>       <th>P>|t|</th>     <th>95.0% Conf. Int.</th>   \n",
              "</tr>\n",
              "<tr>\n",
              "  <th>omega</th>    <td>2.5981e-05</td> <td>2.913e-06</td> <td>    8.919</td> <td>4.685e-19</td> <td>[2.027e-05,3.169e-05]</td>\n",
              "</tr>\n",
              "<tr>\n",
              "  <th>alpha[1]</th> <td>    0.2000</td> <td>    0.290</td> <td>    0.689</td> <td>    0.491</td>   <td>[ -0.369,  0.769]</td>  \n",
              "</tr>\n",
              "<tr>\n",
              "  <th>beta[1]</th>  <td>    0.5000</td> <td>    0.233</td> <td>    2.149</td> <td>3.165e-02</td>  <td>[4.395e-02,  0.956]</td> \n",
              "</tr>\n",
              "</table><br/><br/>Covariance estimator: robust"
            ],
            "text/plain": [
              "<class 'statsmodels.iolib.summary.Summary'>\n",
              "\"\"\"\n",
              "                     Constant Mean - GARCH Model Results                      \n",
              "==============================================================================\n",
              "Dep. Variable:                 ISFD_R   R-squared:                       0.000\n",
              "Mean Model:             Constant Mean   Adj. R-squared:                  0.000\n",
              "Vol Model:                      GARCH   Log-Likelihood:                73.2552\n",
              "Distribution:                  Normal   AIC:                          -138.510\n",
              "Method:            Maximum Likelihood   BIC:                          -134.146\n",
              "                                        No. Observations:                   22\n",
              "Date:                Mon, Jan 10 2022   Df Residuals:                       21\n",
              "Time:                        22:44:57   Df Model:                            1\n",
              "                                  Mean Model                                 \n",
              "=============================================================================\n",
              "                 coef    std err          t      P>|t|       95.0% Conf. Int.\n",
              "-----------------------------------------------------------------------------\n",
              "mu         8.2615e-05  1.513e-03  5.461e-02      0.956 [-2.882e-03,3.047e-03]\n",
              "                              Volatility Model                              \n",
              "============================================================================\n",
              "                 coef    std err          t      P>|t|      95.0% Conf. Int.\n",
              "----------------------------------------------------------------------------\n",
              "omega      2.5981e-05  2.913e-06      8.919  4.685e-19 [2.027e-05,3.169e-05]\n",
              "alpha[1]       0.2000      0.290      0.689      0.491     [ -0.369,  0.769]\n",
              "beta[1]        0.5000      0.233      2.149  3.165e-02   [4.395e-02,  0.956]\n",
              "============================================================================\n",
              "\n",
              "Covariance estimator: robust\n",
              "\"\"\""
            ]
          },
          "execution_count": 50,
          "metadata": {},
          "output_type": "execute_result"
        }
      ],
      "source": [
        "# Garch(1,1) for Equity returns in October\n",
        "\n",
        "oct_equity_return_garch = arch_model(data_full_oct['ISFD_R'][1:],mean='Constant', vol= 'GARCH', p=1,q=1).fit()\n",
        "oct_equity_return_garch.summary()"
      ]
    },
    {
      "cell_type": "code",
      "execution_count": null,
      "metadata": {
        "id": "-BonbyVuk0fs",
        "outputId": "9a5a0514-de20-4629-d30b-5dd3117d2014"
      },
      "outputs": [
        {
          "name": "stdout",
          "output_type": "stream",
          "text": [
            "Iteration:      1,   Func. Count:      6,   Neg. LLF: 4389514538793.4414\n",
            "Iteration:      2,   Func. Count:     17,   Neg. LLF: -55.43667875888105\n",
            "Iteration:      3,   Func. Count:     24,   Neg. LLF: -74.67475592596855\n",
            "Iteration:      4,   Func. Count:     29,   Neg. LLF: -74.67503655864822\n",
            "Iteration:      5,   Func. Count:     34,   Neg. LLF: -74.6753382692218\n",
            "Iteration:      6,   Func. Count:     39,   Neg. LLF: -74.67537662969593\n",
            "Iteration:      7,   Func. Count:     44,   Neg. LLF: -74.67569051864795\n",
            "Iteration:      8,   Func. Count:     49,   Neg. LLF: -74.67980871431455\n",
            "Iteration:      9,   Func. Count:     54,   Neg. LLF: -71.62478211458749\n",
            "Iteration:     10,   Func. Count:     62,   Neg. LLF: 2811.5325244045853\n",
            "Iteration:     11,   Func. Count:     73,   Neg. LLF: -60.38101070897486\n",
            "Iteration:     12,   Func. Count:     82,   Neg. LLF: -53.55131782912466\n",
            "Iteration:     13,   Func. Count:     88,   Neg. LLF: -54.56995116572706\n",
            "Iteration:     14,   Func. Count:     94,   Neg. LLF: -65.03540093228911\n",
            "Iteration:     15,   Func. Count:    101,   Neg. LLF: -73.4860671074087\n",
            "Iteration:     16,   Func. Count:    108,   Neg. LLF: -74.73466461399568\n",
            "Iteration:     17,   Func. Count:    113,   Neg. LLF: -74.7378990433803\n",
            "Iteration:     18,   Func. Count:    118,   Neg. LLF: -74.7379258462808\n",
            "Iteration:     19,   Func. Count:    122,   Neg. LLF: -74.73792583222007\n",
            "Optimization terminated successfully    (Exit mode 0)\n",
            "            Current function value: -74.7379258462808\n",
            "            Iterations: 20\n",
            "            Function evaluations: 122\n",
            "            Gradient evaluations: 19\n"
          ]
        },
        {
          "data": {
            "text/html": [
              "<table class=\"simpletable\">\n",
              "<caption>Constant Mean - GARCH Model Results</caption>\n",
              "<tr>\n",
              "  <th>Dep. Variable:</th>       <td>ISFD_R</td>       <th>  R-squared:         </th>  <td>   0.000</td> \n",
              "</tr>\n",
              "<tr>\n",
              "  <th>Mean Model:</th>       <td>Constant Mean</td>   <th>  Adj. R-squared:    </th>  <td>   0.000</td> \n",
              "</tr>\n",
              "<tr>\n",
              "  <th>Vol Model:</th>            <td>GARCH</td>       <th>  Log-Likelihood:    </th> <td>   74.7379</td>\n",
              "</tr>\n",
              "<tr>\n",
              "  <th>Distribution:</th>        <td>Normal</td>       <th>  AIC:               </th> <td>  -141.476</td>\n",
              "</tr>\n",
              "<tr>\n",
              "  <th>Method:</th>        <td>Maximum Likelihood</td> <th>  BIC:               </th> <td>  -137.493</td>\n",
              "</tr>\n",
              "<tr>\n",
              "  <th></th>                        <td></td>          <th>  No. Observations:  </th>     <td>20</td>    \n",
              "</tr>\n",
              "<tr>\n",
              "  <th>Date:</th>           <td>Mon, Jan 10 2022</td>  <th>  Df Residuals:      </th>     <td>19</td>    \n",
              "</tr>\n",
              "<tr>\n",
              "  <th>Time:</th>               <td>22:45:56</td>      <th>  Df Model:          </th>      <td>1</td>    \n",
              "</tr>\n",
              "</table>\n",
              "<table class=\"simpletable\">\n",
              "<caption>Mean Model</caption>\n",
              "<tr>\n",
              "   <td></td>     <th>coef</th>     <th>std err</th>      <th>t</th>       <th>P>|t|</th>      <th>95.0% Conf. Int.</th>   \n",
              "</tr>\n",
              "<tr>\n",
              "  <th>mu</th> <td>2.5834e-04</td> <td>1.224e-03</td> <td>    0.211</td> <td>    0.833</td> <td>[-2.141e-03,2.658e-03]</td>\n",
              "</tr>\n",
              "</table>\n",
              "<table class=\"simpletable\">\n",
              "<caption>Volatility Model</caption>\n",
              "<tr>\n",
              "      <td></td>        <th>coef</th>     <th>std err</th>      <th>t</th>       <th>P>|t|</th>     <th>95.0% Conf. Int.</th>   \n",
              "</tr>\n",
              "<tr>\n",
              "  <th>omega</th>    <td>2.5096e-05</td> <td>5.209e-07</td> <td>   48.180</td>   <td>0.000</td>   <td>[2.408e-05,2.612e-05]</td>\n",
              "</tr>\n",
              "<tr>\n",
              "  <th>alpha[1]</th> <td>    0.3072</td> <td>    2.500</td> <td>    0.123</td> <td>    0.902</td>   <td>[ -4.593,  5.208]</td>  \n",
              "</tr>\n",
              "<tr>\n",
              "  <th>beta[1]</th>  <td>9.1130e-16</td> <td>    1.875</td> <td>4.859e-16</td> <td>    1.000</td>   <td>[ -3.676,  3.676]</td>  \n",
              "</tr>\n",
              "</table><br/><br/>Covariance estimator: robust"
            ],
            "text/plain": [
              "<class 'statsmodels.iolib.summary.Summary'>\n",
              "\"\"\"\n",
              "                     Constant Mean - GARCH Model Results                      \n",
              "==============================================================================\n",
              "Dep. Variable:                 ISFD_R   R-squared:                       0.000\n",
              "Mean Model:             Constant Mean   Adj. R-squared:                  0.000\n",
              "Vol Model:                      GARCH   Log-Likelihood:                74.7379\n",
              "Distribution:                  Normal   AIC:                          -141.476\n",
              "Method:            Maximum Likelihood   BIC:                          -137.493\n",
              "                                        No. Observations:                   20\n",
              "Date:                Mon, Jan 10 2022   Df Residuals:                       19\n",
              "Time:                        22:45:56   Df Model:                            1\n",
              "                                  Mean Model                                 \n",
              "=============================================================================\n",
              "                 coef    std err          t      P>|t|       95.0% Conf. Int.\n",
              "-----------------------------------------------------------------------------\n",
              "mu         2.5834e-04  1.224e-03      0.211      0.833 [-2.141e-03,2.658e-03]\n",
              "                              Volatility Model                              \n",
              "============================================================================\n",
              "                 coef    std err          t      P>|t|      95.0% Conf. Int.\n",
              "----------------------------------------------------------------------------\n",
              "omega      2.5096e-05  5.209e-07     48.180      0.000 [2.408e-05,2.612e-05]\n",
              "alpha[1]       0.3072      2.500      0.123      0.902     [ -4.593,  5.208]\n",
              "beta[1]    9.1130e-16      1.875  4.859e-16      1.000     [ -3.676,  3.676]\n",
              "============================================================================\n",
              "\n",
              "Covariance estimator: robust\n",
              "\"\"\""
            ]
          },
          "execution_count": 52,
          "metadata": {},
          "output_type": "execute_result"
        }
      ],
      "source": [
        "# Garch(1,1) for Equity returns in November\n",
        "\n",
        "nov_equity_return_garch = arch_model(data_full_nov['ISFD_R'][1:],mean='Constant', vol= 'GARCH', p=1,q=1).fit()\n",
        "nov_equity_return_garch.summary()"
      ]
    },
    {
      "cell_type": "markdown",
      "source": [
        "From the above, High minus Low decreased by approximately 7 points. This shows that the gold price in november did not perform well against the gold price in October. Also, the meean increased by approximately  points. This shows that the performance of the gold price has quite strong relations in relations to October performance. Also, the AIC and BIC are become more negative."
      ],
      "metadata": {
        "id": "66m25x9A2E1L"
      }
    },
    {
      "cell_type": "code",
      "execution_count": null,
      "metadata": {
        "colab": {
          "base_uri": "https://localhost:8080/"
        },
        "id": "6VqwuHE1IZSj",
        "outputId": "e7bfa89e-f5b6-4942-cded-34cc1f5c6ff1"
      },
      "outputs": [
        {
          "name": "stdout",
          "output_type": "stream",
          "text": [
            "The Correalation in October:= [[ 1.        -0.5906827]\n",
            " [-0.5906827  1.       ]]\n",
            "The Correlation in November:= [[ 1.         -0.33818019]\n",
            " [-0.33818019  1.        ]]\n"
          ]
        }
      ],
      "source": [
        "# Correlation in October and November on Returns\n",
        "oct_coefficient = np.corrcoef(data_full_oct['IGLN_R'][1:], data_full_oct['ISFD_R'][1:])\n",
        "nov_coefficient = np.corrcoef(data_full_nov['IGLN_R'][1:], data_full_nov['ISFD_R'][1:])\n",
        "print('The Correalation in October:=',oct_coefficient)\n",
        "print('The Correlation in November:=',nov_coefficient)\n",
        "\n",
        "\n"
      ]
    },
    {
      "cell_type": "markdown",
      "source": [
        "1. From the October, the correlation coefficient is -0.59 signifying a moderate negative correlation. This means that, a returnof,(say USD 1 on Gold) prices increases, will result in decrease of return of $0.59 on equity prices.\n",
        "\n",
        "2. From the November, the correlation coefficient is -0.34 signifying a moderate negative correlation. This means that, a return(of, say USD 1) on Gold prices increases, will result in decrease of return of $0.33 on equity prices."
      ],
      "metadata": {
        "id": "MgXGUKYB4csI"
      }
    }
  ],
  "metadata": {
    "colab": {
      "provenance": [],
      "include_colab_link": true
    },
    "kernelspec": {
      "display_name": "Python 3 (ipykernel)",
      "language": "python",
      "name": "python3"
    },
    "language_info": {
      "codemirror_mode": {
        "name": "ipython",
        "version": 3
      },
      "file_extension": ".py",
      "mimetype": "text/x-python",
      "name": "python",
      "nbconvert_exporter": "python",
      "pygments_lexer": "ipython3",
      "version": "3.9.9"
    }
  },
  "nbformat": 4,
  "nbformat_minor": 0
}