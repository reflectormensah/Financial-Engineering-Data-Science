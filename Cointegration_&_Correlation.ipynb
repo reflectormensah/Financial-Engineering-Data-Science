{
  "cells": [
    {
      "cell_type": "markdown",
      "metadata": {
        "id": "view-in-github",
        "colab_type": "text"
      },
      "source": [
        "<a href=\"https://colab.research.google.com/github/reflectormensah/Financial-Engineering-Data-Science/blob/main/Cointegration_%26_Correlation.ipynb\" target=\"_parent\"><img src=\"https://colab.research.google.com/assets/colab-badge.svg\" alt=\"Open In Colab\"/></a>"
      ]
    },
    {
      "cell_type": "code",
      "execution_count": null,
      "metadata": {
        "colab": {
          "base_uri": "https://localhost:8080/"
        },
        "id": "MjGEIX4Vr0EZ",
        "outputId": "49076a6f-7bc2-4bde-8aa2-4e681a75b54a"
      },
      "outputs": [
        {
          "name": "stdout",
          "output_type": "stream",
          "text": [
            "Requirement already satisfied: yfinance in /usr/local/lib/python3.7/dist-packages (0.1.69)\n",
            "Requirement already satisfied: multitasking>=0.0.7 in /usr/local/lib/python3.7/dist-packages (from yfinance) (0.0.10)\n",
            "Requirement already satisfied: pandas>=0.24 in /usr/local/lib/python3.7/dist-packages (from yfinance) (1.1.5)\n",
            "Requirement already satisfied: requests>=2.26 in /usr/local/lib/python3.7/dist-packages (from yfinance) (2.27.1)\n",
            "Requirement already satisfied: numpy>=1.15 in /usr/local/lib/python3.7/dist-packages (from yfinance) (1.19.5)\n",
            "Requirement already satisfied: lxml>=4.5.1 in /usr/local/lib/python3.7/dist-packages (from yfinance) (4.7.1)\n",
            "Requirement already satisfied: python-dateutil>=2.7.3 in /usr/local/lib/python3.7/dist-packages (from pandas>=0.24->yfinance) (2.8.2)\n",
            "Requirement already satisfied: pytz>=2017.2 in /usr/local/lib/python3.7/dist-packages (from pandas>=0.24->yfinance) (2018.9)\n",
            "Requirement already satisfied: six>=1.5 in /usr/local/lib/python3.7/dist-packages (from python-dateutil>=2.7.3->pandas>=0.24->yfinance) (1.15.0)\n",
            "Requirement already satisfied: charset-normalizer~=2.0.0 in /usr/local/lib/python3.7/dist-packages (from requests>=2.26->yfinance) (2.0.10)\n",
            "Requirement already satisfied: idna<4,>=2.5 in /usr/local/lib/python3.7/dist-packages (from requests>=2.26->yfinance) (2.10)\n",
            "Requirement already satisfied: certifi>=2017.4.17 in /usr/local/lib/python3.7/dist-packages (from requests>=2.26->yfinance) (2021.10.8)\n",
            "Requirement already satisfied: urllib3<1.27,>=1.21.1 in /usr/local/lib/python3.7/dist-packages (from requests>=2.26->yfinance) (1.24.3)\n",
            "Requirement already satisfied: yahoofinancials in /usr/local/lib/python3.7/dist-packages (1.6)\n",
            "Requirement already satisfied: beautifulsoup4 in /usr/local/lib/python3.7/dist-packages (from yahoofinancials) (4.6.3)\n",
            "Requirement already satisfied: pytz in /usr/local/lib/python3.7/dist-packages (from yahoofinancials) (2018.9)\n",
            "Requirement already satisfied: arch in /usr/local/lib/python3.7/dist-packages (5.1.0)\n",
            "Requirement already satisfied: property-cached>=1.6.4 in /usr/local/lib/python3.7/dist-packages (from arch) (1.6.4)\n",
            "Requirement already satisfied: statsmodels>=0.11 in /usr/local/lib/python3.7/dist-packages (from arch) (0.13.1)\n",
            "Requirement already satisfied: scipy>=1.3 in /usr/local/lib/python3.7/dist-packages (from arch) (1.4.1)\n",
            "Requirement already satisfied: numpy>=1.17 in /usr/local/lib/python3.7/dist-packages (from arch) (1.19.5)\n",
            "Requirement already satisfied: pandas>=1.0 in /usr/local/lib/python3.7/dist-packages (from arch) (1.1.5)\n",
            "Requirement already satisfied: python-dateutil>=2.7.3 in /usr/local/lib/python3.7/dist-packages (from pandas>=1.0->arch) (2.8.2)\n",
            "Requirement already satisfied: pytz>=2017.2 in /usr/local/lib/python3.7/dist-packages (from pandas>=1.0->arch) (2018.9)\n",
            "Requirement already satisfied: six>=1.5 in /usr/local/lib/python3.7/dist-packages (from python-dateutil>=2.7.3->pandas>=1.0->arch) (1.15.0)\n",
            "Requirement already satisfied: patsy>=0.5.2 in /usr/local/lib/python3.7/dist-packages (from statsmodels>=0.11->arch) (0.5.2)\n"
          ]
        }
      ],
      "source": [
        "!pip install yfinance\n",
        "!pip install yahoofinancials\n",
        "!pip install arch\n",
        "import pandas as pd\n",
        "import numpy as np\n",
        "import yfinance as yf\n",
        "from yahoofinancials import YahooFinancials\n",
        "import matplotlib.pyplot as plt\n",
        "from matplotlib.pyplot import cm\n",
        "from arch import arch_model\n",
        "from arch.univariate import EGARCH\n",
        "from datetime import datetime\n",
        "import time\n",
        "import numpy as np\n",
        "import pandas as pd\n",
        "import pickle\n",
        "from pandas.tseries.offsets import BDay\n",
        "from pandas.plotting import autocorrelation_plot\n",
        "import math\n",
        "import matplotlib.pyplot as plt\n",
        "import seaborn as sns\n",
        "sns.set_theme(style=\"darkgrid\")\n",
        "%matplotlib inline"
      ]
    },
    {
      "cell_type": "markdown",
      "metadata": {
        "id": "obGpkSwhsPly"
      },
      "source": [
        "# 0. Selecting a data set\n",
        "\n",
        "We selected BAR, as gold ETF, Nikkei, as equity ETF outside the US, and Bitcoin"
      ]
    },
    {
      "cell_type": "markdown",
      "metadata": {
        "id": "nv4p1QM5skqy"
      },
      "source": [
        "# 1. Data importing"
      ]
    },
    {
      "cell_type": "code",
      "execution_count": null,
      "metadata": {
        "colab": {
          "base_uri": "https://localhost:8080/"
        },
        "id": "hrgZuuemuGKG",
        "outputId": "b552aa93-1767-4efe-c7ef-317cc8271d90"
      },
      "outputs": [
        {
          "name": "stdout",
          "output_type": "stream",
          "text": [
            "[*********************100%***********************]  1 of 1 completed\n"
          ]
        }
      ],
      "source": [
        "gold_etf = yf.download('BAR',\n",
        "                      start='2020-04-01',\n",
        "                      end='2020-12-31',\n",
        "                      interval='1d')"
      ]
    },
    {
      "cell_type": "code",
      "execution_count": null,
      "metadata": {
        "colab": {
          "base_uri": "https://localhost:8080/",
          "height": 238
        },
        "id": "XzCeibyYvHS7",
        "outputId": "bce210a5-68c3-4aa4-a3ce-c3c3cfd7694f"
      },
      "outputs": [
        {
          "data": {
            "text/html": [
              "\n",
              "  <div id=\"df-03782dab-ed34-4e36-87ab-25e6af304c88\">\n",
              "    <div class=\"colab-df-container\">\n",
              "      <div>\n",
              "<style scoped>\n",
              "    .dataframe tbody tr th:only-of-type {\n",
              "        vertical-align: middle;\n",
              "    }\n",
              "\n",
              "    .dataframe tbody tr th {\n",
              "        vertical-align: top;\n",
              "    }\n",
              "\n",
              "    .dataframe thead th {\n",
              "        text-align: right;\n",
              "    }\n",
              "</style>\n",
              "<table border=\"1\" class=\"dataframe\">\n",
              "  <thead>\n",
              "    <tr style=\"text-align: right;\">\n",
              "      <th></th>\n",
              "      <th>Adj Close</th>\n",
              "    </tr>\n",
              "    <tr>\n",
              "      <th>Date</th>\n",
              "      <th></th>\n",
              "    </tr>\n",
              "  </thead>\n",
              "  <tbody>\n",
              "    <tr>\n",
              "      <th>2020-04-01</th>\n",
              "      <td>15.850000</td>\n",
              "    </tr>\n",
              "    <tr>\n",
              "      <th>2020-04-02</th>\n",
              "      <td>16.100000</td>\n",
              "    </tr>\n",
              "    <tr>\n",
              "      <th>2020-04-03</th>\n",
              "      <td>16.190001</td>\n",
              "    </tr>\n",
              "    <tr>\n",
              "      <th>2020-04-06</th>\n",
              "      <td>16.580000</td>\n",
              "    </tr>\n",
              "    <tr>\n",
              "      <th>2020-04-07</th>\n",
              "      <td>16.480000</td>\n",
              "    </tr>\n",
              "  </tbody>\n",
              "</table>\n",
              "</div>\n",
              "      <button class=\"colab-df-convert\" onclick=\"convertToInteractive('df-03782dab-ed34-4e36-87ab-25e6af304c88')\"\n",
              "              title=\"Convert this dataframe to an interactive table.\"\n",
              "              style=\"display:none;\">\n",
              "        \n",
              "  <svg xmlns=\"http://www.w3.org/2000/svg\" height=\"24px\"viewBox=\"0 0 24 24\"\n",
              "       width=\"24px\">\n",
              "    <path d=\"M0 0h24v24H0V0z\" fill=\"none\"/>\n",
              "    <path d=\"M18.56 5.44l.94 2.06.94-2.06 2.06-.94-2.06-.94-.94-2.06-.94 2.06-2.06.94zm-11 1L8.5 8.5l.94-2.06 2.06-.94-2.06-.94L8.5 2.5l-.94 2.06-2.06.94zm10 10l.94 2.06.94-2.06 2.06-.94-2.06-.94-.94-2.06-.94 2.06-2.06.94z\"/><path d=\"M17.41 7.96l-1.37-1.37c-.4-.4-.92-.59-1.43-.59-.52 0-1.04.2-1.43.59L10.3 9.45l-7.72 7.72c-.78.78-.78 2.05 0 2.83L4 21.41c.39.39.9.59 1.41.59.51 0 1.02-.2 1.41-.59l7.78-7.78 2.81-2.81c.8-.78.8-2.07 0-2.86zM5.41 20L4 18.59l7.72-7.72 1.47 1.35L5.41 20z\"/>\n",
              "  </svg>\n",
              "      </button>\n",
              "      \n",
              "  <style>\n",
              "    .colab-df-container {\n",
              "      display:flex;\n",
              "      flex-wrap:wrap;\n",
              "      gap: 12px;\n",
              "    }\n",
              "\n",
              "    .colab-df-convert {\n",
              "      background-color: #E8F0FE;\n",
              "      border: none;\n",
              "      border-radius: 50%;\n",
              "      cursor: pointer;\n",
              "      display: none;\n",
              "      fill: #1967D2;\n",
              "      height: 32px;\n",
              "      padding: 0 0 0 0;\n",
              "      width: 32px;\n",
              "    }\n",
              "\n",
              "    .colab-df-convert:hover {\n",
              "      background-color: #E2EBFA;\n",
              "      box-shadow: 0px 1px 2px rgba(60, 64, 67, 0.3), 0px 1px 3px 1px rgba(60, 64, 67, 0.15);\n",
              "      fill: #174EA6;\n",
              "    }\n",
              "\n",
              "    [theme=dark] .colab-df-convert {\n",
              "      background-color: #3B4455;\n",
              "      fill: #D2E3FC;\n",
              "    }\n",
              "\n",
              "    [theme=dark] .colab-df-convert:hover {\n",
              "      background-color: #434B5C;\n",
              "      box-shadow: 0px 1px 3px 1px rgba(0, 0, 0, 0.15);\n",
              "      filter: drop-shadow(0px 1px 2px rgba(0, 0, 0, 0.3));\n",
              "      fill: #FFFFFF;\n",
              "    }\n",
              "  </style>\n",
              "\n",
              "      <script>\n",
              "        const buttonEl =\n",
              "          document.querySelector('#df-03782dab-ed34-4e36-87ab-25e6af304c88 button.colab-df-convert');\n",
              "        buttonEl.style.display =\n",
              "          google.colab.kernel.accessAllowed ? 'block' : 'none';\n",
              "\n",
              "        async function convertToInteractive(key) {\n",
              "          const element = document.querySelector('#df-03782dab-ed34-4e36-87ab-25e6af304c88');\n",
              "          const dataTable =\n",
              "            await google.colab.kernel.invokeFunction('convertToInteractive',\n",
              "                                                     [key], {});\n",
              "          if (!dataTable) return;\n",
              "\n",
              "          const docLinkHtml = 'Like what you see? Visit the ' +\n",
              "            '<a target=\"_blank\" href=https://colab.research.google.com/notebooks/data_table.ipynb>data table notebook</a>'\n",
              "            + ' to learn more about interactive tables.';\n",
              "          element.innerHTML = '';\n",
              "          dataTable['output_type'] = 'display_data';\n",
              "          await google.colab.output.renderOutput(dataTable, element);\n",
              "          const docLink = document.createElement('div');\n",
              "          docLink.innerHTML = docLinkHtml;\n",
              "          element.appendChild(docLink);\n",
              "        }\n",
              "      </script>\n",
              "    </div>\n",
              "  </div>\n",
              "  "
            ],
            "text/plain": [
              "            Adj Close\n",
              "Date                 \n",
              "2020-04-01  15.850000\n",
              "2020-04-02  16.100000\n",
              "2020-04-03  16.190001\n",
              "2020-04-06  16.580000\n",
              "2020-04-07  16.480000"
            ]
          },
          "execution_count": 3,
          "metadata": {},
          "output_type": "execute_result"
        }
      ],
      "source": [
        "gold_etf=gold_etf[['Adj Close']]\n",
        "gold_etf.head()"
      ]
    },
    {
      "cell_type": "code",
      "execution_count": null,
      "metadata": {
        "colab": {
          "base_uri": "https://localhost:8080/"
        },
        "id": "CsXzXHz-u9DH",
        "outputId": "27bc86a0-5f86-4170-d4b8-dca0f13ce2a9"
      },
      "outputs": [
        {
          "name": "stdout",
          "output_type": "stream",
          "text": [
            "[*********************100%***********************]  1 of 1 completed\n"
          ]
        }
      ],
      "source": [
        "nikkei_etf = yf.download('1570.T',\n",
        "                      start='2020-04-01',\n",
        "                      end='2020-12-31',\n",
        "                      interval='1d')"
      ]
    },
    {
      "cell_type": "code",
      "execution_count": null,
      "metadata": {
        "colab": {
          "base_uri": "https://localhost:8080/",
          "height": 238
        },
        "id": "scUms7BgvoP6",
        "outputId": "3f454bc2-8c63-419b-e279-26422028ada5"
      },
      "outputs": [
        {
          "data": {
            "text/html": [
              "\n",
              "  <div id=\"df-4d670c17-3773-4061-9718-2a9aaddffb54\">\n",
              "    <div class=\"colab-df-container\">\n",
              "      <div>\n",
              "<style scoped>\n",
              "    .dataframe tbody tr th:only-of-type {\n",
              "        vertical-align: middle;\n",
              "    }\n",
              "\n",
              "    .dataframe tbody tr th {\n",
              "        vertical-align: top;\n",
              "    }\n",
              "\n",
              "    .dataframe thead th {\n",
              "        text-align: right;\n",
              "    }\n",
              "</style>\n",
              "<table border=\"1\" class=\"dataframe\">\n",
              "  <thead>\n",
              "    <tr style=\"text-align: right;\">\n",
              "      <th></th>\n",
              "      <th>Adj Close</th>\n",
              "    </tr>\n",
              "    <tr>\n",
              "      <th>Date</th>\n",
              "      <th></th>\n",
              "    </tr>\n",
              "  </thead>\n",
              "  <tbody>\n",
              "    <tr>\n",
              "      <th>2020-04-01</th>\n",
              "      <td>12680.0</td>\n",
              "    </tr>\n",
              "    <tr>\n",
              "      <th>2020-04-02</th>\n",
              "      <td>12320.0</td>\n",
              "    </tr>\n",
              "    <tr>\n",
              "      <th>2020-04-03</th>\n",
              "      <td>12350.0</td>\n",
              "    </tr>\n",
              "    <tr>\n",
              "      <th>2020-04-06</th>\n",
              "      <td>13420.0</td>\n",
              "    </tr>\n",
              "    <tr>\n",
              "      <th>2020-04-07</th>\n",
              "      <td>13950.0</td>\n",
              "    </tr>\n",
              "  </tbody>\n",
              "</table>\n",
              "</div>\n",
              "      <button class=\"colab-df-convert\" onclick=\"convertToInteractive('df-4d670c17-3773-4061-9718-2a9aaddffb54')\"\n",
              "              title=\"Convert this dataframe to an interactive table.\"\n",
              "              style=\"display:none;\">\n",
              "        \n",
              "  <svg xmlns=\"http://www.w3.org/2000/svg\" height=\"24px\"viewBox=\"0 0 24 24\"\n",
              "       width=\"24px\">\n",
              "    <path d=\"M0 0h24v24H0V0z\" fill=\"none\"/>\n",
              "    <path d=\"M18.56 5.44l.94 2.06.94-2.06 2.06-.94-2.06-.94-.94-2.06-.94 2.06-2.06.94zm-11 1L8.5 8.5l.94-2.06 2.06-.94-2.06-.94L8.5 2.5l-.94 2.06-2.06.94zm10 10l.94 2.06.94-2.06 2.06-.94-2.06-.94-.94-2.06-.94 2.06-2.06.94z\"/><path d=\"M17.41 7.96l-1.37-1.37c-.4-.4-.92-.59-1.43-.59-.52 0-1.04.2-1.43.59L10.3 9.45l-7.72 7.72c-.78.78-.78 2.05 0 2.83L4 21.41c.39.39.9.59 1.41.59.51 0 1.02-.2 1.41-.59l7.78-7.78 2.81-2.81c.8-.78.8-2.07 0-2.86zM5.41 20L4 18.59l7.72-7.72 1.47 1.35L5.41 20z\"/>\n",
              "  </svg>\n",
              "      </button>\n",
              "      \n",
              "  <style>\n",
              "    .colab-df-container {\n",
              "      display:flex;\n",
              "      flex-wrap:wrap;\n",
              "      gap: 12px;\n",
              "    }\n",
              "\n",
              "    .colab-df-convert {\n",
              "      background-color: #E8F0FE;\n",
              "      border: none;\n",
              "      border-radius: 50%;\n",
              "      cursor: pointer;\n",
              "      display: none;\n",
              "      fill: #1967D2;\n",
              "      height: 32px;\n",
              "      padding: 0 0 0 0;\n",
              "      width: 32px;\n",
              "    }\n",
              "\n",
              "    .colab-df-convert:hover {\n",
              "      background-color: #E2EBFA;\n",
              "      box-shadow: 0px 1px 2px rgba(60, 64, 67, 0.3), 0px 1px 3px 1px rgba(60, 64, 67, 0.15);\n",
              "      fill: #174EA6;\n",
              "    }\n",
              "\n",
              "    [theme=dark] .colab-df-convert {\n",
              "      background-color: #3B4455;\n",
              "      fill: #D2E3FC;\n",
              "    }\n",
              "\n",
              "    [theme=dark] .colab-df-convert:hover {\n",
              "      background-color: #434B5C;\n",
              "      box-shadow: 0px 1px 3px 1px rgba(0, 0, 0, 0.15);\n",
              "      filter: drop-shadow(0px 1px 2px rgba(0, 0, 0, 0.3));\n",
              "      fill: #FFFFFF;\n",
              "    }\n",
              "  </style>\n",
              "\n",
              "      <script>\n",
              "        const buttonEl =\n",
              "          document.querySelector('#df-4d670c17-3773-4061-9718-2a9aaddffb54 button.colab-df-convert');\n",
              "        buttonEl.style.display =\n",
              "          google.colab.kernel.accessAllowed ? 'block' : 'none';\n",
              "\n",
              "        async function convertToInteractive(key) {\n",
              "          const element = document.querySelector('#df-4d670c17-3773-4061-9718-2a9aaddffb54');\n",
              "          const dataTable =\n",
              "            await google.colab.kernel.invokeFunction('convertToInteractive',\n",
              "                                                     [key], {});\n",
              "          if (!dataTable) return;\n",
              "\n",
              "          const docLinkHtml = 'Like what you see? Visit the ' +\n",
              "            '<a target=\"_blank\" href=https://colab.research.google.com/notebooks/data_table.ipynb>data table notebook</a>'\n",
              "            + ' to learn more about interactive tables.';\n",
              "          element.innerHTML = '';\n",
              "          dataTable['output_type'] = 'display_data';\n",
              "          await google.colab.output.renderOutput(dataTable, element);\n",
              "          const docLink = document.createElement('div');\n",
              "          docLink.innerHTML = docLinkHtml;\n",
              "          element.appendChild(docLink);\n",
              "        }\n",
              "      </script>\n",
              "    </div>\n",
              "  </div>\n",
              "  "
            ],
            "text/plain": [
              "            Adj Close\n",
              "Date                 \n",
              "2020-04-01    12680.0\n",
              "2020-04-02    12320.0\n",
              "2020-04-03    12350.0\n",
              "2020-04-06    13420.0\n",
              "2020-04-07    13950.0"
            ]
          },
          "execution_count": 5,
          "metadata": {},
          "output_type": "execute_result"
        }
      ],
      "source": [
        "nikkei_etf=nikkei_etf[['Adj Close']]\n",
        "nikkei_etf.head()"
      ]
    },
    {
      "cell_type": "code",
      "execution_count": null,
      "metadata": {
        "id": "FvySNMyhtV12"
      },
      "outputs": [],
      "source": [
        "yahoo_financials = YahooFinancials('BTC-USD')\n",
        "data=yahoo_financials.get_historical_price_data(\"2020-04-01\", \"2020-12-31\", \"daily\")\n",
        "btcusd = pd.DataFrame(data['BTC-USD']['prices'])\n",
        "#btcusd = btcusd.drop('date', axis=1)\n",
        "btcusd=btcusd[['adjclose','formatted_date']]\n",
        "btcusd.rename(columns={'adjclose':'Adj Close'}, inplace=True)\n",
        "btcusd.rename(columns={'formatted_date':'Date'}, inplace=True)\n",
        "btcusd['Date']= pd.to_datetime(btcusd['Date'])\n",
        "btcusd = btcusd.set_index('Date')"
      ]
    },
    {
      "cell_type": "code",
      "execution_count": null,
      "metadata": {
        "colab": {
          "base_uri": "https://localhost:8080/",
          "height": 238
        },
        "id": "ODPY2FcPBXoE",
        "outputId": "082cb82c-ba9e-492c-e0c3-b476142b40d0"
      },
      "outputs": [
        {
          "data": {
            "text/html": [
              "\n",
              "  <div id=\"df-de6c18cd-1098-4556-909a-552d169b033a\">\n",
              "    <div class=\"colab-df-container\">\n",
              "      <div>\n",
              "<style scoped>\n",
              "    .dataframe tbody tr th:only-of-type {\n",
              "        vertical-align: middle;\n",
              "    }\n",
              "\n",
              "    .dataframe tbody tr th {\n",
              "        vertical-align: top;\n",
              "    }\n",
              "\n",
              "    .dataframe thead th {\n",
              "        text-align: right;\n",
              "    }\n",
              "</style>\n",
              "<table border=\"1\" class=\"dataframe\">\n",
              "  <thead>\n",
              "    <tr style=\"text-align: right;\">\n",
              "      <th></th>\n",
              "      <th>Adj Close</th>\n",
              "    </tr>\n",
              "    <tr>\n",
              "      <th>Date</th>\n",
              "      <th></th>\n",
              "    </tr>\n",
              "  </thead>\n",
              "  <tbody>\n",
              "    <tr>\n",
              "      <th>2020-04-01</th>\n",
              "      <td>6606.776367</td>\n",
              "    </tr>\n",
              "    <tr>\n",
              "      <th>2020-04-02</th>\n",
              "      <td>6793.624512</td>\n",
              "    </tr>\n",
              "    <tr>\n",
              "      <th>2020-04-03</th>\n",
              "      <td>6733.387207</td>\n",
              "    </tr>\n",
              "    <tr>\n",
              "      <th>2020-04-04</th>\n",
              "      <td>6867.527344</td>\n",
              "    </tr>\n",
              "    <tr>\n",
              "      <th>2020-04-05</th>\n",
              "      <td>6791.129395</td>\n",
              "    </tr>\n",
              "  </tbody>\n",
              "</table>\n",
              "</div>\n",
              "      <button class=\"colab-df-convert\" onclick=\"convertToInteractive('df-de6c18cd-1098-4556-909a-552d169b033a')\"\n",
              "              title=\"Convert this dataframe to an interactive table.\"\n",
              "              style=\"display:none;\">\n",
              "        \n",
              "  <svg xmlns=\"http://www.w3.org/2000/svg\" height=\"24px\"viewBox=\"0 0 24 24\"\n",
              "       width=\"24px\">\n",
              "    <path d=\"M0 0h24v24H0V0z\" fill=\"none\"/>\n",
              "    <path d=\"M18.56 5.44l.94 2.06.94-2.06 2.06-.94-2.06-.94-.94-2.06-.94 2.06-2.06.94zm-11 1L8.5 8.5l.94-2.06 2.06-.94-2.06-.94L8.5 2.5l-.94 2.06-2.06.94zm10 10l.94 2.06.94-2.06 2.06-.94-2.06-.94-.94-2.06-.94 2.06-2.06.94z\"/><path d=\"M17.41 7.96l-1.37-1.37c-.4-.4-.92-.59-1.43-.59-.52 0-1.04.2-1.43.59L10.3 9.45l-7.72 7.72c-.78.78-.78 2.05 0 2.83L4 21.41c.39.39.9.59 1.41.59.51 0 1.02-.2 1.41-.59l7.78-7.78 2.81-2.81c.8-.78.8-2.07 0-2.86zM5.41 20L4 18.59l7.72-7.72 1.47 1.35L5.41 20z\"/>\n",
              "  </svg>\n",
              "      </button>\n",
              "      \n",
              "  <style>\n",
              "    .colab-df-container {\n",
              "      display:flex;\n",
              "      flex-wrap:wrap;\n",
              "      gap: 12px;\n",
              "    }\n",
              "\n",
              "    .colab-df-convert {\n",
              "      background-color: #E8F0FE;\n",
              "      border: none;\n",
              "      border-radius: 50%;\n",
              "      cursor: pointer;\n",
              "      display: none;\n",
              "      fill: #1967D2;\n",
              "      height: 32px;\n",
              "      padding: 0 0 0 0;\n",
              "      width: 32px;\n",
              "    }\n",
              "\n",
              "    .colab-df-convert:hover {\n",
              "      background-color: #E2EBFA;\n",
              "      box-shadow: 0px 1px 2px rgba(60, 64, 67, 0.3), 0px 1px 3px 1px rgba(60, 64, 67, 0.15);\n",
              "      fill: #174EA6;\n",
              "    }\n",
              "\n",
              "    [theme=dark] .colab-df-convert {\n",
              "      background-color: #3B4455;\n",
              "      fill: #D2E3FC;\n",
              "    }\n",
              "\n",
              "    [theme=dark] .colab-df-convert:hover {\n",
              "      background-color: #434B5C;\n",
              "      box-shadow: 0px 1px 3px 1px rgba(0, 0, 0, 0.15);\n",
              "      filter: drop-shadow(0px 1px 2px rgba(0, 0, 0, 0.3));\n",
              "      fill: #FFFFFF;\n",
              "    }\n",
              "  </style>\n",
              "\n",
              "      <script>\n",
              "        const buttonEl =\n",
              "          document.querySelector('#df-de6c18cd-1098-4556-909a-552d169b033a button.colab-df-convert');\n",
              "        buttonEl.style.display =\n",
              "          google.colab.kernel.accessAllowed ? 'block' : 'none';\n",
              "\n",
              "        async function convertToInteractive(key) {\n",
              "          const element = document.querySelector('#df-de6c18cd-1098-4556-909a-552d169b033a');\n",
              "          const dataTable =\n",
              "            await google.colab.kernel.invokeFunction('convertToInteractive',\n",
              "                                                     [key], {});\n",
              "          if (!dataTable) return;\n",
              "\n",
              "          const docLinkHtml = 'Like what you see? Visit the ' +\n",
              "            '<a target=\"_blank\" href=https://colab.research.google.com/notebooks/data_table.ipynb>data table notebook</a>'\n",
              "            + ' to learn more about interactive tables.';\n",
              "          element.innerHTML = '';\n",
              "          dataTable['output_type'] = 'display_data';\n",
              "          await google.colab.output.renderOutput(dataTable, element);\n",
              "          const docLink = document.createElement('div');\n",
              "          docLink.innerHTML = docLinkHtml;\n",
              "          element.appendChild(docLink);\n",
              "        }\n",
              "      </script>\n",
              "    </div>\n",
              "  </div>\n",
              "  "
            ],
            "text/plain": [
              "              Adj Close\n",
              "Date                   \n",
              "2020-04-01  6606.776367\n",
              "2020-04-02  6793.624512\n",
              "2020-04-03  6733.387207\n",
              "2020-04-04  6867.527344\n",
              "2020-04-05  6791.129395"
            ]
          },
          "execution_count": 7,
          "metadata": {},
          "output_type": "execute_result"
        }
      ],
      "source": [
        "btcusd.head()"
      ]
    },
    {
      "cell_type": "code",
      "execution_count": null,
      "metadata": {
        "id": "Ie6SFgd1A7bS"
      },
      "outputs": [],
      "source": [
        "#btcusd = btcusd.drop('date', axis=1).set_index('formatted_date')\n",
        "#btcusd=btcusd[['adjclose']]\n",
        "#btcusd.head()"
      ]
    },
    {
      "cell_type": "markdown",
      "metadata": {
        "id": "qdE6Tk-kyklM"
      },
      "source": [
        "# 2. Data Processing"
      ]
    },
    {
      "cell_type": "code",
      "execution_count": null,
      "metadata": {
        "colab": {
          "base_uri": "https://localhost:8080/"
        },
        "id": "rR-VA8AksO-e",
        "outputId": "bda45948-216b-4de1-80c6-864f091c498a"
      },
      "outputs": [
        {
          "name": "stderr",
          "output_type": "stream",
          "text": [
            "/usr/local/lib/python3.7/dist-packages/ipykernel_launcher.py:2: SettingWithCopyWarning: \n",
            "A value is trying to be set on a copy of a slice from a DataFrame.\n",
            "Try using .loc[row_indexer,col_indexer] = value instead\n",
            "\n",
            "See the caveats in the documentation: https://pandas.pydata.org/pandas-docs/stable/user_guide/indexing.html#returning-a-view-versus-a-copy\n",
            "  \n"
          ]
        }
      ],
      "source": [
        "gold_etf['ret'] = gold_etf['Adj Close'].pct_change()\n",
        "nikkei_etf['ret'] = nikkei_etf['Adj Close'].pct_change()\n",
        "#btcusd['ret'] = btcusd['close'].pct_change()\n",
        "btcusd['ret'] = btcusd['Adj Close'].pct_change()\n"
      ]
    },
    {
      "cell_type": "markdown",
      "metadata": {
        "id": "pu82loXPzDP7"
      },
      "source": [
        "# 3. Data summaries"
      ]
    },
    {
      "cell_type": "code",
      "execution_count": null,
      "metadata": {
        "colab": {
          "base_uri": "https://localhost:8080/"
        },
        "id": "SYbtPCpxzFsM",
        "outputId": "ff157f4c-0c46-43fc-f7f2-77e5838b1d8d"
      },
      "outputs": [
        {
          "name": "stderr",
          "output_type": "stream",
          "text": [
            "/usr/local/lib/python3.7/dist-packages/ipykernel_launcher.py:3: SettingWithCopyWarning: \n",
            "A value is trying to be set on a copy of a slice from a DataFrame.\n",
            "Try using .loc[row_indexer,col_indexer] = value instead\n",
            "\n",
            "See the caveats in the documentation: https://pandas.pydata.org/pandas-docs/stable/user_guide/indexing.html#returning-a-view-versus-a-copy\n",
            "  This is separate from the ipykernel package so we can avoid doing imports until\n"
          ]
        }
      ],
      "source": [
        "#20 day Simple Moving Average\n",
        "gold_etf['20SMA'] = gold_etf['Adj Close'].rolling(window=20).mean()\n",
        "nikkei_etf['20SMA'] = nikkei_etf['Adj Close'].rolling(window=20).mean()\n",
        "#btcusd['20SMA'] = btcusd['close'].rolling(window=20).mean()\n",
        "btcusd['20SMA'] = btcusd['Adj Close'].rolling(window=20).mean()"
      ]
    },
    {
      "cell_type": "code",
      "execution_count": null,
      "metadata": {
        "colab": {
          "base_uri": "https://localhost:8080/",
          "height": 238
        },
        "id": "yVymBysx0Cyz",
        "outputId": "bdf76322-7ab9-4032-ca09-3bb1b862c537"
      },
      "outputs": [
        {
          "data": {
            "text/html": [
              "\n",
              "  <div id=\"df-fe111c63-ed17-40fc-a910-d96adad74a75\">\n",
              "    <div class=\"colab-df-container\">\n",
              "      <div>\n",
              "<style scoped>\n",
              "    .dataframe tbody tr th:only-of-type {\n",
              "        vertical-align: middle;\n",
              "    }\n",
              "\n",
              "    .dataframe tbody tr th {\n",
              "        vertical-align: top;\n",
              "    }\n",
              "\n",
              "    .dataframe thead th {\n",
              "        text-align: right;\n",
              "    }\n",
              "</style>\n",
              "<table border=\"1\" class=\"dataframe\">\n",
              "  <thead>\n",
              "    <tr style=\"text-align: right;\">\n",
              "      <th></th>\n",
              "      <th>Adj Close</th>\n",
              "      <th>ret</th>\n",
              "      <th>20SMA</th>\n",
              "    </tr>\n",
              "    <tr>\n",
              "      <th>Date</th>\n",
              "      <th></th>\n",
              "      <th></th>\n",
              "      <th></th>\n",
              "    </tr>\n",
              "  </thead>\n",
              "  <tbody>\n",
              "    <tr>\n",
              "      <th>2020-12-23</th>\n",
              "      <td>18.620001</td>\n",
              "      <td>0.007031</td>\n",
              "      <td>18.3200</td>\n",
              "    </tr>\n",
              "    <tr>\n",
              "      <th>2020-12-24</th>\n",
              "      <td>18.690001</td>\n",
              "      <td>0.003759</td>\n",
              "      <td>18.3565</td>\n",
              "    </tr>\n",
              "    <tr>\n",
              "      <th>2020-12-28</th>\n",
              "      <td>18.620001</td>\n",
              "      <td>-0.003745</td>\n",
              "      <td>18.4000</td>\n",
              "    </tr>\n",
              "    <tr>\n",
              "      <th>2020-12-29</th>\n",
              "      <td>18.670000</td>\n",
              "      <td>0.002685</td>\n",
              "      <td>18.4500</td>\n",
              "    </tr>\n",
              "    <tr>\n",
              "      <th>2020-12-30</th>\n",
              "      <td>18.820000</td>\n",
              "      <td>0.008034</td>\n",
              "      <td>18.4895</td>\n",
              "    </tr>\n",
              "  </tbody>\n",
              "</table>\n",
              "</div>\n",
              "      <button class=\"colab-df-convert\" onclick=\"convertToInteractive('df-fe111c63-ed17-40fc-a910-d96adad74a75')\"\n",
              "              title=\"Convert this dataframe to an interactive table.\"\n",
              "              style=\"display:none;\">\n",
              "        \n",
              "  <svg xmlns=\"http://www.w3.org/2000/svg\" height=\"24px\"viewBox=\"0 0 24 24\"\n",
              "       width=\"24px\">\n",
              "    <path d=\"M0 0h24v24H0V0z\" fill=\"none\"/>\n",
              "    <path d=\"M18.56 5.44l.94 2.06.94-2.06 2.06-.94-2.06-.94-.94-2.06-.94 2.06-2.06.94zm-11 1L8.5 8.5l.94-2.06 2.06-.94-2.06-.94L8.5 2.5l-.94 2.06-2.06.94zm10 10l.94 2.06.94-2.06 2.06-.94-2.06-.94-.94-2.06-.94 2.06-2.06.94z\"/><path d=\"M17.41 7.96l-1.37-1.37c-.4-.4-.92-.59-1.43-.59-.52 0-1.04.2-1.43.59L10.3 9.45l-7.72 7.72c-.78.78-.78 2.05 0 2.83L4 21.41c.39.39.9.59 1.41.59.51 0 1.02-.2 1.41-.59l7.78-7.78 2.81-2.81c.8-.78.8-2.07 0-2.86zM5.41 20L4 18.59l7.72-7.72 1.47 1.35L5.41 20z\"/>\n",
              "  </svg>\n",
              "      </button>\n",
              "      \n",
              "  <style>\n",
              "    .colab-df-container {\n",
              "      display:flex;\n",
              "      flex-wrap:wrap;\n",
              "      gap: 12px;\n",
              "    }\n",
              "\n",
              "    .colab-df-convert {\n",
              "      background-color: #E8F0FE;\n",
              "      border: none;\n",
              "      border-radius: 50%;\n",
              "      cursor: pointer;\n",
              "      display: none;\n",
              "      fill: #1967D2;\n",
              "      height: 32px;\n",
              "      padding: 0 0 0 0;\n",
              "      width: 32px;\n",
              "    }\n",
              "\n",
              "    .colab-df-convert:hover {\n",
              "      background-color: #E2EBFA;\n",
              "      box-shadow: 0px 1px 2px rgba(60, 64, 67, 0.3), 0px 1px 3px 1px rgba(60, 64, 67, 0.15);\n",
              "      fill: #174EA6;\n",
              "    }\n",
              "\n",
              "    [theme=dark] .colab-df-convert {\n",
              "      background-color: #3B4455;\n",
              "      fill: #D2E3FC;\n",
              "    }\n",
              "\n",
              "    [theme=dark] .colab-df-convert:hover {\n",
              "      background-color: #434B5C;\n",
              "      box-shadow: 0px 1px 3px 1px rgba(0, 0, 0, 0.15);\n",
              "      filter: drop-shadow(0px 1px 2px rgba(0, 0, 0, 0.3));\n",
              "      fill: #FFFFFF;\n",
              "    }\n",
              "  </style>\n",
              "\n",
              "      <script>\n",
              "        const buttonEl =\n",
              "          document.querySelector('#df-fe111c63-ed17-40fc-a910-d96adad74a75 button.colab-df-convert');\n",
              "        buttonEl.style.display =\n",
              "          google.colab.kernel.accessAllowed ? 'block' : 'none';\n",
              "\n",
              "        async function convertToInteractive(key) {\n",
              "          const element = document.querySelector('#df-fe111c63-ed17-40fc-a910-d96adad74a75');\n",
              "          const dataTable =\n",
              "            await google.colab.kernel.invokeFunction('convertToInteractive',\n",
              "                                                     [key], {});\n",
              "          if (!dataTable) return;\n",
              "\n",
              "          const docLinkHtml = 'Like what you see? Visit the ' +\n",
              "            '<a target=\"_blank\" href=https://colab.research.google.com/notebooks/data_table.ipynb>data table notebook</a>'\n",
              "            + ' to learn more about interactive tables.';\n",
              "          element.innerHTML = '';\n",
              "          dataTable['output_type'] = 'display_data';\n",
              "          await google.colab.output.renderOutput(dataTable, element);\n",
              "          const docLink = document.createElement('div');\n",
              "          docLink.innerHTML = docLinkHtml;\n",
              "          element.appendChild(docLink);\n",
              "        }\n",
              "      </script>\n",
              "    </div>\n",
              "  </div>\n",
              "  "
            ],
            "text/plain": [
              "            Adj Close       ret    20SMA\n",
              "Date                                    \n",
              "2020-12-23  18.620001  0.007031  18.3200\n",
              "2020-12-24  18.690001  0.003759  18.3565\n",
              "2020-12-28  18.620001 -0.003745  18.4000\n",
              "2020-12-29  18.670000  0.002685  18.4500\n",
              "2020-12-30  18.820000  0.008034  18.4895"
            ]
          },
          "execution_count": 11,
          "metadata": {},
          "output_type": "execute_result"
        }
      ],
      "source": [
        "gold_etf.tail()"
      ]
    },
    {
      "cell_type": "code",
      "execution_count": null,
      "metadata": {
        "colab": {
          "base_uri": "https://localhost:8080/",
          "height": 238
        },
        "id": "_VfqeQBK0Ja8",
        "outputId": "7f44ac0c-c7b1-447f-f112-119293c1fbd8"
      },
      "outputs": [
        {
          "data": {
            "text/html": [
              "\n",
              "  <div id=\"df-b1836187-54d6-476b-9700-3ddd0d05a2b3\">\n",
              "    <div class=\"colab-df-container\">\n",
              "      <div>\n",
              "<style scoped>\n",
              "    .dataframe tbody tr th:only-of-type {\n",
              "        vertical-align: middle;\n",
              "    }\n",
              "\n",
              "    .dataframe tbody tr th {\n",
              "        vertical-align: top;\n",
              "    }\n",
              "\n",
              "    .dataframe thead th {\n",
              "        text-align: right;\n",
              "    }\n",
              "</style>\n",
              "<table border=\"1\" class=\"dataframe\">\n",
              "  <thead>\n",
              "    <tr style=\"text-align: right;\">\n",
              "      <th></th>\n",
              "      <th>Adj Close</th>\n",
              "      <th>ret</th>\n",
              "      <th>20SMA</th>\n",
              "    </tr>\n",
              "    <tr>\n",
              "      <th>Date</th>\n",
              "      <th></th>\n",
              "      <th></th>\n",
              "      <th></th>\n",
              "    </tr>\n",
              "  </thead>\n",
              "  <tbody>\n",
              "    <tr>\n",
              "      <th>2020-12-24</th>\n",
              "      <td>13595.0</td>\n",
              "      <td>0.011533</td>\n",
              "      <td>13617.75</td>\n",
              "    </tr>\n",
              "    <tr>\n",
              "      <th>2020-12-25</th>\n",
              "      <td>13610.0</td>\n",
              "      <td>0.001103</td>\n",
              "      <td>13618.50</td>\n",
              "    </tr>\n",
              "    <tr>\n",
              "      <th>2020-12-28</th>\n",
              "      <td>13795.0</td>\n",
              "      <td>0.013593</td>\n",
              "      <td>13637.50</td>\n",
              "    </tr>\n",
              "    <tr>\n",
              "      <th>2020-12-29</th>\n",
              "      <td>14595.0</td>\n",
              "      <td>0.057992</td>\n",
              "      <td>13680.00</td>\n",
              "    </tr>\n",
              "    <tr>\n",
              "      <th>2020-12-30</th>\n",
              "      <td>14450.0</td>\n",
              "      <td>-0.009935</td>\n",
              "      <td>13715.25</td>\n",
              "    </tr>\n",
              "  </tbody>\n",
              "</table>\n",
              "</div>\n",
              "      <button class=\"colab-df-convert\" onclick=\"convertToInteractive('df-b1836187-54d6-476b-9700-3ddd0d05a2b3')\"\n",
              "              title=\"Convert this dataframe to an interactive table.\"\n",
              "              style=\"display:none;\">\n",
              "        \n",
              "  <svg xmlns=\"http://www.w3.org/2000/svg\" height=\"24px\"viewBox=\"0 0 24 24\"\n",
              "       width=\"24px\">\n",
              "    <path d=\"M0 0h24v24H0V0z\" fill=\"none\"/>\n",
              "    <path d=\"M18.56 5.44l.94 2.06.94-2.06 2.06-.94-2.06-.94-.94-2.06-.94 2.06-2.06.94zm-11 1L8.5 8.5l.94-2.06 2.06-.94-2.06-.94L8.5 2.5l-.94 2.06-2.06.94zm10 10l.94 2.06.94-2.06 2.06-.94-2.06-.94-.94-2.06-.94 2.06-2.06.94z\"/><path d=\"M17.41 7.96l-1.37-1.37c-.4-.4-.92-.59-1.43-.59-.52 0-1.04.2-1.43.59L10.3 9.45l-7.72 7.72c-.78.78-.78 2.05 0 2.83L4 21.41c.39.39.9.59 1.41.59.51 0 1.02-.2 1.41-.59l7.78-7.78 2.81-2.81c.8-.78.8-2.07 0-2.86zM5.41 20L4 18.59l7.72-7.72 1.47 1.35L5.41 20z\"/>\n",
              "  </svg>\n",
              "      </button>\n",
              "      \n",
              "  <style>\n",
              "    .colab-df-container {\n",
              "      display:flex;\n",
              "      flex-wrap:wrap;\n",
              "      gap: 12px;\n",
              "    }\n",
              "\n",
              "    .colab-df-convert {\n",
              "      background-color: #E8F0FE;\n",
              "      border: none;\n",
              "      border-radius: 50%;\n",
              "      cursor: pointer;\n",
              "      display: none;\n",
              "      fill: #1967D2;\n",
              "      height: 32px;\n",
              "      padding: 0 0 0 0;\n",
              "      width: 32px;\n",
              "    }\n",
              "\n",
              "    .colab-df-convert:hover {\n",
              "      background-color: #E2EBFA;\n",
              "      box-shadow: 0px 1px 2px rgba(60, 64, 67, 0.3), 0px 1px 3px 1px rgba(60, 64, 67, 0.15);\n",
              "      fill: #174EA6;\n",
              "    }\n",
              "\n",
              "    [theme=dark] .colab-df-convert {\n",
              "      background-color: #3B4455;\n",
              "      fill: #D2E3FC;\n",
              "    }\n",
              "\n",
              "    [theme=dark] .colab-df-convert:hover {\n",
              "      background-color: #434B5C;\n",
              "      box-shadow: 0px 1px 3px 1px rgba(0, 0, 0, 0.15);\n",
              "      filter: drop-shadow(0px 1px 2px rgba(0, 0, 0, 0.3));\n",
              "      fill: #FFFFFF;\n",
              "    }\n",
              "  </style>\n",
              "\n",
              "      <script>\n",
              "        const buttonEl =\n",
              "          document.querySelector('#df-b1836187-54d6-476b-9700-3ddd0d05a2b3 button.colab-df-convert');\n",
              "        buttonEl.style.display =\n",
              "          google.colab.kernel.accessAllowed ? 'block' : 'none';\n",
              "\n",
              "        async function convertToInteractive(key) {\n",
              "          const element = document.querySelector('#df-b1836187-54d6-476b-9700-3ddd0d05a2b3');\n",
              "          const dataTable =\n",
              "            await google.colab.kernel.invokeFunction('convertToInteractive',\n",
              "                                                     [key], {});\n",
              "          if (!dataTable) return;\n",
              "\n",
              "          const docLinkHtml = 'Like what you see? Visit the ' +\n",
              "            '<a target=\"_blank\" href=https://colab.research.google.com/notebooks/data_table.ipynb>data table notebook</a>'\n",
              "            + ' to learn more about interactive tables.';\n",
              "          element.innerHTML = '';\n",
              "          dataTable['output_type'] = 'display_data';\n",
              "          await google.colab.output.renderOutput(dataTable, element);\n",
              "          const docLink = document.createElement('div');\n",
              "          docLink.innerHTML = docLinkHtml;\n",
              "          element.appendChild(docLink);\n",
              "        }\n",
              "      </script>\n",
              "    </div>\n",
              "  </div>\n",
              "  "
            ],
            "text/plain": [
              "            Adj Close       ret     20SMA\n",
              "Date                                     \n",
              "2020-12-24    13595.0  0.011533  13617.75\n",
              "2020-12-25    13610.0  0.001103  13618.50\n",
              "2020-12-28    13795.0  0.013593  13637.50\n",
              "2020-12-29    14595.0  0.057992  13680.00\n",
              "2020-12-30    14450.0 -0.009935  13715.25"
            ]
          },
          "execution_count": 12,
          "metadata": {},
          "output_type": "execute_result"
        }
      ],
      "source": [
        "nikkei_etf.tail()"
      ]
    },
    {
      "cell_type": "code",
      "execution_count": null,
      "metadata": {
        "colab": {
          "base_uri": "https://localhost:8080/",
          "height": 238
        },
        "id": "t3rTPgpO0Mx4",
        "outputId": "926e0eb7-162c-43ff-e683-d4d6873d7bfc"
      },
      "outputs": [
        {
          "data": {
            "text/html": [
              "\n",
              "  <div id=\"df-ffa7a1ea-18de-4c7c-8b58-65fd823ab4d0\">\n",
              "    <div class=\"colab-df-container\">\n",
              "      <div>\n",
              "<style scoped>\n",
              "    .dataframe tbody tr th:only-of-type {\n",
              "        vertical-align: middle;\n",
              "    }\n",
              "\n",
              "    .dataframe tbody tr th {\n",
              "        vertical-align: top;\n",
              "    }\n",
              "\n",
              "    .dataframe thead th {\n",
              "        text-align: right;\n",
              "    }\n",
              "</style>\n",
              "<table border=\"1\" class=\"dataframe\">\n",
              "  <thead>\n",
              "    <tr style=\"text-align: right;\">\n",
              "      <th></th>\n",
              "      <th>Adj Close</th>\n",
              "      <th>ret</th>\n",
              "      <th>20SMA</th>\n",
              "    </tr>\n",
              "    <tr>\n",
              "      <th>Date</th>\n",
              "      <th></th>\n",
              "      <th></th>\n",
              "      <th></th>\n",
              "    </tr>\n",
              "  </thead>\n",
              "  <tbody>\n",
              "    <tr>\n",
              "      <th>2020-12-27</th>\n",
              "      <td>26272.294922</td>\n",
              "      <td>-0.006231</td>\n",
              "      <td>21767.354687</td>\n",
              "    </tr>\n",
              "    <tr>\n",
              "      <th>2020-12-28</th>\n",
              "      <td>27084.808594</td>\n",
              "      <td>0.030927</td>\n",
              "      <td>22205.537891</td>\n",
              "    </tr>\n",
              "    <tr>\n",
              "      <th>2020-12-29</th>\n",
              "      <td>27362.437500</td>\n",
              "      <td>0.010250</td>\n",
              "      <td>22645.963965</td>\n",
              "    </tr>\n",
              "    <tr>\n",
              "      <th>2020-12-30</th>\n",
              "      <td>28840.953125</td>\n",
              "      <td>0.054034</td>\n",
              "      <td>23174.762012</td>\n",
              "    </tr>\n",
              "    <tr>\n",
              "      <th>2020-12-31</th>\n",
              "      <td>29001.720703</td>\n",
              "      <td>0.005574</td>\n",
              "      <td>23721.902832</td>\n",
              "    </tr>\n",
              "  </tbody>\n",
              "</table>\n",
              "</div>\n",
              "      <button class=\"colab-df-convert\" onclick=\"convertToInteractive('df-ffa7a1ea-18de-4c7c-8b58-65fd823ab4d0')\"\n",
              "              title=\"Convert this dataframe to an interactive table.\"\n",
              "              style=\"display:none;\">\n",
              "        \n",
              "  <svg xmlns=\"http://www.w3.org/2000/svg\" height=\"24px\"viewBox=\"0 0 24 24\"\n",
              "       width=\"24px\">\n",
              "    <path d=\"M0 0h24v24H0V0z\" fill=\"none\"/>\n",
              "    <path d=\"M18.56 5.44l.94 2.06.94-2.06 2.06-.94-2.06-.94-.94-2.06-.94 2.06-2.06.94zm-11 1L8.5 8.5l.94-2.06 2.06-.94-2.06-.94L8.5 2.5l-.94 2.06-2.06.94zm10 10l.94 2.06.94-2.06 2.06-.94-2.06-.94-.94-2.06-.94 2.06-2.06.94z\"/><path d=\"M17.41 7.96l-1.37-1.37c-.4-.4-.92-.59-1.43-.59-.52 0-1.04.2-1.43.59L10.3 9.45l-7.72 7.72c-.78.78-.78 2.05 0 2.83L4 21.41c.39.39.9.59 1.41.59.51 0 1.02-.2 1.41-.59l7.78-7.78 2.81-2.81c.8-.78.8-2.07 0-2.86zM5.41 20L4 18.59l7.72-7.72 1.47 1.35L5.41 20z\"/>\n",
              "  </svg>\n",
              "      </button>\n",
              "      \n",
              "  <style>\n",
              "    .colab-df-container {\n",
              "      display:flex;\n",
              "      flex-wrap:wrap;\n",
              "      gap: 12px;\n",
              "    }\n",
              "\n",
              "    .colab-df-convert {\n",
              "      background-color: #E8F0FE;\n",
              "      border: none;\n",
              "      border-radius: 50%;\n",
              "      cursor: pointer;\n",
              "      display: none;\n",
              "      fill: #1967D2;\n",
              "      height: 32px;\n",
              "      padding: 0 0 0 0;\n",
              "      width: 32px;\n",
              "    }\n",
              "\n",
              "    .colab-df-convert:hover {\n",
              "      background-color: #E2EBFA;\n",
              "      box-shadow: 0px 1px 2px rgba(60, 64, 67, 0.3), 0px 1px 3px 1px rgba(60, 64, 67, 0.15);\n",
              "      fill: #174EA6;\n",
              "    }\n",
              "\n",
              "    [theme=dark] .colab-df-convert {\n",
              "      background-color: #3B4455;\n",
              "      fill: #D2E3FC;\n",
              "    }\n",
              "\n",
              "    [theme=dark] .colab-df-convert:hover {\n",
              "      background-color: #434B5C;\n",
              "      box-shadow: 0px 1px 3px 1px rgba(0, 0, 0, 0.15);\n",
              "      filter: drop-shadow(0px 1px 2px rgba(0, 0, 0, 0.3));\n",
              "      fill: #FFFFFF;\n",
              "    }\n",
              "  </style>\n",
              "\n",
              "      <script>\n",
              "        const buttonEl =\n",
              "          document.querySelector('#df-ffa7a1ea-18de-4c7c-8b58-65fd823ab4d0 button.colab-df-convert');\n",
              "        buttonEl.style.display =\n",
              "          google.colab.kernel.accessAllowed ? 'block' : 'none';\n",
              "\n",
              "        async function convertToInteractive(key) {\n",
              "          const element = document.querySelector('#df-ffa7a1ea-18de-4c7c-8b58-65fd823ab4d0');\n",
              "          const dataTable =\n",
              "            await google.colab.kernel.invokeFunction('convertToInteractive',\n",
              "                                                     [key], {});\n",
              "          if (!dataTable) return;\n",
              "\n",
              "          const docLinkHtml = 'Like what you see? Visit the ' +\n",
              "            '<a target=\"_blank\" href=https://colab.research.google.com/notebooks/data_table.ipynb>data table notebook</a>'\n",
              "            + ' to learn more about interactive tables.';\n",
              "          element.innerHTML = '';\n",
              "          dataTable['output_type'] = 'display_data';\n",
              "          await google.colab.output.renderOutput(dataTable, element);\n",
              "          const docLink = document.createElement('div');\n",
              "          docLink.innerHTML = docLinkHtml;\n",
              "          element.appendChild(docLink);\n",
              "        }\n",
              "      </script>\n",
              "    </div>\n",
              "  </div>\n",
              "  "
            ],
            "text/plain": [
              "               Adj Close       ret         20SMA\n",
              "Date                                            \n",
              "2020-12-27  26272.294922 -0.006231  21767.354687\n",
              "2020-12-28  27084.808594  0.030927  22205.537891\n",
              "2020-12-29  27362.437500  0.010250  22645.963965\n",
              "2020-12-30  28840.953125  0.054034  23174.762012\n",
              "2020-12-31  29001.720703  0.005574  23721.902832"
            ]
          },
          "execution_count": 13,
          "metadata": {},
          "output_type": "execute_result"
        }
      ],
      "source": [
        "btcusd.tail()"
      ]
    },
    {
      "cell_type": "markdown",
      "metadata": {
        "id": "xUZgJ-uBzzKn"
      },
      "source": [
        "# 4. Graphing"
      ]
    },
    {
      "cell_type": "code",
      "execution_count": null,
      "metadata": {
        "colab": {
          "base_uri": "https://localhost:8080/",
          "height": 514
        },
        "id": "8qTmat44z7eQ",
        "outputId": "887b3c3f-4c5c-4dce-9c53-4004afe23c19"
      },
      "outputs": [
        {
          "data": {
            "text/plain": [
              "Text(0, 0.5, '(USD)')"
            ]
          },
          "execution_count": 14,
          "metadata": {},
          "output_type": "execute_result"
        },
        {
          "data": {
            "image/png": "[encoded data removed]",
            "text/plain": [
              "<Figure size 1152x576 with 1 Axes>"
            ]
          },
          "metadata": {
            "needs_background": "light"
          },
          "output_type": "display_data"
        }
      ],
      "source": [
        "# Gold Graph\n",
        "fig = plt.figure(figsize=(16,8))\n",
        "ax1 = gold_etf['Adj Close'].plot(color='orange')\n",
        "ax2 = gold_etf['20SMA'].plot(color='blue')\n",
        "ax1.legend()\n",
        "plt.title('Gold ETF Prices')\n",
        "plt.ylabel('(USD)')"
      ]
    },
    {
      "cell_type": "code",
      "execution_count": null,
      "metadata": {
        "colab": {
          "base_uri": "https://localhost:8080/",
          "height": 514
        },
        "id": "FrGhhj8Z1GCi",
        "outputId": "32b22aca-29bf-4d82-8d78-605b56eb1801"
      },
      "outputs": [
        {
          "data": {
            "text/plain": [
              "Text(0.5, 1.0, 'Nikkei 1570 ETF Prices')"
            ]
          },
          "execution_count": 15,
          "metadata": {},
          "output_type": "execute_result"
        },
        {
          "data": {
            "image/png": "[encoded data removed]",
            "text/plain": [
              "<Figure size 1152x576 with 1 Axes>"
            ]
          },
          "metadata": {
            "needs_background": "light"
          },
          "output_type": "display_data"
        }
      ],
      "source": [
        "# Nikkei Graph\n",
        "fig = plt.figure(figsize=(16,8))\n",
        "ax3 = nikkei_etf['Adj Close'].plot(color='green')\n",
        "ax4 = nikkei_etf['20SMA'].plot(color='blue')\n",
        "ax3.legend()\n",
        "plt.title('Nikkei 1570 ETF Prices')"
      ]
    },
    {
      "cell_type": "code",
      "execution_count": null,
      "metadata": {
        "colab": {
          "base_uri": "https://localhost:8080/",
          "height": 547
        },
        "id": "lcAjDP1T2Pj3",
        "outputId": "46dc6b4e-cda0-4fc5-e6b0-5b88e6f50962"
      },
      "outputs": [
        {
          "data": {
            "text/plain": [
              "Text(0, 0.5, '(USD)')"
            ]
          },
          "execution_count": 16,
          "metadata": {},
          "output_type": "execute_result"
        },
        {
          "data": {
            "image/png": "[encoded data removed]",
            "text/plain": [
              "<Figure size 1152x576 with 1 Axes>"
            ]
          },
          "metadata": {
            "needs_background": "light"
          },
          "output_type": "display_data"
        }
      ],
      "source": [
        "# BTC Graph\n",
        "fig = plt.figure(figsize=(16,8))\n",
        "#ax5 = btcusd['close'].plot(color='red')\n",
        "ax5 = btcusd['Adj Close'].plot(color='red')\n",
        "ax6 = btcusd['20SMA'].plot(color='blue')\n",
        "ax5.legend()\n",
        "plt.title('BTCUSD Prices')\n",
        "plt.ylabel('(USD)')"
      ]
    },
    {
      "cell_type": "code",
      "execution_count": null,
      "metadata": {
        "id": "20iDq8KaDP5_"
      },
      "outputs": [],
      "source": [
        "#btcusd=btcusd.reset_index()\n",
        "#btcusd[btcusd.columns[0]] = pd.to_datetime(btcusd[btcusd.columns[0]])\n",
        "#btcusd=btcusd.set_index('formatted_date')"
      ]
    },
    {
      "cell_type": "code",
      "execution_count": null,
      "metadata": {
        "colab": {
          "base_uri": "https://localhost:8080/",
          "height": 299
        },
        "id": "1gRhwmK4CPOz",
        "outputId": "353f4dd7-98b2-4494-c904-4e880deab1f8"
      },
      "outputs": [
        {
          "data": {
            "image/png": "[encoded data removed]",
            "text/plain": [
              "<Figure size 432x288 with 2 Axes>"
            ]
          },
          "metadata": {
            "needs_background": "light"
          },
          "output_type": "display_data"
        }
      ],
      "source": [
        "# Gold and BTC Graph\n",
        "fig, ax1 = plt.subplots()\n",
        "\n",
        "color = 'tab:red'\n",
        "ax1.set_ylabel('Gold ETF (USD)', color=color)\n",
        "ax1.plot(gold_etf['Adj Close'], color=color)\n",
        "ax1.tick_params(axis='y', labelcolor=color)\n",
        "\n",
        "ax2 = ax1.twinx()  # instantiate a second axes that shares the same x-axis\n",
        "\n",
        "color = 'tab:blue'\n",
        "ax2.set_ylabel('Bitcoin (USD)', color=color)  # we already handled the x-label with ax1\n",
        "#ax2.plot(btcusd['close'], color=color)\n",
        "ax2.plot(btcusd['Adj Close'], color=color)\n",
        "ax2.tick_params(axis='y', labelcolor=color)\n",
        "\n",
        "fig.tight_layout()  # otherwise the right y-label is slightly clipped\n",
        "fig.autofmt_xdate(rotation=45)\n",
        "plt.show()"
      ]
    },
    {
      "cell_type": "code",
      "execution_count": null,
      "metadata": {
        "colab": {
          "base_uri": "https://localhost:8080/",
          "height": 299
        },
        "id": "bCmkdTJWEZW-",
        "outputId": "0c4ca781-c166-4b3a-beb3-266660f76693"
      },
      "outputs": [
        {
          "data": {
            "image/png": "[encoded data removed]",
            "text/plain": [
              "<Figure size 432x288 with 2 Axes>"
            ]
          },
          "metadata": {
            "needs_background": "light"
          },
          "output_type": "display_data"
        }
      ],
      "source": [
        "# Gold and Nikkei ETF Graph\n",
        "fig, ax1 = plt.subplots()\n",
        "\n",
        "color = 'tab:red'\n",
        "ax1.set_ylabel('Gold ETF (USD)', color=color)\n",
        "ax1.plot(gold_etf['Adj Close'], color=color)\n",
        "ax1.tick_params(axis='y', labelcolor=color)\n",
        "\n",
        "ax2 = ax1.twinx()  # instantiate a second axes that shares the same x-axis\n",
        "\n",
        "color = 'tab:blue'\n",
        "ax2.set_ylabel('Nikkei ETF (USD)', color=color)  # we already handled the x-label with ax1\n",
        "ax2.plot(nikkei_etf['Adj Close'], color=color)\n",
        "ax2.tick_params(axis='y', labelcolor=color)\n",
        "\n",
        "fig.tight_layout()  # otherwise the right y-label is slightly clipped\n",
        "fig.autofmt_xdate(rotation=45)\n",
        "plt.show()"
      ]
    },
    {
      "cell_type": "code",
      "execution_count": null,
      "metadata": {
        "colab": {
          "base_uri": "https://localhost:8080/",
          "height": 299
        },
        "id": "zKnA-Vc0EuF6",
        "outputId": "8380da65-4bad-4b78-d013-6ebd4b41292d"
      },
      "outputs": [
        {
          "data": {
            "image/png": "[encoded data removed]",
            "text/plain": [
              "<Figure size 432x288 with 2 Axes>"
            ]
          },
          "metadata": {
            "needs_background": "light"
          },
          "output_type": "display_data"
        }
      ],
      "source": [
        "# Nikkei and BTC Graph\n",
        "fig, ax1 = plt.subplots()\n",
        "\n",
        "color = 'tab:red'\n",
        "ax1.set_ylabel('Nikkei ETF (USD)', color=color)\n",
        "ax1.plot(nikkei_etf['Adj Close'], color=color)\n",
        "ax1.tick_params(axis='y', labelcolor=color)\n",
        "\n",
        "ax2 = ax1.twinx()  # instantiate a second axes that shares the same x-axis\n",
        "\n",
        "color = 'tab:blue'\n",
        "ax2.set_ylabel('Bitcoin (USD)', color=color)  # we already handled the x-label with ax1\n",
        "ax2.plot(btcusd['Adj Close'], color=color)\n",
        "ax2.tick_params(axis='y', labelcolor=color)\n",
        "\n",
        "fig.tight_layout()  # otherwise the right y-label is slightly clipped\n",
        "fig.autofmt_xdate(rotation=45)\n",
        "plt.show()"
      ]
    },
    {
      "cell_type": "markdown",
      "metadata": {
        "id": "fNG4prIh2lQK"
      },
      "source": [
        "# 5. Fitting Garch Model"
      ]
    },
    {
      "cell_type": "code",
      "execution_count": null,
      "metadata": {
        "id": "EmYpRdOL2mam"
      },
      "outputs": [],
      "source": [
        "gold_etf = gold_etf.reset_index()\n",
        "gold_etf.dropna(inplace=True)"
      ]
    },
    {
      "cell_type": "code",
      "execution_count": null,
      "metadata": {
        "id": "p55t7UUP2plq"
      },
      "outputs": [],
      "source": [
        "gold_etf_q2 = gold_etf[gold_etf['Date'].dt.quarter==2]\n",
        "gold_etf_q3 = gold_etf[gold_etf['Date'].dt.quarter==3]\n",
        "gold_etf_q4 = gold_etf[gold_etf['Date'].dt.quarter==4]"
      ]
    },
    {
      "cell_type": "code",
      "execution_count": null,
      "metadata": {
        "id": "JG7LF0nr2wGe"
      },
      "outputs": [],
      "source": [
        "#GARCH\n",
        "def garch(df, p, q):\n",
        "  garch_df = arch_model(df.iloc[:,[0,2]].set_index('Date')*100, mean='Zero', vol='Garch', p=p, q=q)\n",
        "  garch_df_fit = garch_df.fit()\n",
        "  return garch_df_fit.summary()"
      ]
    },
    {
      "cell_type": "code",
      "execution_count": null,
      "metadata": {
        "colab": {
          "base_uri": "https://localhost:8080/",
          "height": 572
        },
        "id": "T-fRh-Zl_iFo",
        "outputId": "e809dfa7-f67a-4371-c91c-b076ff5c2f8e"
      },
      "outputs": [
        {
          "name": "stdout",
          "output_type": "stream",
          "text": [
            "Iteration:      1,   Func. Count:      5,   Neg. LLF: 56.0033257600036\n",
            "Iteration:      2,   Func. Count:     11,   Neg. LLF: 55.9956081803841\n",
            "Iteration:      3,   Func. Count:     18,   Neg. LLF: 55.990532149807926\n",
            "Iteration:      4,   Func. Count:     24,   Neg. LLF: 55.98797019433553\n",
            "Iteration:      5,   Func. Count:     29,   Neg. LLF: 55.98622584256829\n",
            "Iteration:      6,   Func. Count:     34,   Neg. LLF: 55.98607465489053\n",
            "Iteration:      7,   Func. Count:     39,   Neg. LLF: 55.98607183592322\n",
            "Optimization terminated successfully.    (Exit mode 0)\n",
            "            Current function value: 55.98607183593302\n",
            "            Iterations: 7\n",
            "            Function evaluations: 39\n",
            "            Gradient evaluations: 7\n"
          ]
        },
        {
          "data": {
            "text/html": [
              "<table class=\"simpletable\">\n",
              "<caption>Zero Mean - GARCH Model Results</caption>\n",
              "<tr>\n",
              "  <th>Dep. Variable:</th>         <td>ret</td>        <th>  R-squared:         </th>  <td>   0.000</td> \n",
              "</tr>\n",
              "<tr>\n",
              "  <th>Mean Model:</th>         <td>Zero Mean</td>     <th>  Adj. R-squared:    </th>  <td>   0.023</td> \n",
              "</tr>\n",
              "<tr>\n",
              "  <th>Vol Model:</th>            <td>GARCH</td>       <th>  Log-Likelihood:    </th> <td>  -55.9861</td>\n",
              "</tr>\n",
              "<tr>\n",
              "  <th>Distribution:</th>        <td>Normal</td>       <th>  AIC:               </th> <td>   117.972</td>\n",
              "</tr>\n",
              "<tr>\n",
              "  <th>Method:</th>        <td>Maximum Likelihood</td> <th>  BIC:               </th> <td>   123.325</td>\n",
              "</tr>\n",
              "<tr>\n",
              "  <th></th>                        <td></td>          <th>  No. Observations:  </th>     <td>44</td>    \n",
              "</tr>\n",
              "<tr>\n",
              "  <th>Date:</th>           <td>Tue, Jan 25 2022</td>  <th>  Df Residuals:      </th>     <td>44</td>    \n",
              "</tr>\n",
              "<tr>\n",
              "  <th>Time:</th>               <td>07:04:29</td>      <th>  Df Model:          </th>      <td>0</td>    \n",
              "</tr>\n",
              "</table>\n",
              "<table class=\"simpletable\">\n",
              "<caption>Volatility Model</caption>\n",
              "<tr>\n",
              "      <td></td>        <th>coef</th>     <th>std err</th>      <th>t</th>       <th>P>|t|</th>     <th>95.0% Conf. Int.</th>  \n",
              "</tr>\n",
              "<tr>\n",
              "  <th>omega</th>    <td>    0.3333</td> <td>    0.172</td> <td>    1.939</td> <td>5.249e-02</td> <td>[-3.580e-03,  0.670]</td>\n",
              "</tr>\n",
              "<tr>\n",
              "  <th>alpha[1]</th> <td>    0.1631</td> <td>    0.186</td> <td>    0.875</td> <td>    0.382</td>   <td>[ -0.202,  0.528]</td> \n",
              "</tr>\n",
              "<tr>\n",
              "  <th>beta[1]</th>  <td>    0.3890</td> <td>    0.235</td> <td>    1.654</td> <td>9.819e-02</td> <td>[-7.204e-02,  0.850]</td>\n",
              "</tr>\n",
              "</table><br/><br/>Covariance estimator: robust"
            ],
            "text/plain": [
              "<class 'statsmodels.iolib.summary.Summary'>\n",
              "\"\"\"\n",
              "                       Zero Mean - GARCH Model Results                        \n",
              "==============================================================================\n",
              "Dep. Variable:                    ret   R-squared:                       0.000\n",
              "Mean Model:                 Zero Mean   Adj. R-squared:                  0.023\n",
              "Vol Model:                      GARCH   Log-Likelihood:               -55.9861\n",
              "Distribution:                  Normal   AIC:                           117.972\n",
              "Method:            Maximum Likelihood   BIC:                           123.325\n",
              "                                        No. Observations:                   44\n",
              "Date:                Tue, Jan 25 2022   Df Residuals:                       44\n",
              "Time:                        07:04:29   Df Model:                            0\n",
              "                              Volatility Model                             \n",
              "===========================================================================\n",
              "                 coef    std err          t      P>|t|     95.0% Conf. Int.\n",
              "---------------------------------------------------------------------------\n",
              "omega          0.3333      0.172      1.939  5.249e-02 [-3.580e-03,  0.670]\n",
              "alpha[1]       0.1631      0.186      0.875      0.382    [ -0.202,  0.528]\n",
              "beta[1]        0.3890      0.235      1.654  9.819e-02 [-7.204e-02,  0.850]\n",
              "===========================================================================\n",
              "\n",
              "Covariance estimator: robust\n",
              "\"\"\""
            ]
          },
          "execution_count": 24,
          "metadata": {},
          "output_type": "execute_result"
        }
      ],
      "source": [
        "garch(gold_etf_q2, 1, 1)"
      ]
    },
    {
      "cell_type": "code",
      "execution_count": null,
      "metadata": {
        "colab": {
          "base_uri": "https://localhost:8080/",
          "height": 590
        },
        "id": "TpLKfHR9_mj5",
        "outputId": "f0762bff-7bc5-4504-e810-be59c94e69e5"
      },
      "outputs": [
        {
          "name": "stdout",
          "output_type": "stream",
          "text": [
            "Iteration:      1,   Func. Count:      5,   Neg. LLF: 102.84238294940238\n",
            "Iteration:      2,   Func. Count:     14,   Neg. LLF: 102.77409570629652\n",
            "Iteration:      3,   Func. Count:     20,   Neg. LLF: 102.60068807827011\n",
            "Iteration:      4,   Func. Count:     26,   Neg. LLF: 102.5713816197618\n",
            "Iteration:      5,   Func. Count:     32,   Neg. LLF: 102.5640247834209\n",
            "Iteration:      6,   Func. Count:     37,   Neg. LLF: 102.56161483786428\n",
            "Iteration:      7,   Func. Count:     42,   Neg. LLF: 102.56132442792844\n",
            "Iteration:      8,   Func. Count:     47,   Neg. LLF: 102.56127320442806\n",
            "Optimization terminated successfully.    (Exit mode 0)\n",
            "            Current function value: 102.56127320471423\n",
            "            Iterations: 8\n",
            "            Function evaluations: 47\n",
            "            Gradient evaluations: 8\n"
          ]
        },
        {
          "data": {
            "text/html": [
              "<table class=\"simpletable\">\n",
              "<caption>Zero Mean - GARCH Model Results</caption>\n",
              "<tr>\n",
              "  <th>Dep. Variable:</th>         <td>ret</td>        <th>  R-squared:         </th>  <td>   0.000</td> \n",
              "</tr>\n",
              "<tr>\n",
              "  <th>Mean Model:</th>         <td>Zero Mean</td>     <th>  Adj. R-squared:    </th>  <td>   0.016</td> \n",
              "</tr>\n",
              "<tr>\n",
              "  <th>Vol Model:</th>            <td>GARCH</td>       <th>  Log-Likelihood:    </th> <td>  -102.561</td>\n",
              "</tr>\n",
              "<tr>\n",
              "  <th>Distribution:</th>        <td>Normal</td>       <th>  AIC:               </th> <td>   211.123</td>\n",
              "</tr>\n",
              "<tr>\n",
              "  <th>Method:</th>        <td>Maximum Likelihood</td> <th>  BIC:               </th> <td>   217.599</td>\n",
              "</tr>\n",
              "<tr>\n",
              "  <th></th>                        <td></td>          <th>  No. Observations:  </th>     <td>64</td>    \n",
              "</tr>\n",
              "<tr>\n",
              "  <th>Date:</th>           <td>Tue, Jan 25 2022</td>  <th>  Df Residuals:      </th>     <td>64</td>    \n",
              "</tr>\n",
              "<tr>\n",
              "  <th>Time:</th>               <td>07:04:29</td>      <th>  Df Model:          </th>      <td>0</td>    \n",
              "</tr>\n",
              "</table>\n",
              "<table class=\"simpletable\">\n",
              "<caption>Volatility Model</caption>\n",
              "<tr>\n",
              "      <td></td>        <th>coef</th>     <th>std err</th>      <th>t</th>       <th>P>|t|</th>   <th>95.0% Conf. Int.</th> \n",
              "</tr>\n",
              "<tr>\n",
              "  <th>omega</th>    <td>    0.1584</td> <td>    0.134</td> <td>    1.179</td> <td>    0.238</td> <td>[ -0.105,  0.422]</td>\n",
              "</tr>\n",
              "<tr>\n",
              "  <th>alpha[1]</th> <td>    0.1957</td> <td>    0.248</td> <td>    0.788</td> <td>    0.431</td> <td>[ -0.291,  0.682]</td>\n",
              "</tr>\n",
              "<tr>\n",
              "  <th>beta[1]</th>  <td>    0.7409</td> <td>6.754e-02</td> <td>   10.969</td> <td>5.400e-28</td> <td>[  0.608,  0.873]</td>\n",
              "</tr>\n",
              "</table><br/><br/>Covariance estimator: robust"
            ],
            "text/plain": [
              "<class 'statsmodels.iolib.summary.Summary'>\n",
              "\"\"\"\n",
              "                       Zero Mean - GARCH Model Results                        \n",
              "==============================================================================\n",
              "Dep. Variable:                    ret   R-squared:                       0.000\n",
              "Mean Model:                 Zero Mean   Adj. R-squared:                  0.016\n",
              "Vol Model:                      GARCH   Log-Likelihood:               -102.561\n",
              "Distribution:                  Normal   AIC:                           211.123\n",
              "Method:            Maximum Likelihood   BIC:                           217.599\n",
              "                                        No. Observations:                   64\n",
              "Date:                Tue, Jan 25 2022   Df Residuals:                       64\n",
              "Time:                        07:04:29   Df Model:                            0\n",
              "                            Volatility Model                            \n",
              "========================================================================\n",
              "                 coef    std err          t      P>|t|  95.0% Conf. Int.\n",
              "------------------------------------------------------------------------\n",
              "omega          0.1584      0.134      1.179      0.238 [ -0.105,  0.422]\n",
              "alpha[1]       0.1957      0.248      0.788      0.431 [ -0.291,  0.682]\n",
              "beta[1]        0.7409  6.754e-02     10.969  5.400e-28 [  0.608,  0.873]\n",
              "========================================================================\n",
              "\n",
              "Covariance estimator: robust\n",
              "\"\"\""
            ]
          },
          "execution_count": 25,
          "metadata": {},
          "output_type": "execute_result"
        }
      ],
      "source": [
        "garch(gold_etf_q3, 1, 1)"
      ]
    },
    {
      "cell_type": "code",
      "execution_count": null,
      "metadata": {
        "colab": {
          "base_uri": "https://localhost:8080/",
          "height": 677
        },
        "id": "ULtq6XHJ5zfT",
        "outputId": "0268a492-ccc0-4685-b5ac-b6d6167a0dc7"
      },
      "outputs": [
        {
          "name": "stdout",
          "output_type": "stream",
          "text": [
            "Iteration:      1,   Func. Count:      5,   Neg. LLF: 90.70367132778173\n",
            "Iteration:      2,   Func. Count:     12,   Neg. LLF: 90.7019413646433\n",
            "Iteration:      3,   Func. Count:     17,   Neg. LLF: 90.59324239603669\n",
            "Iteration:      4,   Func. Count:     22,   Neg. LLF: 90.58929261598448\n",
            "Iteration:      5,   Func. Count:     27,   Neg. LLF: 90.55854093053524\n",
            "Iteration:      6,   Func. Count:     33,   Neg. LLF: 90.55547888836415\n",
            "Iteration:      7,   Func. Count:     39,   Neg. LLF: 90.5307513663968\n",
            "Iteration:      8,   Func. Count:     45,   Neg. LLF: 90.5159124287005\n",
            "Iteration:      9,   Func. Count:     51,   Neg. LLF: 90.50681636722503\n",
            "Iteration:     10,   Func. Count:     57,   Neg. LLF: 90.4952976380945\n",
            "Iteration:     11,   Func. Count:     63,   Neg. LLF: 90.49234126926018\n",
            "Iteration:     12,   Func. Count:     68,   Neg. LLF: 90.4911032822086\n",
            "Iteration:     13,   Func. Count:     73,   Neg. LLF: 90.49109197476365\n",
            "Optimization terminated successfully.    (Exit mode 0)\n",
            "            Current function value: 90.49109197477704\n",
            "            Iterations: 13\n",
            "            Function evaluations: 73\n",
            "            Gradient evaluations: 13\n"
          ]
        },
        {
          "data": {
            "text/html": [
              "<table class=\"simpletable\">\n",
              "<caption>Zero Mean - GARCH Model Results</caption>\n",
              "<tr>\n",
              "  <th>Dep. Variable:</th>         <td>ret</td>        <th>  R-squared:         </th>  <td>   0.000</td> \n",
              "</tr>\n",
              "<tr>\n",
              "  <th>Mean Model:</th>         <td>Zero Mean</td>     <th>  Adj. R-squared:    </th>  <td>   0.016</td> \n",
              "</tr>\n",
              "<tr>\n",
              "  <th>Vol Model:</th>            <td>GARCH</td>       <th>  Log-Likelihood:    </th> <td>  -90.4911</td>\n",
              "</tr>\n",
              "<tr>\n",
              "  <th>Distribution:</th>        <td>Normal</td>       <th>  AIC:               </th> <td>   186.982</td>\n",
              "</tr>\n",
              "<tr>\n",
              "  <th>Method:</th>        <td>Maximum Likelihood</td> <th>  BIC:               </th> <td>   193.412</td>\n",
              "</tr>\n",
              "<tr>\n",
              "  <th></th>                        <td></td>          <th>  No. Observations:  </th>     <td>63</td>    \n",
              "</tr>\n",
              "<tr>\n",
              "  <th>Date:</th>           <td>Tue, Jan 25 2022</td>  <th>  Df Residuals:      </th>     <td>63</td>    \n",
              "</tr>\n",
              "<tr>\n",
              "  <th>Time:</th>               <td>07:04:29</td>      <th>  Df Model:          </th>      <td>0</td>    \n",
              "</tr>\n",
              "</table>\n",
              "<table class=\"simpletable\">\n",
              "<caption>Volatility Model</caption>\n",
              "<tr>\n",
              "      <td></td>        <th>coef</th>     <th>std err</th>      <th>t</th>       <th>P>|t|</th>      <th>95.0% Conf. Int.</th>   \n",
              "</tr>\n",
              "<tr>\n",
              "  <th>omega</th>    <td>    0.0903</td> <td>6.214e-02</td> <td>    1.453</td> <td>    0.146</td>  <td>[-3.153e-02,  0.212]</td> \n",
              "</tr>\n",
              "<tr>\n",
              "  <th>alpha[1]</th>   <td>0.0000</td>   <td>5.118e-03</td>   <td>0.000</td>   <td>    1.000</td> <td>[-1.003e-02,1.003e-02]</td>\n",
              "</tr>\n",
              "<tr>\n",
              "  <th>beta[1]</th>  <td>    0.9173</td> <td>5.855e-02</td> <td>   15.668</td> <td>2.516e-55</td>    <td>[  0.803,  1.032]</td>  \n",
              "</tr>\n",
              "</table><br/><br/>Covariance estimator: robust"
            ],
            "text/plain": [
              "<class 'statsmodels.iolib.summary.Summary'>\n",
              "\"\"\"\n",
              "                       Zero Mean - GARCH Model Results                        \n",
              "==============================================================================\n",
              "Dep. Variable:                    ret   R-squared:                       0.000\n",
              "Mean Model:                 Zero Mean   Adj. R-squared:                  0.016\n",
              "Vol Model:                      GARCH   Log-Likelihood:               -90.4911\n",
              "Distribution:                  Normal   AIC:                           186.982\n",
              "Method:            Maximum Likelihood   BIC:                           193.412\n",
              "                                        No. Observations:                   63\n",
              "Date:                Tue, Jan 25 2022   Df Residuals:                       63\n",
              "Time:                        07:04:29   Df Model:                            0\n",
              "                               Volatility Model                              \n",
              "=============================================================================\n",
              "                 coef    std err          t      P>|t|       95.0% Conf. Int.\n",
              "-----------------------------------------------------------------------------\n",
              "omega          0.0903  6.214e-02      1.453      0.146   [-3.153e-02,  0.212]\n",
              "alpha[1]       0.0000  5.118e-03      0.000      1.000 [-1.003e-02,1.003e-02]\n",
              "beta[1]        0.9173  5.855e-02     15.668  2.516e-55      [  0.803,  1.032]\n",
              "=============================================================================\n",
              "\n",
              "Covariance estimator: robust\n",
              "\"\"\""
            ]
          },
          "execution_count": 26,
          "metadata": {},
          "output_type": "execute_result"
        }
      ],
      "source": [
        "garch(gold_etf_q4, 1, 1)"
      ]
    },
    {
      "cell_type": "code",
      "execution_count": null,
      "metadata": {
        "id": "tJ2weOyx6A8L"
      },
      "outputs": [],
      "source": [
        "### EGARCH\n",
        "def garch_e(df, p, q):\n",
        "  garch_df = arch_model(df.iloc[:,[0,2]].set_index('Date')*100, mean='Zero', vol='EGARCH', p=p, q=q)\n",
        "  garch_df_fit = garch_df.fit()\n",
        "  return garch_df_fit.summary()"
      ]
    },
    {
      "cell_type": "code",
      "execution_count": null,
      "metadata": {
        "colab": {
          "base_uri": "https://localhost:8080/",
          "height": 572
        },
        "id": "JNS1D72d6OoG",
        "outputId": "b5199a9e-5146-4ab5-f419-40502ac6d82f"
      },
      "outputs": [
        {
          "name": "stdout",
          "output_type": "stream",
          "text": [
            "Iteration:      1,   Func. Count:      5,   Neg. LLF: 252.32029376162407\n",
            "Iteration:      2,   Func. Count:     13,   Neg. LLF: 252.20451657990532\n",
            "Iteration:      3,   Func. Count:     20,   Neg. LLF: 252.15896075297604\n",
            "Iteration:      4,   Func. Count:     27,   Neg. LLF: 252.15825968521904\n",
            "Iteration:      5,   Func. Count:     32,   Neg. LLF: 252.15279765454525\n",
            "Iteration:      6,   Func. Count:     37,   Neg. LLF: 252.15267282042535\n",
            "Iteration:      7,   Func. Count:     42,   Neg. LLF: 252.15267148996367\n",
            "Optimization terminated successfully.    (Exit mode 0)\n",
            "            Current function value: 252.15267148992157\n",
            "            Iterations: 7\n",
            "            Function evaluations: 42\n",
            "            Gradient evaluations: 7\n"
          ]
        },
        {
          "data": {
            "text/html": [
              "<table class=\"simpletable\">\n",
              "<caption>Zero Mean - EGARCH Model Results</caption>\n",
              "<tr>\n",
              "  <th>Dep. Variable:</th>         <td>ret</td>        <th>  R-squared:         </th>  <td>   0.000</td> \n",
              "</tr>\n",
              "<tr>\n",
              "  <th>Mean Model:</th>         <td>Zero Mean</td>     <th>  Adj. R-squared:    </th>  <td>   0.006</td> \n",
              "</tr>\n",
              "<tr>\n",
              "  <th>Vol Model:</th>           <td>EGARCH</td>       <th>  Log-Likelihood:    </th> <td>  -252.153</td>\n",
              "</tr>\n",
              "<tr>\n",
              "  <th>Distribution:</th>        <td>Normal</td>       <th>  AIC:               </th> <td>   510.305</td>\n",
              "</tr>\n",
              "<tr>\n",
              "  <th>Method:</th>        <td>Maximum Likelihood</td> <th>  BIC:               </th> <td>   519.730</td>\n",
              "</tr>\n",
              "<tr>\n",
              "  <th></th>                        <td></td>          <th>  No. Observations:  </th>     <td>171</td>   \n",
              "</tr>\n",
              "<tr>\n",
              "  <th>Date:</th>           <td>Tue, Jan 25 2022</td>  <th>  Df Residuals:      </th>     <td>171</td>   \n",
              "</tr>\n",
              "<tr>\n",
              "  <th>Time:</th>               <td>07:04:29</td>      <th>  Df Model:          </th>      <td>0</td>    \n",
              "</tr>\n",
              "</table>\n",
              "<table class=\"simpletable\">\n",
              "<caption>Volatility Model</caption>\n",
              "<tr>\n",
              "      <td></td>        <th>coef</th>     <th>std err</th>      <th>t</th>       <th>P>|t|</th>     <th>95.0% Conf. Int.</th>  \n",
              "</tr>\n",
              "<tr>\n",
              "  <th>omega</th>    <td>    0.0266</td> <td>4.022e-02</td> <td>    0.661</td> <td>    0.509</td> <td>[-5.225e-02,  0.105]</td>\n",
              "</tr>\n",
              "<tr>\n",
              "  <th>alpha[1]</th> <td>    0.2117</td> <td>    0.147</td> <td>    1.445</td> <td>    0.149</td> <td>[-7.550e-02,  0.499]</td>\n",
              "</tr>\n",
              "<tr>\n",
              "  <th>beta[1]</th>  <td>    0.8799</td> <td>6.452e-02</td> <td>   13.639</td> <td>2.358e-42</td>   <td>[  0.753,  1.006]</td> \n",
              "</tr>\n",
              "</table><br/><br/>Covariance estimator: robust"
            ],
            "text/plain": [
              "<class 'statsmodels.iolib.summary.Summary'>\n",
              "\"\"\"\n",
              "                       Zero Mean - EGARCH Model Results                       \n",
              "==============================================================================\n",
              "Dep. Variable:                    ret   R-squared:                       0.000\n",
              "Mean Model:                 Zero Mean   Adj. R-squared:                  0.006\n",
              "Vol Model:                     EGARCH   Log-Likelihood:               -252.153\n",
              "Distribution:                  Normal   AIC:                           510.305\n",
              "Method:            Maximum Likelihood   BIC:                           519.730\n",
              "                                        No. Observations:                  171\n",
              "Date:                Tue, Jan 25 2022   Df Residuals:                      171\n",
              "Time:                        07:04:29   Df Model:                            0\n",
              "                              Volatility Model                             \n",
              "===========================================================================\n",
              "                 coef    std err          t      P>|t|     95.0% Conf. Int.\n",
              "---------------------------------------------------------------------------\n",
              "omega          0.0266  4.022e-02      0.661      0.509 [-5.225e-02,  0.105]\n",
              "alpha[1]       0.2117      0.147      1.445      0.149 [-7.550e-02,  0.499]\n",
              "beta[1]        0.8799  6.452e-02     13.639  2.358e-42    [  0.753,  1.006]\n",
              "===========================================================================\n",
              "\n",
              "Covariance estimator: robust\n",
              "\"\"\""
            ]
          },
          "execution_count": 28,
          "metadata": {},
          "output_type": "execute_result"
        }
      ],
      "source": [
        "garch_e(gold_etf,1,1)"
      ]
    },
    {
      "cell_type": "code",
      "execution_count": null,
      "metadata": {
        "id": "9Yl2rR8P6RdN"
      },
      "outputs": [],
      "source": [
        "### TGARCH\n",
        "def garch_t(df, p, q):\n",
        "  garch_df = arch_model(df.iloc[:,[0,2]].set_index('Date')*100, mean='Zero', vol='Garch', p=p, o=1, q=q, power=q)\n",
        "  garch_df_fit = garch_df.fit()\n",
        "  return garch_df_fit.summary()"
      ]
    },
    {
      "cell_type": "code",
      "execution_count": null,
      "metadata": {
        "colab": {
          "base_uri": "https://localhost:8080/",
          "height": 767
        },
        "id": "mIfhotdj6mGx",
        "outputId": "e44c2d98-5bd5-4096-f941-dda52df96f3a"
      },
      "outputs": [
        {
          "name": "stdout",
          "output_type": "stream",
          "text": [
            "Iteration:      1,   Func. Count:      6,   Neg. LLF: 254.29239376945043\n",
            "Iteration:      2,   Func. Count:     16,   Neg. LLF: 253.98267436235142\n",
            "Iteration:      3,   Func. Count:     23,   Neg. LLF: 252.8179491883595\n",
            "Iteration:      4,   Func. Count:     30,   Neg. LLF: 251.979786062786\n",
            "Iteration:      5,   Func. Count:     37,   Neg. LLF: 251.26796902686715\n",
            "Iteration:      6,   Func. Count:     46,   Neg. LLF: 251.26309459537146\n",
            "Iteration:      7,   Func. Count:     53,   Neg. LLF: 250.97305129678432\n",
            "Iteration:      8,   Func. Count:     59,   Neg. LLF: 250.76409701496883\n",
            "Iteration:      9,   Func. Count:     65,   Neg. LLF: 250.62422714733614\n",
            "Iteration:     10,   Func. Count:     71,   Neg. LLF: 250.49853012822933\n",
            "Iteration:     11,   Func. Count:     77,   Neg. LLF: 249.92169975104161\n",
            "Iteration:     12,   Func. Count:     84,   Neg. LLF: 249.82578051889968\n",
            "Iteration:     13,   Func. Count:     90,   Neg. LLF: 249.76961354647477\n",
            "Iteration:     14,   Func. Count:     96,   Neg. LLF: 249.71071113916264\n",
            "Iteration:     15,   Func. Count:    102,   Neg. LLF: 249.70636451761487\n",
            "Iteration:     16,   Func. Count:    108,   Neg. LLF: 249.7058959367046\n",
            "Iteration:     17,   Func. Count:    114,   Neg. LLF: 249.7058267931409\n",
            "Optimization terminated successfully.    (Exit mode 0)\n",
            "            Current function value: 249.70582595060236\n",
            "            Iterations: 17\n",
            "            Function evaluations: 115\n",
            "            Gradient evaluations: 17\n"
          ]
        },
        {
          "data": {
            "text/html": [
              "<table class=\"simpletable\">\n",
              "<caption>Zero Mean - TARCH/ZARCH Model Results</caption>\n",
              "<tr>\n",
              "  <th>Dep. Variable:</th>         <td>ret</td>        <th>  R-squared:         </th>  <td>   0.000</td> \n",
              "</tr>\n",
              "<tr>\n",
              "  <th>Mean Model:</th>         <td>Zero Mean</td>     <th>  Adj. R-squared:    </th>  <td>   0.006</td> \n",
              "</tr>\n",
              "<tr>\n",
              "  <th>Vol Model:</th>         <td>TARCH/ZARCH</td>    <th>  Log-Likelihood:    </th> <td>  -249.706</td>\n",
              "</tr>\n",
              "<tr>\n",
              "  <th>Distribution:</th>        <td>Normal</td>       <th>  AIC:               </th> <td>   507.412</td>\n",
              "</tr>\n",
              "<tr>\n",
              "  <th>Method:</th>        <td>Maximum Likelihood</td> <th>  BIC:               </th> <td>   519.978</td>\n",
              "</tr>\n",
              "<tr>\n",
              "  <th></th>                        <td></td>          <th>  No. Observations:  </th>     <td>171</td>   \n",
              "</tr>\n",
              "<tr>\n",
              "  <th>Date:</th>           <td>Tue, Jan 25 2022</td>  <th>  Df Residuals:      </th>     <td>171</td>   \n",
              "</tr>\n",
              "<tr>\n",
              "  <th>Time:</th>               <td>07:04:29</td>      <th>  Df Model:          </th>      <td>0</td>    \n",
              "</tr>\n",
              "</table>\n",
              "<table class=\"simpletable\">\n",
              "<caption>Volatility Model</caption>\n",
              "<tr>\n",
              "      <td></td>        <th>coef</th>     <th>std err</th>      <th>t</th>       <th>P>|t|</th>     <th>95.0% Conf. Int.</th>  \n",
              "</tr>\n",
              "<tr>\n",
              "  <th>omega</th>    <td>    0.0492</td> <td>4.990e-02</td> <td>    0.985</td> <td>    0.325</td> <td>[-4.864e-02,  0.147]</td>\n",
              "</tr>\n",
              "<tr>\n",
              "  <th>alpha[1]</th> <td>    0.0973</td> <td>    0.110</td> <td>    0.888</td> <td>    0.375</td>   <td>[ -0.117,  0.312]</td> \n",
              "</tr>\n",
              "<tr>\n",
              "  <th>gamma[1]</th> <td>   -0.0973</td> <td>6.443e-02</td> <td>   -1.510</td> <td>    0.131</td>  <td>[ -0.224,2.897e-02]</td>\n",
              "</tr>\n",
              "<tr>\n",
              "  <th>beta[1]</th>  <td>    0.9154</td> <td>9.856e-02</td> <td>    9.288</td> <td>1.566e-20</td>   <td>[  0.722,  1.109]</td> \n",
              "</tr>\n",
              "</table><br/><br/>Covariance estimator: robust"
            ],
            "text/plain": [
              "<class 'statsmodels.iolib.summary.Summary'>\n",
              "\"\"\"\n",
              "                    Zero Mean - TARCH/ZARCH Model Results                     \n",
              "==============================================================================\n",
              "Dep. Variable:                    ret   R-squared:                       0.000\n",
              "Mean Model:                 Zero Mean   Adj. R-squared:                  0.006\n",
              "Vol Model:                TARCH/ZARCH   Log-Likelihood:               -249.706\n",
              "Distribution:                  Normal   AIC:                           507.412\n",
              "Method:            Maximum Likelihood   BIC:                           519.978\n",
              "                                        No. Observations:                  171\n",
              "Date:                Tue, Jan 25 2022   Df Residuals:                      171\n",
              "Time:                        07:04:29   Df Model:                            0\n",
              "                              Volatility Model                             \n",
              "===========================================================================\n",
              "                 coef    std err          t      P>|t|     95.0% Conf. Int.\n",
              "---------------------------------------------------------------------------\n",
              "omega          0.0492  4.990e-02      0.985      0.325 [-4.864e-02,  0.147]\n",
              "alpha[1]       0.0973      0.110      0.888      0.375    [ -0.117,  0.312]\n",
              "gamma[1]      -0.0973  6.443e-02     -1.510      0.131  [ -0.224,2.897e-02]\n",
              "beta[1]        0.9154  9.856e-02      9.288  1.566e-20    [  0.722,  1.109]\n",
              "===========================================================================\n",
              "\n",
              "Covariance estimator: robust\n",
              "\"\"\""
            ]
          },
          "execution_count": 30,
          "metadata": {},
          "output_type": "execute_result"
        }
      ],
      "source": [
        "garch_t(gold_etf, 1, 1)"
      ]
    },
    {
      "cell_type": "code",
      "execution_count": null,
      "metadata": {
        "id": "ASBBOZKn6pOC"
      },
      "outputs": [],
      "source": [
        "### IGARCH\n",
        "def garch_i(df, p, q):\n",
        "  garch_df = arch_model(df.iloc[:,[0,2]].set_index('Date')*100, mean='Zero', vol='FIGARCH', p=p, q=q)\n",
        "  garch_df_fit = garch_df.fit()\n",
        "  return garch_df_fit.summary()"
      ]
    },
    {
      "cell_type": "code",
      "execution_count": null,
      "metadata": {
        "colab": {
          "base_uri": "https://localhost:8080/",
          "height": 663
        },
        "id": "Ihiw9E396v05",
        "outputId": "571d7c62-188c-4c3d-ba9e-60415e7b289d"
      },
      "outputs": [
        {
          "name": "stdout",
          "output_type": "stream",
          "text": [
            "Iteration:      1,   Func. Count:      6,   Neg. LLF: 251.72945065119032\n",
            "Iteration:      2,   Func. Count:     15,   Neg. LLF: 251.61156543583553\n",
            "Iteration:      3,   Func. Count:     21,   Neg. LLF: 250.98553703485462\n",
            "Iteration:      4,   Func. Count:     27,   Neg. LLF: 249.85844571798586\n",
            "Iteration:      5,   Func. Count:     33,   Neg. LLF: 249.70632233868645\n",
            "Iteration:      6,   Func. Count:     40,   Neg. LLF: 249.54709899096764\n",
            "Iteration:      7,   Func. Count:     47,   Neg. LLF: 249.47243715304162\n",
            "Iteration:      8,   Func. Count:     53,   Neg. LLF: 249.44839227525244\n",
            "Iteration:      9,   Func. Count:     59,   Neg. LLF: 249.43173146733469\n",
            "Iteration:     10,   Func. Count:     65,   Neg. LLF: 249.42374199616916\n",
            "Iteration:     11,   Func. Count:     71,   Neg. LLF: 249.42367650537886\n",
            "Optimization terminated successfully.    (Exit mode 0)\n",
            "            Current function value: 249.42367670601323\n",
            "            Iterations: 11\n",
            "            Function evaluations: 71\n",
            "            Gradient evaluations: 11\n"
          ]
        },
        {
          "data": {
            "text/html": [
              "<table class=\"simpletable\">\n",
              "<caption>Zero Mean - FIGARCH Model Results</caption>\n",
              "<tr>\n",
              "  <th>Dep. Variable:</th>         <td>ret</td>        <th>  R-squared:         </th>  <td>   0.000</td> \n",
              "</tr>\n",
              "<tr>\n",
              "  <th>Mean Model:</th>         <td>Zero Mean</td>     <th>  Adj. R-squared:    </th>  <td>   0.006</td> \n",
              "</tr>\n",
              "<tr>\n",
              "  <th>Vol Model:</th>           <td>FIGARCH</td>      <th>  Log-Likelihood:    </th> <td>  -249.424</td>\n",
              "</tr>\n",
              "<tr>\n",
              "  <th>Distribution:</th>        <td>Normal</td>       <th>  AIC:               </th> <td>   506.847</td>\n",
              "</tr>\n",
              "<tr>\n",
              "  <th>Method:</th>        <td>Maximum Likelihood</td> <th>  BIC:               </th> <td>   519.414</td>\n",
              "</tr>\n",
              "<tr>\n",
              "  <th></th>                        <td></td>          <th>  No. Observations:  </th>     <td>171</td>   \n",
              "</tr>\n",
              "<tr>\n",
              "  <th>Date:</th>           <td>Tue, Jan 25 2022</td>  <th>  Df Residuals:      </th>     <td>171</td>   \n",
              "</tr>\n",
              "<tr>\n",
              "  <th>Time:</th>               <td>07:04:29</td>      <th>  Df Model:          </th>      <td>0</td>    \n",
              "</tr>\n",
              "</table>\n",
              "<table class=\"simpletable\">\n",
              "<caption>Volatility Model</caption>\n",
              "<tr>\n",
              "    <td></td>       <th>coef</th>     <th>std err</th>      <th>t</th>       <th>P>|t|</th>     <th>95.0% Conf. Int.</th>  \n",
              "</tr>\n",
              "<tr>\n",
              "  <th>omega</th> <td>    0.0922</td> <td>    0.882</td> <td>    0.105</td> <td>    0.917</td>   <td>[ -1.636,  1.821]</td> \n",
              "</tr>\n",
              "<tr>\n",
              "  <th>phi</th>     <td>0.0000</td>   <td>    2.939</td>   <td>0.000</td>   <td>    1.000</td>   <td>[ -5.760,  5.760]</td> \n",
              "</tr>\n",
              "<tr>\n",
              "  <th>d</th>     <td>    0.3982</td> <td>    3.273</td> <td>    0.122</td> <td>    0.903</td>   <td>[ -6.017,  6.814]</td> \n",
              "</tr>\n",
              "<tr>\n",
              "  <th>beta</th>  <td>    0.3982</td> <td>    0.206</td> <td>    1.934</td> <td>5.311e-02</td> <td>[-5.339e-03,  0.802]</td>\n",
              "</tr>\n",
              "</table><br/><br/>Covariance estimator: robust"
            ],
            "text/plain": [
              "<class 'statsmodels.iolib.summary.Summary'>\n",
              "\"\"\"\n",
              "                      Zero Mean - FIGARCH Model Results                       \n",
              "==============================================================================\n",
              "Dep. Variable:                    ret   R-squared:                       0.000\n",
              "Mean Model:                 Zero Mean   Adj. R-squared:                  0.006\n",
              "Vol Model:                    FIGARCH   Log-Likelihood:               -249.424\n",
              "Distribution:                  Normal   AIC:                           506.847\n",
              "Method:            Maximum Likelihood   BIC:                           519.414\n",
              "                                        No. Observations:                  171\n",
              "Date:                Tue, Jan 25 2022   Df Residuals:                      171\n",
              "Time:                        07:04:29   Df Model:                            0\n",
              "                              Volatility Model                             \n",
              "===========================================================================\n",
              "                 coef    std err          t      P>|t|     95.0% Conf. Int.\n",
              "---------------------------------------------------------------------------\n",
              "omega          0.0922      0.882      0.105      0.917    [ -1.636,  1.821]\n",
              "phi            0.0000      2.939      0.000      1.000    [ -5.760,  5.760]\n",
              "d              0.3982      3.273      0.122      0.903    [ -6.017,  6.814]\n",
              "beta           0.3982      0.206      1.934  5.311e-02 [-5.339e-03,  0.802]\n",
              "===========================================================================\n",
              "\n",
              "Covariance estimator: robust\n",
              "\"\"\""
            ]
          },
          "execution_count": 32,
          "metadata": {},
          "output_type": "execute_result"
        }
      ],
      "source": [
        "garch_i(gold_etf,p=1,q=1)"
      ]
    },
    {
      "cell_type": "markdown",
      "metadata": {
        "id": "wFunTxwU7BWP"
      },
      "source": [
        "Long run variance\n",
        "\n",
        "GARCH: 0.1549 / (1 - 0.1302 - 0.7472) = 1.26\n",
        "\n",
        "GARCH-M:\n",
        "\n",
        "TGARCH: 0.0492 / (1 - 0.9154) = 0.58\n",
        "\n",
        "EGARCH: 0.0266 / (1 - 0.2117 - 0.8799) = -0.29\n",
        "\n",
        "IGARCH: 0.0922 / (1 - 0.3982) = 0.15"
      ]
    },
    {
      "cell_type": "markdown",
      "metadata": {
        "id": "_5iAmL4t9qz7"
      },
      "source": [
        "# 6. Assessing stationarity"
      ]
    },
    {
      "cell_type": "code",
      "execution_count": null,
      "metadata": {
        "id": "0suNq5f19s4M"
      },
      "outputs": [],
      "source": [
        "from statsmodels.tsa.stattools import adfuller"
      ]
    },
    {
      "cell_type": "code",
      "execution_count": null,
      "metadata": {
        "id": "d34Z8hs3-zMg"
      },
      "outputs": [],
      "source": [
        "nikkei_etf = nikkei_etf.reset_index()\n",
        "nikkei_etf.dropna(inplace=True)\n",
        "btcusd = btcusd.reset_index()\n",
        "btcusd.dropna(inplace=True)"
      ]
    },
    {
      "cell_type": "code",
      "execution_count": null,
      "metadata": {
        "id": "atAqUlFYAK9t"
      },
      "outputs": [],
      "source": [
        "btcusd_q2 = btcusd[btcusd['Date'].dt.quarter==2]\n",
        "btcusd_q3 = btcusd[btcusd['Date'].dt.quarter==3]\n",
        "btcusd_q4 = btcusd[btcusd['Date'].dt.quarter==4]"
      ]
    },
    {
      "cell_type": "code",
      "execution_count": null,
      "metadata": {
        "id": "bpHZMcNx-nwr"
      },
      "outputs": [],
      "source": [
        "nikkei_etf_q2 = nikkei_etf[nikkei_etf['Date'].dt.quarter==2]\n",
        "nikkei_etf_q3 = nikkei_etf[nikkei_etf['Date'].dt.quarter==3]\n",
        "nikkei_etf_q4 = nikkei_etf[nikkei_etf['Date'].dt.quarter==4]"
      ]
    },
    {
      "cell_type": "code",
      "execution_count": null,
      "metadata": {
        "id": "M2UPn12_9yNe"
      },
      "outputs": [],
      "source": [
        "### test for stationarity\n",
        "def stn_test(df):\n",
        "  X = df.ret.dropna().values\n",
        "  result = adfuller(X)\n",
        "  print('ADF Statistic: %f' % result[0])\n",
        "  print('p-value: %f' % result[1])\n",
        "  print('Critical Values:')\n",
        "  for key, value in result[4].items():\n",
        "    print('\\t%s: %.3f' % (key, value))"
      ]
    },
    {
      "cell_type": "code",
      "execution_count": null,
      "metadata": {
        "colab": {
          "base_uri": "https://localhost:8080/"
        },
        "id": "Qrd4gKSx9_Zw",
        "outputId": "c1139dbb-4114-4263-dcbf-50b7a04a5a2d"
      },
      "outputs": [
        {
          "name": "stdout",
          "output_type": "stream",
          "text": [
            "ADF Statistic: -8.500637\n",
            "p-value: 0.000000\n",
            "Critical Values:\n",
            "\t1%: -3.593\n",
            "\t5%: -2.932\n",
            "\t10%: -2.604\n"
          ]
        }
      ],
      "source": [
        "stn_test(gold_etf_q2)"
      ]
    },
    {
      "cell_type": "markdown",
      "metadata": {
        "id": "XYC-sLPl-GDJ"
      },
      "source": [
        "returns for gold etf Q2 is stationary since test statistic is smaller than all critical values\n"
      ]
    },
    {
      "cell_type": "code",
      "execution_count": null,
      "metadata": {
        "colab": {
          "base_uri": "https://localhost:8080/"
        },
        "id": "VVLynB1c-f0U",
        "outputId": "8f3661c8-1bad-47b5-861f-3134c713efa2"
      },
      "outputs": [
        {
          "name": "stdout",
          "output_type": "stream",
          "text": [
            "ADF Statistic: -6.357972\n",
            "p-value: 0.000000\n",
            "Critical Values:\n",
            "\t1%: -3.601\n",
            "\t5%: -2.935\n",
            "\t10%: -2.606\n"
          ]
        }
      ],
      "source": [
        "stn_test(nikkei_etf_q2)"
      ]
    },
    {
      "cell_type": "markdown",
      "metadata": {
        "id": "it74ZbojApIU"
      },
      "source": [
        "returns for nikkei etf Q2 is stationary since test statistic is smaller than all critical values"
      ]
    },
    {
      "cell_type": "code",
      "execution_count": null,
      "metadata": {
        "colab": {
          "base_uri": "https://localhost:8080/"
        },
        "id": "RTh-_NqdAkne",
        "outputId": "e20d0cdc-b741-4bcc-8ae2-25340c2989fa"
      },
      "outputs": [
        {
          "name": "stdout",
          "output_type": "stream",
          "text": [
            "ADF Statistic: -5.404124\n",
            "p-value: 0.000003\n",
            "Critical Values:\n",
            "\t1%: -3.530\n",
            "\t5%: -2.905\n",
            "\t10%: -2.590\n"
          ]
        }
      ],
      "source": [
        "stn_test(btcusd_q2)"
      ]
    },
    {
      "cell_type": "markdown",
      "metadata": {
        "id": "6BW_i73wArUT"
      },
      "source": [
        "returns for btc Q2 is stationary since test statistic is smaller than all critical values"
      ]
    },
    {
      "cell_type": "markdown",
      "metadata": {
        "id": "KysspCRiFbP-"
      },
      "source": [
        "# 7. Modelling Cointegration"
      ]
    },
    {
      "cell_type": "markdown",
      "metadata": {
        "id": "yNT6eQE5ScPq"
      },
      "source": [
        "## 7.1"
      ]
    },
    {
      "cell_type": "code",
      "execution_count": null,
      "metadata": {
        "id": "GUVGxLriFcau"
      },
      "outputs": [],
      "source": [
        "import statsmodels.tsa.stattools as ts"
      ]
    },
    {
      "cell_type": "code",
      "execution_count": null,
      "metadata": {
        "id": "j3p73ZG4Fi_a"
      },
      "outputs": [],
      "source": [
        "def coint(df, col1, col2):\n",
        "  x = df[col1]\n",
        "  y = df[col2]\n",
        "  co_integrate = ts.coint(x,y)\n",
        "  print('p-value: ',co_integrate[1])\n",
        "  if co_integrate[1] < 0.05:\n",
        "    print(df.columns[1] +': Null hypothesis is false. Co-Integration exists')\n",
        "  else:\n",
        "    print(df.columns[1] + ': Null hypothesis is true. Co-Integration does not exist')\n",
        "  #if (co_integrate[1] > co_integrate[2][2]) == True:\n",
        "  #  print(df.columns[1] + ': Co-Integration does not exists at 10%')\n",
        "  #else:\n",
        "  #  print(df.columns[1] +': Co-Integration exists at 10%')"
      ]
    },
    {
      "cell_type": "code",
      "execution_count": null,
      "metadata": {
        "id": "t3F3P61kGBmE"
      },
      "outputs": [],
      "source": [
        "gold_etf_q2 = gold_etf_q2.set_index('Date')\n",
        "nikkei_etf_q2 = nikkei_etf_q2.set_index('Date')\n",
        "btcusd_q2 = btcusd_q2.set_index('Date')\n",
        "gold_etf_q3 = gold_etf_q3.set_index('Date')\n",
        "nikkei_etf_q3 = nikkei_etf_q3.set_index('Date')\n",
        "btcusd_q3 = btcusd_q3.set_index('Date')\n",
        "\n",
        "gold_etf_q3.rename(columns={'ret':'gold_ret'}, inplace=True)\n",
        "btcusd_q3.rename(columns={'ret':'btc_ret'}, inplace=True)\n",
        "nikkei_etf_q3.rename(columns={'ret':'n_ret'}, inplace=True)\n",
        "\n",
        "gold_etf_q3.rename(columns={'Adj Close':'gold_AdjClose'}, inplace=True)\n",
        "btcusd_q3.rename(columns={'Adj Close':'btc_AdjClose'}, inplace=True)\n",
        "nikkei_etf_q3.rename(columns={'Adj Close':'n_AdjClose'}, inplace=True)\n",
        "\n",
        "gold_etf_q3.rename(columns={'20SMA':'gold_20SMA'}, inplace=True)\n",
        "btcusd_q3.rename(columns={'20SMA':'btc_20SMA'}, inplace=True)\n",
        "nikkei_etf_q3.rename(columns={'20SMA':'n_20SMA'}, inplace=True)"
      ]
    },
    {
      "cell_type": "code",
      "execution_count": null,
      "metadata": {
        "id": "c9fQujXuIEv4"
      },
      "outputs": [],
      "source": [
        "all_q3 = pd.concat([gold_etf_q3, btcusd_q3, nikkei_etf_q3], axis=1).reindex(gold_etf_q3.index)"
      ]
    },
    {
      "cell_type": "code",
      "execution_count": null,
      "metadata": {
        "id": "6pfJasOKIJSX"
      },
      "outputs": [],
      "source": [
        "all_q3 = all_q3.dropna()"
      ]
    },
    {
      "cell_type": "code",
      "execution_count": null,
      "metadata": {
        "id": "0oGRaEppINCM"
      },
      "outputs": [],
      "source": [
        "gold_etf_q2.rename(columns={'ret':'gold_ret'}, inplace=True)\n",
        "btcusd_q2.rename(columns={'ret':'btc_ret'}, inplace=True)\n",
        "nikkei_etf_q2.rename(columns={'ret':'n_ret'}, inplace=True)\n",
        "\n",
        "gold_etf_q2.rename(columns={'Adj Close':'gold_AdjClose'}, inplace=True)\n",
        "btcusd_q2.rename(columns={'Adj Close':'btc_AdjClose'}, inplace=True)\n",
        "nikkei_etf_q2.rename(columns={'Adj Close':'n_AdjClose'}, inplace=True)\n",
        "\n",
        "gold_etf_q2.rename(columns={'20SMA':'gold_20SMA'}, inplace=True)\n",
        "btcusd_q2.rename(columns={'20SMA':'btc_20SMA'}, inplace=True)\n",
        "nikkei_etf_q2.rename(columns={'20SMA':'n_20SMA'}, inplace=True)"
      ]
    },
    {
      "cell_type": "code",
      "execution_count": null,
      "metadata": {
        "id": "9M55WgZTIRhR"
      },
      "outputs": [],
      "source": [
        "all_q2 = pd.concat([gold_etf_q2, btcusd_q2, nikkei_etf_q2], axis=1).reindex(gold_etf_q2.index)"
      ]
    },
    {
      "cell_type": "code",
      "execution_count": null,
      "metadata": {
        "id": "2dc70rkAIW15"
      },
      "outputs": [],
      "source": [
        "all_q2 = all_q2.dropna()"
      ]
    },
    {
      "cell_type": "markdown",
      "metadata": {
        "id": "_ODK1999HcfN"
      },
      "source": [
        "### Engle-Graanger test for cointegration"
      ]
    },
    {
      "cell_type": "code",
      "execution_count": null,
      "metadata": {
        "colab": {
          "base_uri": "https://localhost:8080/"
        },
        "id": "Oem7PZ4jIb7M",
        "outputId": "3b119ff0-f4d9-4991-b0de-6a1a4fb669e6"
      },
      "outputs": [
        {
          "name": "stdout",
          "output_type": "stream",
          "text": [
            "p-value:  2.2572313329218947e-10\n",
            "gold_ret: Null hypothesis is false. Co-Integration exists\n"
          ]
        }
      ],
      "source": [
        "coint(all_q2, 'btc_ret', 'gold_ret')"
      ]
    },
    {
      "cell_type": "code",
      "execution_count": null,
      "metadata": {
        "colab": {
          "base_uri": "https://localhost:8080/"
        },
        "id": "fxkGtZZUIfug",
        "outputId": "f05d2991-07e0-48c6-c421-46a13ed32be8"
      },
      "outputs": [
        {
          "name": "stdout",
          "output_type": "stream",
          "text": [
            "p-value:  1.4784208907524208e-09\n",
            "gold_ret: Null hypothesis is false. Co-Integration exists\n"
          ]
        }
      ],
      "source": [
        "coint(all_q2, 'btc_ret', 'n_ret')"
      ]
    },
    {
      "cell_type": "code",
      "execution_count": null,
      "metadata": {
        "colab": {
          "base_uri": "https://localhost:8080/"
        },
        "id": "p2UaThU0IifI",
        "outputId": "19e2e3e3-b452-4c70-8141-31bcaa9632be"
      },
      "outputs": [
        {
          "name": "stdout",
          "output_type": "stream",
          "text": [
            "p-value:  6.493359708579223e-08\n",
            "gold_ret: Null hypothesis is false. Co-Integration exists\n"
          ]
        }
      ],
      "source": [
        "coint(all_q2, 'n_ret', 'gold_ret')"
      ]
    },
    {
      "cell_type": "code",
      "execution_count": null,
      "metadata": {
        "colab": {
          "base_uri": "https://localhost:8080/"
        },
        "id": "S2mEHo5hIlxZ",
        "outputId": "31d7fdd4-e349-41d1-bd95-80c46306e6aa"
      },
      "outputs": [
        {
          "name": "stdout",
          "output_type": "stream",
          "text": [
            "p-value:  1.960903737003615e-14\n",
            "gold_ret: Null hypothesis is false. Co-Integration exists\n"
          ]
        }
      ],
      "source": [
        "coint(all_q3, 'btc_ret', 'gold_ret')"
      ]
    },
    {
      "cell_type": "code",
      "execution_count": null,
      "metadata": {
        "colab": {
          "base_uri": "https://localhost:8080/"
        },
        "id": "qZPDhS0cIoNs",
        "outputId": "fc50d6bc-dc66-4626-88e5-33e184e444af"
      },
      "outputs": [
        {
          "name": "stdout",
          "output_type": "stream",
          "text": [
            "p-value:  8.183441127751874e-11\n",
            "gold_ret: Null hypothesis is false. Co-Integration exists\n"
          ]
        }
      ],
      "source": [
        "coint(all_q3, 'btc_ret', 'n_ret')"
      ]
    },
    {
      "cell_type": "code",
      "execution_count": null,
      "metadata": {
        "colab": {
          "base_uri": "https://localhost:8080/"
        },
        "id": "Zmc-QL1EIrSJ",
        "outputId": "ecf5e51d-0653-4b24-90a4-721ec9f45527"
      },
      "outputs": [
        {
          "name": "stdout",
          "output_type": "stream",
          "text": [
            "p-value:  0.1892134901876178\n",
            "gold_ret: Null hypothesis is true. Co-Integration does not exist\n"
          ]
        }
      ],
      "source": [
        "coint(all_q3, 'gold_ret', 'n_ret')"
      ]
    },
    {
      "cell_type": "markdown",
      "metadata": {
        "id": "UCYINttIKDl_"
      },
      "source": [
        "[Johansen test for cointegration](https://)"
      ]
    },
    {
      "cell_type": "markdown",
      "metadata": {
        "id": "SxgFLFsbMCo6"
      },
      "source": [
        "The null hypothesis was that the time series are not cointegrated. When we reject the null hypothesis, we suggest that the series are cointegrated.\n",
        "\n",
        "The trace statistics tells us if the sum of the eigenvalues is 0. If the null hypothesis i.e. r<=0 has a trace statistic greater than the trace critical values, the null hypothesis can be rejected at a that confidence level (90%, 95% or 99%). The eigen statistics stores the eigenvalues in decreasing order of magnitude. This gives us information about how strongly cointegrated the series are or how strong is the tendency to mean revert. If the eigen statistic for the null hypothesis is greater than the critical values, null hypothesis can be rejected at that confidence level."
      ]
    },
    {
      "cell_type": "code",
      "execution_count": null,
      "metadata": {
        "id": "Sv6j_bD5IuT4"
      },
      "outputs": [],
      "source": [
        "from statsmodels.tsa.vector_ar.vecm import coint_johansen"
      ]
    },
    {
      "cell_type": "code",
      "execution_count": null,
      "metadata": {
        "colab": {
          "base_uri": "https://localhost:8080/",
          "height": 238
        },
        "id": "YCz8_LI7Lr_E",
        "outputId": "c078bdf0-fc78-44f6-a3be-de62c1895b03"
      },
      "outputs": [
        {
          "data": {
            "text/html": [
              "\n",
              "  <div id=\"df-ff0f9ae8-b651-4941-bc30-5666619d09a7\">\n",
              "    <div class=\"colab-df-container\">\n",
              "      <div>\n",
              "<style scoped>\n",
              "    .dataframe tbody tr th:only-of-type {\n",
              "        vertical-align: middle;\n",
              "    }\n",
              "\n",
              "    .dataframe tbody tr th {\n",
              "        vertical-align: top;\n",
              "    }\n",
              "\n",
              "    .dataframe thead th {\n",
              "        text-align: right;\n",
              "    }\n",
              "</style>\n",
              "<table border=\"1\" class=\"dataframe\">\n",
              "  <thead>\n",
              "    <tr style=\"text-align: right;\">\n",
              "      <th></th>\n",
              "      <th>gold_AdjClose</th>\n",
              "      <th>gold_ret</th>\n",
              "      <th>gold_20SMA</th>\n",
              "      <th>btc_AdjClose</th>\n",
              "      <th>btc_ret</th>\n",
              "      <th>btc_20SMA</th>\n",
              "      <th>n_AdjClose</th>\n",
              "      <th>n_ret</th>\n",
              "      <th>n_20SMA</th>\n",
              "    </tr>\n",
              "    <tr>\n",
              "      <th>Date</th>\n",
              "      <th></th>\n",
              "      <th></th>\n",
              "      <th></th>\n",
              "      <th></th>\n",
              "      <th></th>\n",
              "      <th></th>\n",
              "      <th></th>\n",
              "      <th></th>\n",
              "      <th></th>\n",
              "    </tr>\n",
              "  </thead>\n",
              "  <tbody>\n",
              "    <tr>\n",
              "      <th>2020-07-01</th>\n",
              "      <td>17.650000</td>\n",
              "      <td>-0.005073</td>\n",
              "      <td>17.3280</td>\n",
              "      <td>9228.325195</td>\n",
              "      <td>0.009885</td>\n",
              "      <td>9345.679199</td>\n",
              "      <td>9350.0</td>\n",
              "      <td>-0.014752</td>\n",
              "      <td>9676.75</td>\n",
              "    </tr>\n",
              "    <tr>\n",
              "      <th>2020-07-02</th>\n",
              "      <td>17.690001</td>\n",
              "      <td>0.002266</td>\n",
              "      <td>17.3575</td>\n",
              "      <td>9123.410156</td>\n",
              "      <td>-0.011369</td>\n",
              "      <td>9327.807520</td>\n",
              "      <td>9355.0</td>\n",
              "      <td>0.000535</td>\n",
              "      <td>9650.50</td>\n",
              "    </tr>\n",
              "    <tr>\n",
              "      <th>2020-07-06</th>\n",
              "      <td>17.770000</td>\n",
              "      <td>0.004522</td>\n",
              "      <td>17.4095</td>\n",
              "      <td>9375.474609</td>\n",
              "      <td>0.033231</td>\n",
              "      <td>9268.728369</td>\n",
              "      <td>9855.0</td>\n",
              "      <td>0.037368</td>\n",
              "      <td>9602.50</td>\n",
              "    </tr>\n",
              "    <tr>\n",
              "      <th>2020-07-07</th>\n",
              "      <td>17.900000</td>\n",
              "      <td>0.007316</td>\n",
              "      <td>17.4585</td>\n",
              "      <td>9252.277344</td>\n",
              "      <td>-0.013140</td>\n",
              "      <td>9257.329492</td>\n",
              "      <td>9760.0</td>\n",
              "      <td>-0.009640</td>\n",
              "      <td>9578.50</td>\n",
              "    </tr>\n",
              "    <tr>\n",
              "      <th>2020-07-08</th>\n",
              "      <td>18.000000</td>\n",
              "      <td>0.005587</td>\n",
              "      <td>17.5045</td>\n",
              "      <td>9428.333008</td>\n",
              "      <td>0.019028</td>\n",
              "      <td>9258.154102</td>\n",
              "      <td>9630.0</td>\n",
              "      <td>-0.013320</td>\n",
              "      <td>9548.00</td>\n",
              "    </tr>\n",
              "  </tbody>\n",
              "</table>\n",
              "</div>\n",
              "      <button class=\"colab-df-convert\" onclick=\"convertToInteractive('df-ff0f9ae8-b651-4941-bc30-5666619d09a7')\"\n",
              "              title=\"Convert this dataframe to an interactive table.\"\n",
              "              style=\"display:none;\">\n",
              "        \n",
              "  <svg xmlns=\"http://www.w3.org/2000/svg\" height=\"24px\"viewBox=\"0 0 24 24\"\n",
              "       width=\"24px\">\n",
              "    <path d=\"M0 0h24v24H0V0z\" fill=\"none\"/>\n",
              "    <path d=\"M18.56 5.44l.94 2.06.94-2.06 2.06-.94-2.06-.94-.94-2.06-.94 2.06-2.06.94zm-11 1L8.5 8.5l.94-2.06 2.06-.94-2.06-.94L8.5 2.5l-.94 2.06-2.06.94zm10 10l.94 2.06.94-2.06 2.06-.94-2.06-.94-.94-2.06-.94 2.06-2.06.94z\"/><path d=\"M17.41 7.96l-1.37-1.37c-.4-.4-.92-.59-1.43-.59-.52 0-1.04.2-1.43.59L10.3 9.45l-7.72 7.72c-.78.78-.78 2.05 0 2.83L4 21.41c.39.39.9.59 1.41.59.51 0 1.02-.2 1.41-.59l7.78-7.78 2.81-2.81c.8-.78.8-2.07 0-2.86zM5.41 20L4 18.59l7.72-7.72 1.47 1.35L5.41 20z\"/>\n",
              "  </svg>\n",
              "      </button>\n",
              "      \n",
              "  <style>\n",
              "    .colab-df-container {\n",
              "      display:flex;\n",
              "      flex-wrap:wrap;\n",
              "      gap: 12px;\n",
              "    }\n",
              "\n",
              "    .colab-df-convert {\n",
              "      background-color: #E8F0FE;\n",
              "      border: none;\n",
              "      border-radius: 50%;\n",
              "      cursor: pointer;\n",
              "      display: none;\n",
              "      fill: #1967D2;\n",
              "      height: 32px;\n",
              "      padding: 0 0 0 0;\n",
              "      width: 32px;\n",
              "    }\n",
              "\n",
              "    .colab-df-convert:hover {\n",
              "      background-color: #E2EBFA;\n",
              "      box-shadow: 0px 1px 2px rgba(60, 64, 67, 0.3), 0px 1px 3px 1px rgba(60, 64, 67, 0.15);\n",
              "      fill: #174EA6;\n",
              "    }\n",
              "\n",
              "    [theme=dark] .colab-df-convert {\n",
              "      background-color: #3B4455;\n",
              "      fill: #D2E3FC;\n",
              "    }\n",
              "\n",
              "    [theme=dark] .colab-df-convert:hover {\n",
              "      background-color: #434B5C;\n",
              "      box-shadow: 0px 1px 3px 1px rgba(0, 0, 0, 0.15);\n",
              "      filter: drop-shadow(0px 1px 2px rgba(0, 0, 0, 0.3));\n",
              "      fill: #FFFFFF;\n",
              "    }\n",
              "  </style>\n",
              "\n",
              "      <script>\n",
              "        const buttonEl =\n",
              "          document.querySelector('#df-ff0f9ae8-b651-4941-bc30-5666619d09a7 button.colab-df-convert');\n",
              "        buttonEl.style.display =\n",
              "          google.colab.kernel.accessAllowed ? 'block' : 'none';\n",
              "\n",
              "        async function convertToInteractive(key) {\n",
              "          const element = document.querySelector('#df-ff0f9ae8-b651-4941-bc30-5666619d09a7');\n",
              "          const dataTable =\n",
              "            await google.colab.kernel.invokeFunction('convertToInteractive',\n",
              "                                                     [key], {});\n",
              "          if (!dataTable) return;\n",
              "\n",
              "          const docLinkHtml = 'Like what you see? Visit the ' +\n",
              "            '<a target=\"_blank\" href=https://colab.research.google.com/notebooks/data_table.ipynb>data table notebook</a>'\n",
              "            + ' to learn more about interactive tables.';\n",
              "          element.innerHTML = '';\n",
              "          dataTable['output_type'] = 'display_data';\n",
              "          await google.colab.output.renderOutput(dataTable, element);\n",
              "          const docLink = document.createElement('div');\n",
              "          docLink.innerHTML = docLinkHtml;\n",
              "          element.appendChild(docLink);\n",
              "        }\n",
              "      </script>\n",
              "    </div>\n",
              "  </div>\n",
              "  "
            ],
            "text/plain": [
              "            gold_AdjClose  gold_ret  gold_20SMA  ...  n_AdjClose     n_ret  n_20SMA\n",
              "Date                                             ...                               \n",
              "2020-07-01      17.650000 -0.005073     17.3280  ...      9350.0 -0.014752  9676.75\n",
              "2020-07-02      17.690001  0.002266     17.3575  ...      9355.0  0.000535  9650.50\n",
              "2020-07-06      17.770000  0.004522     17.4095  ...      9855.0  0.037368  9602.50\n",
              "2020-07-07      17.900000  0.007316     17.4585  ...      9760.0 -0.009640  9578.50\n",
              "2020-07-08      18.000000  0.005587     17.5045  ...      9630.0 -0.013320  9548.00\n",
              "\n",
              "[5 rows x 9 columns]"
            ]
          },
          "execution_count": 100,
          "metadata": {},
          "output_type": "execute_result"
        }
      ],
      "source": [
        "all_q3.head()"
      ]
    },
    {
      "cell_type": "code",
      "execution_count": null,
      "metadata": {
        "id": "gr3E5IlbKLkW"
      },
      "outputs": [],
      "source": [
        "def johansen(df, det_order, k_ar_diff):\n",
        "  jres = coint_johansen(df, det_order=det_order, k_ar_diff=k_ar_diff)\n",
        "  print('Trace statistic for r <= 0: ', jres.trace_stat[0])\n",
        "  print('Trace critical values for r <= 0: ',jres.trace_stat_crit_vals[0])\n",
        "  print('Eigen statistic for r <= 0: ', jres.max_eig_stat[0])\n",
        "  print('Eigen critical values for r <= 0: ',jres.max_eig_stat_crit_vals[0])"
      ]
    },
    {
      "cell_type": "code",
      "execution_count": null,
      "metadata": {
        "colab": {
          "base_uri": "https://localhost:8080/"
        },
        "id": "dhAcxPo7LpSf",
        "outputId": "e71512fa-2a30-4011-868a-b3bcb0be7159"
      },
      "outputs": [
        {
          "name": "stdout",
          "output_type": "stream",
          "text": [
            "Trace statistic for r <= 0:  22.673272759276283\n",
            "Trace critical values for r <= 0:  [13.4294 15.4943 19.9349]\n",
            "Eigen statistic for r <= 0:  22.597655609148358\n",
            "Eigen critical values for r <= 0:  [12.2971 14.2639 18.52  ]\n"
          ]
        }
      ],
      "source": [
        "# 'btc_ret', 'gold_ret' Q2\n",
        "johansen(all_q2.iloc[:, [0,3]].values, det_order=0, k_ar_diff=1)"
      ]
    },
    {
      "cell_type": "markdown",
      "metadata": {
        "id": "cteTVvC7L_XR"
      },
      "source": [
        "The trace statistic and eigen statistic is greater than the critical values. Hence, we can reject the null hypothesis with 99% confidence.\n",
        "\n",
        "Gold and bitcoin Q2: Co-Integration exists\n",
        "\n"
      ]
    },
    {
      "cell_type": "code",
      "execution_count": null,
      "metadata": {
        "colab": {
          "base_uri": "https://localhost:8080/"
        },
        "id": "SpeG1cumNsG4",
        "outputId": "b64b4f51-c9b3-4650-c542-1c167baf4003"
      },
      "outputs": [
        {
          "name": "stdout",
          "output_type": "stream",
          "text": [
            "Trace statistic for r <= 0:  46.756135367865824\n",
            "Trace critical values for r <= 0:  [10.4741 12.3212 16.364 ]\n",
            "Eigen statistic for r <= 0:  46.53433712779621\n",
            "Eigen critical values for r <= 0:  [ 9.4748 11.2246 15.0923]\n"
          ]
        }
      ],
      "source": [
        "# 'btc_ret', 'n_ret' Q2\n",
        "johansen(all_q2.iloc[:, [3,6]].values, det_order=-1, k_ar_diff=1)"
      ]
    },
    {
      "cell_type": "markdown",
      "metadata": {
        "id": "-xn7s1ssPzfN"
      },
      "source": [
        "The trace statistic and eigen statistic is greater than the critical values. Hence, we can reject the null hypothesis.\n",
        "\n",
        "Equity and bitcoin Q2: Co-Integration exists\n"
      ]
    },
    {
      "cell_type": "code",
      "execution_count": null,
      "metadata": {
        "colab": {
          "base_uri": "https://localhost:8080/"
        },
        "id": "FK6FAZALOgWN",
        "outputId": "e6a92fcc-f002-4467-ce69-c46ebc60b0a0"
      },
      "outputs": [
        {
          "name": "stdout",
          "output_type": "stream",
          "text": [
            "Trace statistic for r <= 0:  37.15397434317917\n",
            "Trace critical values for r <= 0:  [13.4294 15.4943 19.9349]\n",
            "Eigen statistic for r <= 0:  36.21288731707078\n",
            "Eigen critical values for r <= 0:  [12.2971 14.2639 18.52  ]\n"
          ]
        }
      ],
      "source": [
        "#'n_ret', 'gold_ret' Q2\n",
        "johansen(all_q2.iloc[:, [6,0]].values, det_order=0, k_ar_diff=1)"
      ]
    },
    {
      "cell_type": "markdown",
      "metadata": {
        "id": "CkzqTQ5tODr5"
      },
      "source": [
        "The trace statistic and eigen statistic is greater than the critical values. Hence, we can reject the null hypothesis.\n",
        "\n",
        "Gold and Equity Q2: Co-Integration exists"
      ]
    },
    {
      "cell_type": "code",
      "execution_count": null,
      "metadata": {
        "colab": {
          "base_uri": "https://localhost:8080/"
        },
        "id": "i6b5NgeNNsJ4",
        "outputId": "2d9ac5aa-b249-48e4-8c25-d7121cb26680"
      },
      "outputs": [
        {
          "name": "stdout",
          "output_type": "stream",
          "text": [
            "Trace statistic for r <= 0:  12.088054762383367\n",
            "Trace critical values for r <= 0:  [13.4294 15.4943 19.9349]\n",
            "Eigen statistic for r <= 0:  8.097121838698252\n",
            "Eigen critical values for r <= 0:  [12.2971 14.2639 18.52  ]\n"
          ]
        }
      ],
      "source": [
        "# 'btc_ret', 'gold_ret' Q3\n",
        "johansen(all_q3.iloc[:, [0,3]].values, det_order=0, k_ar_diff=1)"
      ]
    },
    {
      "cell_type": "markdown",
      "metadata": {
        "id": "i21-WEDFQDlO"
      },
      "source": [
        "The trace statistic and eigen statistic is less than the critical values. Hence, we can't reject the null hypothesis.\n",
        "\n",
        "Gold and bitcoin Q3 : Co-Integration does not exist"
      ]
    },
    {
      "cell_type": "code",
      "execution_count": null,
      "metadata": {
        "colab": {
          "base_uri": "https://localhost:8080/"
        },
        "id": "ryaXaldCNsMX",
        "outputId": "323e5537-587c-4cbf-84c6-b60a4ae9c82d"
      },
      "outputs": [
        {
          "name": "stdout",
          "output_type": "stream",
          "text": [
            "Trace statistic for r <= 0:  3.7566589497571523\n",
            "Trace critical values for r <= 0:  [10.4741 12.3212 16.364 ]\n",
            "Eigen statistic for r <= 0:  2.8657837797408496\n",
            "Eigen critical values for r <= 0:  [ 9.4748 11.2246 15.0923]\n"
          ]
        }
      ],
      "source": [
        "# 'btc_ret', 'n_ret' Q3\n",
        "johansen(all_q3.iloc[:, [3,6]].values, det_order=-1, k_ar_diff=1)"
      ]
    },
    {
      "cell_type": "markdown",
      "metadata": {
        "id": "DsssUmUjQUNR"
      },
      "source": [
        "The trace statistic and eigen statistic is less than the critical values. Hence, we can't reject the null hypothesis.\n",
        "\n",
        "bitcoin and Equity Q3 : Co-Integration does not exist"
      ]
    },
    {
      "cell_type": "code",
      "execution_count": null,
      "metadata": {
        "colab": {
          "base_uri": "https://localhost:8080/"
        },
        "id": "rI3PsZ7ANsPX",
        "outputId": "1150a5bd-a664-4896-d3da-6a83a53a9e6e"
      },
      "outputs": [
        {
          "name": "stdout",
          "output_type": "stream",
          "text": [
            "Trace statistic for r <= 0:  10.606541691142455\n",
            "Trace critical values for r <= 0:  [13.4294 15.4943 19.9349]\n",
            "Eigen statistic for r <= 0:  7.722138963352518\n",
            "Eigen critical values for r <= 0:  [12.2971 14.2639 18.52  ]\n"
          ]
        }
      ],
      "source": [
        "#'n_ret', 'gold_ret' Q3\n",
        "johansen(all_q3.iloc[:, [6,0]].values, det_order=0, k_ar_diff=1)"
      ]
    },
    {
      "cell_type": "markdown",
      "metadata": {
        "id": "Xpnt2X02Q_y7"
      },
      "source": [
        "The trace statistic and eigen statistic is less than the critical values. Hence, we can't reject the null hypothesis.\n",
        "\n",
        "gold and Equity Q3 : Co-Integration does not exist"
      ]
    },
    {
      "cell_type": "markdown",
      "metadata": {
        "id": "NL6niUWVRHpm"
      },
      "source": [
        "## 7.2\n",
        "\n",
        "Based on the Engle-Garner and the Johanson tests, we see that while both the tests agree mostly, they do differ in a few cases.\n",
        "\n",
        "Both the tests agree on Quarter 2 and between gold and equity in Quarter 3.\n",
        "\n",
        "They differ in quarter 3 between bitcoin and gold, and equity and bitcoin. While Engle-Garner tests says that these assests are cointegrated, Johanson test suggests no cointegration."
      ]
    },
    {
      "cell_type": "markdown",
      "metadata": {
        "id": "iFR6mQDRUdoi"
      },
      "source": [
        "## 7.3, 7.4 and 7.5\n",
        "Modeling and forecasting using VAR\n"
      ]
    },
    {
      "cell_type": "code",
      "execution_count": null,
      "metadata": {
        "id": "pwf8_skdYgKh"
      },
      "outputs": [],
      "source": [
        "from statsmodels.tsa.vector_ar.vecm import VECM\n",
        "from statsmodels.tsa.api import VAR"
      ]
    },
    {
      "cell_type": "code",
      "execution_count": null,
      "metadata": {
        "colab": {
          "base_uri": "https://localhost:8080/"
        },
        "id": "1oZw5BXYUcG2",
        "outputId": "4d40f93a-3595-4462-ab59-88262775b220"
      },
      "outputs": [
        {
          "name": "stdout",
          "output_type": "stream",
          "text": [
            "ADF Statistic: -7.468188\n",
            "p-value: 0.000000\n",
            "Critical Values:\n",
            "\t1%: -3.541\n",
            "\t5%: -2.909\n",
            "\t10%: -2.592\n"
          ]
        }
      ],
      "source": [
        "# check stationaroty of Q4\n",
        "stn_test(gold_etf_q4)"
      ]
    },
    {
      "cell_type": "markdown",
      "metadata": {
        "id": "XsTZ_6UpVMYR"
      },
      "source": [
        "Gold ETF is stationary since test statistic in Q4\n"
      ]
    },
    {
      "cell_type": "code",
      "execution_count": null,
      "metadata": {
        "colab": {
          "base_uri": "https://localhost:8080/"
        },
        "id": "nhwQb-s-UcJu",
        "outputId": "2724cdad-9ff2-4bc1-f67a-94fcb2a76ff9"
      },
      "outputs": [
        {
          "name": "stdout",
          "output_type": "stream",
          "text": [
            "ADF Statistic: -7.313000\n",
            "p-value: 0.000000\n",
            "Critical Values:\n",
            "\t1%: -3.542\n",
            "\t5%: -2.910\n",
            "\t10%: -2.593\n"
          ]
        }
      ],
      "source": [
        "stn_test(nikkei_etf_q4)"
      ]
    },
    {
      "cell_type": "markdown",
      "metadata": {
        "id": "PhrmF4-9V1xE"
      },
      "source": [
        "\n",
        "Euity ETF is stationary since test statistic in Q4\n"
      ]
    },
    {
      "cell_type": "code",
      "execution_count": null,
      "metadata": {
        "colab": {
          "base_uri": "https://localhost:8080/"
        },
        "id": "SCqVRYYuUcMY",
        "outputId": "667eb908-e5b6-4921-d27e-8f3c574fc49a"
      },
      "outputs": [
        {
          "name": "stdout",
          "output_type": "stream",
          "text": [
            "ADF Statistic: -9.222197\n",
            "p-value: 0.000000\n",
            "Critical Values:\n",
            "\t1%: -3.504\n",
            "\t5%: -2.894\n",
            "\t10%: -2.584\n"
          ]
        }
      ],
      "source": [
        "stn_test(btcusd_q4)"
      ]
    },
    {
      "cell_type": "markdown",
      "metadata": {
        "id": "8yG9Oe2AV_dM"
      },
      "source": [
        "Bitcoin ETF is stationary since test statistic in Q4\n"
      ]
    },
    {
      "cell_type": "code",
      "execution_count": null,
      "metadata": {
        "id": "r_w7jJ08UcPF"
      },
      "outputs": [],
      "source": [
        "df_q4 = pd.concat([gold_etf_q2, btcusd_q2, nikkei_etf_q2], axis=1).reindex(gold_etf_q2.index)\n",
        "df_q4 = df_q4[['gold_AdjClose','btc_AdjClose','n_AdjClose']]"
      ]
    },
    {
      "cell_type": "code",
      "execution_count": null,
      "metadata": {
        "colab": {
          "base_uri": "https://localhost:8080/"
        },
        "id": "RI1g38_1UcR1",
        "outputId": "2825663e-9607-446d-cc06-724d9aefb11c"
      },
      "outputs": [
        {
          "name": "stdout",
          "output_type": "stream",
          "text": [
            "(39, 3)\n",
            "(5, 3)\n"
          ]
        }
      ],
      "source": [
        "#split into traning and test\n",
        "n_test = 5\n",
        "X_train, X_test = df_q4[0:-n_test], df_q4[-n_test:]\n",
        "print(X_train.shape)\n",
        "print(X_test.shape)"
      ]
    },
    {
      "cell_type": "code",
      "execution_count": null,
      "metadata": {
        "colab": {
          "base_uri": "https://localhost:8080/",
          "height": 300
        },
        "id": "9DhbnCVwUcUu",
        "outputId": "f34a893d-631f-4d1f-c729-94a5d8a4a56b"
      },
      "outputs": [
        {
          "data": {
            "text/html": [
              "\n",
              "  <div id=\"df-37245ffc-5cd9-4cf1-8140-287878aa9b0a\">\n",
              "    <div class=\"colab-df-container\">\n",
              "      <div>\n",
              "<style scoped>\n",
              "    .dataframe tbody tr th:only-of-type {\n",
              "        vertical-align: middle;\n",
              "    }\n",
              "\n",
              "    .dataframe tbody tr th {\n",
              "        vertical-align: top;\n",
              "    }\n",
              "\n",
              "    .dataframe thead th {\n",
              "        text-align: right;\n",
              "    }\n",
              "</style>\n",
              "<table border=\"1\" class=\"dataframe\">\n",
              "  <thead>\n",
              "    <tr style=\"text-align: right;\">\n",
              "      <th></th>\n",
              "      <th>gold_AdjClose</th>\n",
              "      <th>btc_AdjClose</th>\n",
              "      <th>n_AdjClose</th>\n",
              "    </tr>\n",
              "  </thead>\n",
              "  <tbody>\n",
              "    <tr>\n",
              "      <th>count</th>\n",
              "      <td>33.000000</td>\n",
              "      <td>33.000000</td>\n",
              "      <td>33.000000</td>\n",
              "    </tr>\n",
              "    <tr>\n",
              "      <th>mean</th>\n",
              "      <td>0.001301</td>\n",
              "      <td>-0.000283</td>\n",
              "      <td>0.006325</td>\n",
              "    </tr>\n",
              "    <tr>\n",
              "      <th>std</th>\n",
              "      <td>0.008964</td>\n",
              "      <td>0.039945</td>\n",
              "      <td>0.034293</td>\n",
              "    </tr>\n",
              "    <tr>\n",
              "      <th>min</th>\n",
              "      <td>-0.021875</td>\n",
              "      <td>-0.134756</td>\n",
              "      <td>-0.073462</td>\n",
              "    </tr>\n",
              "    <tr>\n",
              "      <th>25%</th>\n",
              "      <td>-0.004112</td>\n",
              "      <td>-0.013243</td>\n",
              "      <td>-0.008346</td>\n",
              "    </tr>\n",
              "    <tr>\n",
              "      <th>50%</th>\n",
              "      <td>0.003450</td>\n",
              "      <td>0.002475</td>\n",
              "      <td>0.008792</td>\n",
              "    </tr>\n",
              "    <tr>\n",
              "      <th>75%</th>\n",
              "      <td>0.008811</td>\n",
              "      <td>0.023289</td>\n",
              "      <td>0.020828</td>\n",
              "    </tr>\n",
              "    <tr>\n",
              "      <th>max</th>\n",
              "      <td>0.013376</td>\n",
              "      <td>0.074310</td>\n",
              "      <td>0.094232</td>\n",
              "    </tr>\n",
              "  </tbody>\n",
              "</table>\n",
              "</div>\n",
              "      <button class=\"colab-df-convert\" onclick=\"convertToInteractive('df-37245ffc-5cd9-4cf1-8140-287878aa9b0a')\"\n",
              "              title=\"Convert this dataframe to an interactive table.\"\n",
              "              style=\"display:none;\">\n",
              "        \n",
              "  <svg xmlns=\"http://www.w3.org/2000/svg\" height=\"24px\"viewBox=\"0 0 24 24\"\n",
              "       width=\"24px\">\n",
              "    <path d=\"M0 0h24v24H0V0z\" fill=\"none\"/>\n",
              "    <path d=\"M18.56 5.44l.94 2.06.94-2.06 2.06-.94-2.06-.94-.94-2.06-.94 2.06-2.06.94zm-11 1L8.5 8.5l.94-2.06 2.06-.94-2.06-.94L8.5 2.5l-.94 2.06-2.06.94zm10 10l.94 2.06.94-2.06 2.06-.94-2.06-.94-.94-2.06-.94 2.06-2.06.94z\"/><path d=\"M17.41 7.96l-1.37-1.37c-.4-.4-.92-.59-1.43-.59-.52 0-1.04.2-1.43.59L10.3 9.45l-7.72 7.72c-.78.78-.78 2.05 0 2.83L4 21.41c.39.39.9.59 1.41.59.51 0 1.02-.2 1.41-.59l7.78-7.78 2.81-2.81c.8-.78.8-2.07 0-2.86zM5.41 20L4 18.59l7.72-7.72 1.47 1.35L5.41 20z\"/>\n",
              "  </svg>\n",
              "      </button>\n",
              "      \n",
              "  <style>\n",
              "    .colab-df-container {\n",
              "      display:flex;\n",
              "      flex-wrap:wrap;\n",
              "      gap: 12px;\n",
              "    }\n",
              "\n",
              "    .colab-df-convert {\n",
              "      background-color: #E8F0FE;\n",
              "      border: none;\n",
              "      border-radius: 50%;\n",
              "      cursor: pointer;\n",
              "      display: none;\n",
              "      fill: #1967D2;\n",
              "      height: 32px;\n",
              "      padding: 0 0 0 0;\n",
              "      width: 32px;\n",
              "    }\n",
              "\n",
              "    .colab-df-convert:hover {\n",
              "      background-color: #E2EBFA;\n",
              "      box-shadow: 0px 1px 2px rgba(60, 64, 67, 0.3), 0px 1px 3px 1px rgba(60, 64, 67, 0.15);\n",
              "      fill: #174EA6;\n",
              "    }\n",
              "\n",
              "    [theme=dark] .colab-df-convert {\n",
              "      background-color: #3B4455;\n",
              "      fill: #D2E3FC;\n",
              "    }\n",
              "\n",
              "    [theme=dark] .colab-df-convert:hover {\n",
              "      background-color: #434B5C;\n",
              "      box-shadow: 0px 1px 3px 1px rgba(0, 0, 0, 0.15);\n",
              "      filter: drop-shadow(0px 1px 2px rgba(0, 0, 0, 0.3));\n",
              "      fill: #FFFFFF;\n",
              "    }\n",
              "  </style>\n",
              "\n",
              "      <script>\n",
              "        const buttonEl =\n",
              "          document.querySelector('#df-37245ffc-5cd9-4cf1-8140-287878aa9b0a button.colab-df-convert');\n",
              "        buttonEl.style.display =\n",
              "          google.colab.kernel.accessAllowed ? 'block' : 'none';\n",
              "\n",
              "        async function convertToInteractive(key) {\n",
              "          const element = document.querySelector('#df-37245ffc-5cd9-4cf1-8140-287878aa9b0a');\n",
              "          const dataTable =\n",
              "            await google.colab.kernel.invokeFunction('convertToInteractive',\n",
              "                                                     [key], {});\n",
              "          if (!dataTable) return;\n",
              "\n",
              "          const docLinkHtml = 'Like what you see? Visit the ' +\n",
              "            '<a target=\"_blank\" href=https://colab.research.google.com/notebooks/data_table.ipynb>data table notebook</a>'\n",
              "            + ' to learn more about interactive tables.';\n",
              "          element.innerHTML = '';\n",
              "          dataTable['output_type'] = 'display_data';\n",
              "          await google.colab.output.renderOutput(dataTable, element);\n",
              "          const docLink = document.createElement('div');\n",
              "          docLink.innerHTML = docLinkHtml;\n",
              "          element.appendChild(docLink);\n",
              "        }\n",
              "      </script>\n",
              "    </div>\n",
              "  </div>\n",
              "  "
            ],
            "text/plain": [
              "       gold_AdjClose  btc_AdjClose  n_AdjClose\n",
              "count      33.000000     33.000000   33.000000\n",
              "mean        0.001301     -0.000283    0.006325\n",
              "std         0.008964      0.039945    0.034293\n",
              "min        -0.021875     -0.134756   -0.073462\n",
              "25%        -0.004112     -0.013243   -0.008346\n",
              "50%         0.003450      0.002475    0.008792\n",
              "75%         0.008811      0.023289    0.020828\n",
              "max         0.013376      0.074310    0.094232"
            ]
          },
          "execution_count": 141,
          "metadata": {},
          "output_type": "execute_result"
        }
      ],
      "source": [
        "#series transformation\n",
        "X_train_log = np.log(X_train)\n",
        "X_train_log_diff = X_train_log.diff().dropna()\n",
        "\n",
        "X_test_log = np.log(X_test)\n",
        "X_test_log_diff = X_test_log.diff().dropna()\n",
        "\n",
        "X_train_log_diff.describe()"
      ]
    },
    {
      "cell_type": "code",
      "execution_count": null,
      "metadata": {
        "colab": {
          "base_uri": "https://localhost:8080/",
          "height": 392
        },
        "id": "flJrOswAUcXL",
        "outputId": "a06a62c5-5962-4907-822d-5339c26e95b0"
      },
      "outputs": [
        {
          "data": {
            "image/png": "[encoded data removed]",
            "text/plain": [
              "<Figure size 720x432 with 1 Axes>"
            ]
          },
          "metadata": {
            "needs_background": "light"
          },
          "output_type": "display_data"
        }
      ],
      "source": [
        "X_train_log_diff.plot(figsize=(10,6))\n",
        "plt.show()"
      ]
    },
    {
      "cell_type": "code",
      "execution_count": null,
      "metadata": {
        "colab": {
          "base_uri": "https://localhost:8080/",
          "height": 301
        },
        "id": "eTR3sYlEUccj",
        "outputId": "1710ae55-2a37-453a-88c2-c31f3dd557eb"
      },
      "outputs": [
        {
          "name": "stderr",
          "output_type": "stream",
          "text": [
            "/usr/local/lib/python3.7/dist-packages/statsmodels/tsa/base/tsa_model.py:595: ValueWarning: A date index has been provided, but it has no associated frequency information and so will be ignored when e.g. forecasting.\n",
            "  ' ignored when e.g. forecasting.', ValueWarning)\n"
          ]
        },
        {
          "data": {
            "text/html": [
              "<table class=\"simpletable\">\n",
              "<caption>VAR Order Selection (* highlights the minimums)</caption>\n",
              "<tr>\n",
              "  <td></td>      <th>AIC</th>         <th>BIC</th>         <th>FPE</th>        <th>HQIC</th>    \n",
              "</tr>\n",
              "<tr>\n",
              "  <th>0</th> <td>    -23.03</td>  <td>    -22.88</td>  <td> 9.997e-11</td>  <td>    -22.98</td> \n",
              "</tr>\n",
              "<tr>\n",
              "  <th>1</th> <td>    -22.97</td>  <td>    -22.39</td>  <td> 1.063e-10</td>  <td>    -22.80</td> \n",
              "</tr>\n",
              "<tr>\n",
              "  <th>2</th> <td>    -22.59</td>  <td>    -21.58</td>  <td> 1.605e-10</td>  <td>    -22.30</td> \n",
              "</tr>\n",
              "<tr>\n",
              "  <th>3</th> <td>    -22.30</td>  <td>    -20.85</td>  <td> 2.347e-10</td>  <td>    -21.88</td> \n",
              "</tr>\n",
              "<tr>\n",
              "  <th>4</th> <td>    -21.99</td>  <td>    -20.10</td>  <td> 3.780e-10</td>  <td>    -21.45</td> \n",
              "</tr>\n",
              "<tr>\n",
              "  <th>5</th> <td>    -21.95</td>  <td>    -19.62</td>  <td> 5.428e-10</td>  <td>    -21.28</td> \n",
              "</tr>\n",
              "<tr>\n",
              "  <th>6</th> <td>    -23.23</td>  <td>    -20.47</td>  <td> 2.694e-10</td>  <td>    -22.44</td> \n",
              "</tr>\n",
              "<tr>\n",
              "  <th>7</th> <td>    -28.60*</td> <td>    -25.41*</td> <td> 4.094e-12*</td> <td>    -27.68*</td>\n",
              "</tr>\n",
              "</table>"
            ],
            "text/plain": [
              "<class 'statsmodels.iolib.table.SimpleTable'>"
            ]
          },
          "execution_count": 168,
          "metadata": {},
          "output_type": "execute_result"
        }
      ],
      "source": [
        "#Initiate VAR model\n",
        "model_var = VAR(endog=X_train_log_diff)\n",
        "res_var = model_var.select_order(7)\n",
        "res_var.summary()"
      ]
    },
    {
      "cell_type": "code",
      "execution_count": null,
      "metadata": {
        "colab": {
          "base_uri": "https://localhost:8080/"
        },
        "id": "ytXS5MsyYJIb",
        "outputId": "59618026-c714-4e0f-d95d-1700728e4cdc"
      },
      "outputs": [
        {
          "data": {
            "text/plain": [
              "  Summary of Regression Results   \n",
              "==================================\n",
              "Model:                         VAR\n",
              "Method:                        OLS\n",
              "Date:           Tue, 25, Jan, 2022\n",
              "Time:                     08:42:53\n",
              "--------------------------------------------------------------------\n",
              "No. of Equations:         3.00000    BIC:                   -25.4057\n",
              "Nobs:                     26.0000    HQIC:                  -27.6796\n",
              "Log likelihood:           327.114    FPE:                4.09404e-12\n",
              "AIC:                     -28.5993    Det(Omega_mle):     6.50652e-13\n",
              "--------------------------------------------------------------------\n",
              "Results for equation gold_AdjClose\n",
              "===================================================================================\n",
              "                      coefficient       std. error           t-stat            prob\n",
              "-----------------------------------------------------------------------------------\n",
              "const                    0.005080         0.005092            0.998           0.318\n",
              "L1.gold_AdjClose        -0.332411         0.549706           -0.605           0.545\n",
              "L1.btc_AdjClose         -0.090001         0.193422           -0.465           0.642\n",
              "L1.n_AdjClose           -0.001961         0.123093           -0.016           0.987\n",
              "L2.gold_AdjClose        -0.746329         0.539002           -1.385           0.166\n",
              "L2.btc_AdjClose          0.037328         0.181783            0.205           0.837\n",
              "L2.n_AdjClose           -0.060850         0.101681           -0.598           0.550\n",
              "L3.gold_AdjClose        -0.589247         0.572541           -1.029           0.303\n",
              "L3.btc_AdjClose          0.061249         0.119565            0.512           0.608\n",
              "L3.n_AdjClose           -0.105773         0.112275           -0.942           0.346\n",
              "L4.gold_AdjClose        -0.436526         0.485546           -0.899           0.369\n",
              "L4.btc_AdjClose          0.003687         0.118765            0.031           0.975\n",
              "L4.n_AdjClose           -0.077165         0.116141           -0.664           0.506\n",
              "L5.gold_AdjClose        -0.606594         0.525381           -1.155           0.248\n",
              "L5.btc_AdjClose         -0.045317         0.099904           -0.454           0.650\n",
              "L5.n_AdjClose           -0.027247         0.146058           -0.187           0.852\n",
              "L6.gold_AdjClose        -0.618359         0.678786           -0.911           0.362\n",
              "L6.btc_AdjClose         -0.058099         0.122762           -0.473           0.636\n",
              "L6.n_AdjClose           -0.263869         0.156501           -1.686           0.092\n",
              "L7.gold_AdjClose        -0.438158         0.620371           -0.706           0.480\n",
              "L7.btc_AdjClose         -0.010464         0.138490           -0.076           0.940\n",
              "L7.n_AdjClose            0.106493         0.145702            0.731           0.465\n",
              "===================================================================================\n",
              "\n",
              "Results for equation btc_AdjClose\n",
              "===================================================================================\n",
              "                      coefficient       std. error           t-stat            prob\n",
              "-----------------------------------------------------------------------------------\n",
              "const                    0.004006         0.008294            0.483           0.629\n",
              "L1.gold_AdjClose        -0.787908         0.895472           -0.880           0.379\n",
              "L1.btc_AdjClose         -0.721397         0.315086           -2.290           0.022\n",
              "L1.n_AdjClose            0.334350         0.200518            1.667           0.095\n",
              "L2.gold_AdjClose        -3.524044         0.878036           -4.014           0.000\n",
              "L2.btc_AdjClose          0.478710         0.296126            1.617           0.106\n",
              "L2.n_AdjClose            0.061140         0.165639            0.369           0.712\n",
              "L3.gold_AdjClose        -0.589429         0.932670           -0.632           0.527\n",
              "L3.btc_AdjClose          0.049695         0.194772            0.255           0.799\n",
              "L3.n_AdjClose           -0.284238         0.182896           -1.554           0.120\n",
              "L4.gold_AdjClose         0.828072         0.790955            1.047           0.295\n",
              "L4.btc_AdjClose         -0.358284         0.193468           -1.852           0.064\n",
              "L4.n_AdjClose            0.370639         0.189194            1.959           0.050\n",
              "L5.gold_AdjClose         0.351715         0.855846            0.411           0.681\n",
              "L5.btc_AdjClose         -0.628517         0.162743           -3.862           0.000\n",
              "L5.n_AdjClose            0.064386         0.237929            0.271           0.787\n",
              "L6.gold_AdjClose        -2.076162         1.105744           -1.878           0.060\n",
              "L6.btc_AdjClose         -0.468664         0.199979           -2.344           0.019\n",
              "L6.n_AdjClose           -0.910881         0.254941           -3.573           0.000\n",
              "L7.gold_AdjClose        -2.419593         1.010586           -2.394           0.017\n",
              "L7.btc_AdjClose          0.250578         0.225600            1.111           0.267\n",
              "L7.n_AdjClose            0.329371         0.237348            1.388           0.165\n",
              "===================================================================================\n",
              "\n",
              "Results for equation n_AdjClose\n",
              "===================================================================================\n",
              "                      coefficient       std. error           t-stat            prob\n",
              "-----------------------------------------------------------------------------------\n",
              "const                    0.002461         0.008184            0.301           0.764\n",
              "L1.gold_AdjClose         0.102984         0.883565            0.117           0.907\n",
              "L1.btc_AdjClose         -0.636854         0.310896           -2.048           0.041\n",
              "L1.n_AdjClose           -0.270115         0.197852           -1.365           0.172\n",
              "L2.gold_AdjClose        -2.374319         0.866361           -2.741           0.006\n",
              "L2.btc_AdjClose         -0.138943         0.292188           -0.476           0.634\n",
              "L2.n_AdjClose            0.168893         0.163437            1.033           0.301\n",
              "L3.gold_AdjClose        -2.614403         0.920269           -2.841           0.004\n",
              "L3.btc_AdjClose          0.141801         0.192182            0.738           0.461\n",
              "L3.n_AdjClose            0.208648         0.180464            1.156           0.248\n",
              "L4.gold_AdjClose         0.027036         0.780438            0.035           0.972\n",
              "L4.btc_AdjClose         -0.164132         0.190896           -0.860           0.390\n",
              "L4.n_AdjClose            0.125948         0.186678            0.675           0.500\n",
              "L5.gold_AdjClose         2.130236         0.844466            2.523           0.012\n",
              "L5.btc_AdjClose         -0.136768         0.160579           -0.852           0.394\n",
              "L5.n_AdjClose            0.834729         0.234766            3.556           0.000\n",
              "L6.gold_AdjClose         3.598227         1.091041            3.298           0.001\n",
              "L6.btc_AdjClose         -0.945246         0.197320           -4.790           0.000\n",
              "L6.n_AdjClose            0.319354         0.251551            1.270           0.204\n",
              "L7.gold_AdjClose        -0.929946         0.997149           -0.933           0.351\n",
              "L7.btc_AdjClose         -0.514074         0.222600           -2.309           0.021\n",
              "L7.n_AdjClose           -0.671088         0.234192           -2.866           0.004\n",
              "===================================================================================\n",
              "\n",
              "Correlation matrix of residuals\n",
              "                 gold_AdjClose  btc_AdjClose  n_AdjClose\n",
              "gold_AdjClose         1.000000      0.665050   -0.417010\n",
              "btc_AdjClose          0.665050      1.000000   -0.926957\n",
              "n_AdjClose           -0.417010     -0.926957    1.000000\n",
              "\n"
            ]
          },
          "execution_count": 169,
          "metadata": {},
          "output_type": "execute_result"
        }
      ],
      "source": [
        "#Fit to a VAR model\n",
        "model_fit_var = model_var.fit(maxlags=7)\n",
        "#Print a summary of the model results\n",
        "model_fit_var.summary()"
      ]
    },
    {
      "cell_type": "code",
      "execution_count": null,
      "metadata": {
        "colab": {
          "base_uri": "https://localhost:8080/"
        },
        "id": "irzZfWf2YJLo",
        "outputId": "2ac6e4b7-6946-4b42-bf43-5c10e48b161a"
      },
      "outputs": [
        {
          "name": "stdout",
          "output_type": "stream",
          "text": [
            "            gold_AdjClose  btc_AdjClose  n_AdjClose\n",
            "Date                                               \n",
            "2020-06-25      -0.002847     -0.005253   -0.023518\n",
            "2020-06-26       0.005685     -0.011059    0.024551\n",
            "2020-06-29       0.000000      0.003044   -0.045930\n",
            "2020-06-30       0.005653     -0.005768    0.025075\n",
            "            gold_AdjClose_pred  btc_AdjClose_pred  n_AdjClose_pred\n",
            "Date                                                              \n",
            "2020-06-25           -0.039978          -0.119437         0.022543\n",
            "2020-06-26            0.029043           0.158399        -0.032598\n",
            "2020-06-29           -0.007899          -0.054332         0.039534\n",
            "2020-06-30           -0.006051           0.009126         0.099049\n"
          ]
        }
      ],
      "source": [
        "# Forecast VAR model\n",
        "# Get the lag order\n",
        "lag_order_var = model_fit_var.k_ar\n",
        "#print(lag_order_var)\n",
        "# Input data for forecasting\n",
        "input_data = X_train_log_diff.values[-lag_order_var:]\n",
        "# forecasting\n",
        "pred_var = model_fit_var.forecast(y=input_data, steps=len(X_test_log_diff))\n",
        "pred_var = (pd.DataFrame(pred_var, index=X_test_log_diff.index, columns=X_test_log_diff.columns + '_pred'))\n",
        "print(X_test_log_diff)\n",
        "print(pred_var)"
      ]
    },
    {
      "cell_type": "code",
      "execution_count": null,
      "metadata": {
        "colab": {
          "base_uri": "https://localhost:8080/",
          "height": 378
        },
        "id": "tEKgX5_pcV7X",
        "outputId": "6e5a69e1-2a0d-481f-c799-24f9d8fcfa72"
      },
      "outputs": [
        {
          "data": {
            "image/png": "[encoded data removed]",
            "text/plain": [
              "<Figure size 864x360 with 1 Axes>"
            ]
          },
          "metadata": {
            "needs_background": "light"
          },
          "output_type": "display_data"
        }
      ],
      "source": [
        "#fig, ax1 = plt.subplots(figsize=(12,5))\n",
        "plt.figure(figsize=(12,5))\n",
        "plt.xlabel('Date')\n",
        "\n",
        "ax1 = X_test_log_diff['btc_AdjClose'].plot(color='b', label='Actual bitcoin price')\n",
        "#ax2 = ax1.twinx()\n",
        "ax2 = pred_var['btc_AdjClose_pred'].plot(color='r', label='VAR predicted bitcoin price')\n",
        "ax1.legend(loc=1)\n",
        "ax2.legend(loc=1)\n",
        "\n",
        "plt.title('Actual Vs VAR predicted Bitcoin prices Quater 4')\n",
        "plt.show()"
      ]
    },
    {
      "cell_type": "code",
      "execution_count": null,
      "metadata": {
        "colab": {
          "base_uri": "https://localhost:8080/"
        },
        "id": "wX-VuqVHZXsJ",
        "outputId": "994d3c0b-877d-43f3-ae58-8ee019eefe20"
      },
      "outputs": [
        {
          "name": "stdout",
          "output_type": "stream",
          "text": [
            "MSE: 0.045268\n"
          ]
        }
      ],
      "source": [
        "#Calculate mean squared error\n",
        "error_var = np.sum([(X_test_log_diff['btc_AdjClose'][i]- pred_var['btc_AdjClose_pred'][i])**2 for i in range(len(X_test_log_diff['btc_AdjClose']))])\n",
        "print('MSE: %f' % error_var)"
      ]
    },
    {
      "cell_type": "markdown",
      "metadata": {
        "id": "68iWbbWke4VP"
      },
      "source": [
        "Modeling and forecasting using VECM\n"
      ]
    },
    {
      "cell_type": "code",
      "execution_count": null,
      "metadata": {
        "colab": {
          "base_uri": "https://localhost:8080/",
          "height": 436
        },
        "id": "F0wsCviwdn1P",
        "outputId": "61afab01-7af3-4c15-c86a-74b1782075cd"
      },
      "outputs": [
        {
          "name": "stderr",
          "output_type": "stream",
          "text": [
            "/usr/local/lib/python3.7/dist-packages/statsmodels/tsa/base/tsa_model.py:595: ValueWarning: A date index has been provided, but it has no associated frequency information and so will be ignored when e.g. forecasting.\n",
            "  ' ignored when e.g. forecasting.', ValueWarning)\n"
          ]
        },
        {
          "ename": "LinAlgError",
          "evalue": "ignored",
          "output_type": "error",
          "traceback": [
            "\u001b[0;31m---------------------------------------------------------------------------\u001b[0m",
            "\u001b[0;31mLinAlgError\u001b[0m                               Traceback (most recent call last)",
            "\u001b[0;32m<ipython-input-206-6a78e0faddd2>\u001b[0m in \u001b[0;36m<module>\u001b[0;34m()\u001b[0m\n\u001b[1;32m      1\u001b[0m \u001b[0mvecm\u001b[0m \u001b[0;34m=\u001b[0m \u001b[0mVECM\u001b[0m\u001b[0;34m(\u001b[0m\u001b[0mendog\u001b[0m \u001b[0;34m=\u001b[0m \u001b[0mX_train\u001b[0m\u001b[0;34m,\u001b[0m \u001b[0mk_ar_diff\u001b[0m \u001b[0;34m=\u001b[0m \u001b[0;36m1\u001b[0m\u001b[0;34m,\u001b[0m \u001b[0mcoint_rank\u001b[0m \u001b[0;34m=\u001b[0m \u001b[0;36m1\u001b[0m\u001b[0;34m,\u001b[0m \u001b[0mdeterministic\u001b[0m \u001b[0;34m=\u001b[0m \u001b[0;34m'ci'\u001b[0m\u001b[0;34m)\u001b[0m\u001b[0;34m\u001b[0m\u001b[0;34m\u001b[0m\u001b[0m\n\u001b[0;32m----> 2\u001b[0;31m \u001b[0mvecm_fit\u001b[0m \u001b[0;34m=\u001b[0m \u001b[0mvecm\u001b[0m\u001b[0;34m.\u001b[0m\u001b[0mfit\u001b[0m\u001b[0;34m(\u001b[0m\u001b[0;34m)\u001b[0m\u001b[0;34m\u001b[0m\u001b[0;34m\u001b[0m\u001b[0m\n\u001b[0m\u001b[1;32m      3\u001b[0m \u001b[0mvecm_fit\u001b[0m\u001b[0;34m.\u001b[0m\u001b[0mpredict\u001b[0m\u001b[0;34m(\u001b[0m\u001b[0msteps\u001b[0m\u001b[0;34m=\u001b[0m\u001b[0mlen\u001b[0m\u001b[0;34m(\u001b[0m\u001b[0mX_test\u001b[0m\u001b[0;34m)\u001b[0m\u001b[0;34m)\u001b[0m\u001b[0;34m\u001b[0m\u001b[0;34m\u001b[0m\u001b[0m\n",
            "\u001b[0;32m/usr/local/lib/python3.7/dist-packages/statsmodels/tsa/vector_ar/vecm.py\u001b[0m in \u001b[0;36mfit\u001b[0;34m(self, method)\u001b[0m\n\u001b[1;32m    988\u001b[0m         \"\"\"\n\u001b[1;32m    989\u001b[0m         \u001b[0;32mif\u001b[0m \u001b[0mmethod\u001b[0m \u001b[0;34m==\u001b[0m \u001b[0;34m\"ml\"\u001b[0m\u001b[0;34m:\u001b[0m\u001b[0;34m\u001b[0m\u001b[0;34m\u001b[0m\u001b[0m\n\u001b[0;32m--> 990\u001b[0;31m             \u001b[0;32mreturn\u001b[0m \u001b[0mself\u001b[0m\u001b[0;34m.\u001b[0m\u001b[0m_estimate_vecm_ml\u001b[0m\u001b[0;34m(\u001b[0m\u001b[0;34m)\u001b[0m\u001b[0;34m\u001b[0m\u001b[0;34m\u001b[0m\u001b[0m\n\u001b[0m\u001b[1;32m    991\u001b[0m         \u001b[0;32melse\u001b[0m\u001b[0;34m:\u001b[0m\u001b[0;34m\u001b[0m\u001b[0;34m\u001b[0m\u001b[0m\n\u001b[1;32m    992\u001b[0m             raise ValueError(\n",
            "\u001b[0;32m/usr/local/lib/python3.7/dist-packages/statsmodels/tsa/vector_ar/vecm.py\u001b[0m in \u001b[0;36m_estimate_vecm_ml\u001b[0;34m(self)\u001b[0m\n\u001b[1;32m   1006\u001b[0m         \u001b[0mT\u001b[0m \u001b[0;34m=\u001b[0m \u001b[0my_1_T\u001b[0m\u001b[0;34m.\u001b[0m\u001b[0mshape\u001b[0m\u001b[0;34m[\u001b[0m\u001b[0;36m1\u001b[0m\u001b[0;34m]\u001b[0m\u001b[0;34m\u001b[0m\u001b[0;34m\u001b[0m\u001b[0m\n\u001b[1;32m   1007\u001b[0m \u001b[0;34m\u001b[0m\u001b[0m\n\u001b[0;32m-> 1008\u001b[0;31m         \u001b[0ms00\u001b[0m\u001b[0;34m,\u001b[0m \u001b[0ms01\u001b[0m\u001b[0;34m,\u001b[0m \u001b[0ms10\u001b[0m\u001b[0;34m,\u001b[0m \u001b[0ms11\u001b[0m\u001b[0;34m,\u001b[0m \u001b[0ms11_\u001b[0m\u001b[0;34m,\u001b[0m \u001b[0m_\u001b[0m\u001b[0;34m,\u001b[0m \u001b[0mv\u001b[0m \u001b[0;34m=\u001b[0m \u001b[0m_sij\u001b[0m\u001b[0;34m(\u001b[0m\u001b[0mdelta_x\u001b[0m\u001b[0;34m,\u001b[0m \u001b[0mdelta_y_1_T\u001b[0m\u001b[0;34m,\u001b[0m \u001b[0my_lag1\u001b[0m\u001b[0;34m)\u001b[0m\u001b[0;34m\u001b[0m\u001b[0;34m\u001b[0m\u001b[0m\n\u001b[0m\u001b[1;32m   1009\u001b[0m \u001b[0;34m\u001b[0m\u001b[0m\n\u001b[1;32m   1010\u001b[0m         \u001b[0mbeta_tilde\u001b[0m \u001b[0;34m=\u001b[0m \u001b[0;34m(\u001b[0m\u001b[0mv\u001b[0m\u001b[0;34m[\u001b[0m\u001b[0;34m:\u001b[0m\u001b[0;34m,\u001b[0m \u001b[0;34m:\u001b[0m \u001b[0mself\u001b[0m\u001b[0;34m.\u001b[0m\u001b[0mcoint_rank\u001b[0m\u001b[0;34m]\u001b[0m\u001b[0;34m.\u001b[0m\u001b[0mT\u001b[0m\u001b[0;34m.\u001b[0m\u001b[0mdot\u001b[0m\u001b[0;34m(\u001b[0m\u001b[0ms11_\u001b[0m\u001b[0;34m)\u001b[0m\u001b[0;34m)\u001b[0m\u001b[0;34m.\u001b[0m\u001b[0mT\u001b[0m\u001b[0;34m\u001b[0m\u001b[0;34m\u001b[0m\u001b[0m\n",
            "\u001b[0;32m/usr/local/lib/python3.7/dist-packages/statsmodels/tsa/vector_ar/vecm.py\u001b[0m in \u001b[0;36m_sij\u001b[0;34m(delta_x, delta_y_1_T, y_lag1)\u001b[0m\n\u001b[1;32m    444\u001b[0m     \u001b[0ms10\u001b[0m \u001b[0;34m=\u001b[0m \u001b[0ms01\u001b[0m\u001b[0;34m.\u001b[0m\u001b[0mT\u001b[0m\u001b[0;34m\u001b[0m\u001b[0;34m\u001b[0m\u001b[0m\n\u001b[1;32m    445\u001b[0m     \u001b[0ms11\u001b[0m \u001b[0;34m=\u001b[0m \u001b[0mnp\u001b[0m\u001b[0;34m.\u001b[0m\u001b[0mdot\u001b[0m\u001b[0;34m(\u001b[0m\u001b[0mr1\u001b[0m\u001b[0;34m,\u001b[0m \u001b[0mr1\u001b[0m\u001b[0;34m.\u001b[0m\u001b[0mT\u001b[0m\u001b[0;34m)\u001b[0m \u001b[0;34m/\u001b[0m \u001b[0mnobs\u001b[0m\u001b[0;34m\u001b[0m\u001b[0;34m\u001b[0m\u001b[0m\n\u001b[0;32m--> 446\u001b[0;31m     \u001b[0ms11_\u001b[0m \u001b[0;34m=\u001b[0m \u001b[0minv\u001b[0m\u001b[0;34m(\u001b[0m\u001b[0m_mat_sqrt\u001b[0m\u001b[0;34m(\u001b[0m\u001b[0ms11\u001b[0m\u001b[0;34m)\u001b[0m\u001b[0;34m)\u001b[0m\u001b[0;34m\u001b[0m\u001b[0;34m\u001b[0m\u001b[0m\n\u001b[0m\u001b[1;32m    447\u001b[0m     \u001b[0;31m# p. 295:\u001b[0m\u001b[0;34m\u001b[0m\u001b[0;34m\u001b[0m\u001b[0;34m\u001b[0m\u001b[0m\n\u001b[1;32m    448\u001b[0m     \u001b[0ms01_s11_\u001b[0m \u001b[0;34m=\u001b[0m \u001b[0mnp\u001b[0m\u001b[0;34m.\u001b[0m\u001b[0mdot\u001b[0m\u001b[0;34m(\u001b[0m\u001b[0ms01\u001b[0m\u001b[0;34m,\u001b[0m \u001b[0ms11_\u001b[0m\u001b[0;34m)\u001b[0m\u001b[0;34m\u001b[0m\u001b[0;34m\u001b[0m\u001b[0m\n",
            "\u001b[0;32m/usr/local/lib/python3.7/dist-packages/statsmodels/tsa/vector_ar/vecm.py\u001b[0m in \u001b[0;36m_mat_sqrt\u001b[0;34m(_2darray)\u001b[0m\n\u001b[1;32m    250\u001b[0m         \u001b[0mSquare\u001b[0m \u001b[0mroot\u001b[0m \u001b[0mof\u001b[0m \u001b[0mthe\u001b[0m \u001b[0mmatrix\u001b[0m \u001b[0mgiven\u001b[0m \u001b[0;32mas\u001b[0m \u001b[0mfunction\u001b[0m \u001b[0margument\u001b[0m\u001b[0;34m.\u001b[0m\u001b[0;34m\u001b[0m\u001b[0;34m\u001b[0m\u001b[0m\n\u001b[1;32m    251\u001b[0m     \"\"\"\n\u001b[0;32m--> 252\u001b[0;31m     \u001b[0mu_\u001b[0m\u001b[0;34m,\u001b[0m \u001b[0ms_\u001b[0m\u001b[0;34m,\u001b[0m \u001b[0mv_\u001b[0m \u001b[0;34m=\u001b[0m \u001b[0msvd\u001b[0m\u001b[0;34m(\u001b[0m\u001b[0m_2darray\u001b[0m\u001b[0;34m,\u001b[0m \u001b[0mfull_matrices\u001b[0m\u001b[0;34m=\u001b[0m\u001b[0;32mFalse\u001b[0m\u001b[0;34m)\u001b[0m\u001b[0;34m\u001b[0m\u001b[0;34m\u001b[0m\u001b[0m\n\u001b[0m\u001b[1;32m    253\u001b[0m     \u001b[0ms_\u001b[0m \u001b[0;34m=\u001b[0m \u001b[0mnp\u001b[0m\u001b[0;34m.\u001b[0m\u001b[0msqrt\u001b[0m\u001b[0;34m(\u001b[0m\u001b[0ms_\u001b[0m\u001b[0;34m)\u001b[0m\u001b[0;34m\u001b[0m\u001b[0;34m\u001b[0m\u001b[0m\n\u001b[1;32m    254\u001b[0m     \u001b[0;32mreturn\u001b[0m \u001b[0mu_\u001b[0m\u001b[0;34m.\u001b[0m\u001b[0mdot\u001b[0m\u001b[0;34m(\u001b[0m\u001b[0ms_\u001b[0m\u001b[0;34m[\u001b[0m\u001b[0;34m:\u001b[0m\u001b[0;34m,\u001b[0m \u001b[0;32mNone\u001b[0m\u001b[0;34m]\u001b[0m \u001b[0;34m*\u001b[0m \u001b[0mv_\u001b[0m\u001b[0;34m)\u001b[0m\u001b[0;34m\u001b[0m\u001b[0;34m\u001b[0m\u001b[0m\n",
            "\u001b[0;32m<__array_function__ internals>\u001b[0m in \u001b[0;36msvd\u001b[0;34m(*args, **kwargs)\u001b[0m\n",
            "\u001b[0;32m/usr/local/lib/python3.7/dist-packages/numpy/linalg/linalg.py\u001b[0m in \u001b[0;36msvd\u001b[0;34m(a, full_matrices, compute_uv, hermitian)\u001b[0m\n\u001b[1;32m   1659\u001b[0m \u001b[0;34m\u001b[0m\u001b[0m\n\u001b[1;32m   1660\u001b[0m         \u001b[0msignature\u001b[0m \u001b[0;34m=\u001b[0m \u001b[0;34m'D->DdD'\u001b[0m \u001b[0;32mif\u001b[0m \u001b[0misComplexType\u001b[0m\u001b[0;34m(\u001b[0m\u001b[0mt\u001b[0m\u001b[0;34m)\u001b[0m \u001b[0;32melse\u001b[0m \u001b[0;34m'd->ddd'\u001b[0m\u001b[0;34m\u001b[0m\u001b[0;34m\u001b[0m\u001b[0m\n\u001b[0;32m-> 1661\u001b[0;31m         \u001b[0mu\u001b[0m\u001b[0;34m,\u001b[0m \u001b[0ms\u001b[0m\u001b[0;34m,\u001b[0m \u001b[0mvh\u001b[0m \u001b[0;34m=\u001b[0m \u001b[0mgufunc\u001b[0m\u001b[0;34m(\u001b[0m\u001b[0ma\u001b[0m\u001b[0;34m,\u001b[0m \u001b[0msignature\u001b[0m\u001b[0;34m=\u001b[0m\u001b[0msignature\u001b[0m\u001b[0;34m,\u001b[0m \u001b[0mextobj\u001b[0m\u001b[0;34m=\u001b[0m\u001b[0mextobj\u001b[0m\u001b[0;34m)\u001b[0m\u001b[0;34m\u001b[0m\u001b[0;34m\u001b[0m\u001b[0m\n\u001b[0m\u001b[1;32m   1662\u001b[0m         \u001b[0mu\u001b[0m \u001b[0;34m=\u001b[0m \u001b[0mu\u001b[0m\u001b[0;34m.\u001b[0m\u001b[0mastype\u001b[0m\u001b[0;34m(\u001b[0m\u001b[0mresult_t\u001b[0m\u001b[0;34m,\u001b[0m \u001b[0mcopy\u001b[0m\u001b[0;34m=\u001b[0m\u001b[0;32mFalse\u001b[0m\u001b[0;34m)\u001b[0m\u001b[0;34m\u001b[0m\u001b[0;34m\u001b[0m\u001b[0m\n\u001b[1;32m   1663\u001b[0m         \u001b[0ms\u001b[0m \u001b[0;34m=\u001b[0m \u001b[0ms\u001b[0m\u001b[0;34m.\u001b[0m\u001b[0mastype\u001b[0m\u001b[0;34m(\u001b[0m\u001b[0m_realType\u001b[0m\u001b[0;34m(\u001b[0m\u001b[0mresult_t\u001b[0m\u001b[0;34m)\u001b[0m\u001b[0;34m,\u001b[0m \u001b[0mcopy\u001b[0m\u001b[0;34m=\u001b[0m\u001b[0;32mFalse\u001b[0m\u001b[0;34m)\u001b[0m\u001b[0;34m\u001b[0m\u001b[0;34m\u001b[0m\u001b[0m\n",
            "\u001b[0;32m/usr/local/lib/python3.7/dist-packages/numpy/linalg/linalg.py\u001b[0m in \u001b[0;36m_raise_linalgerror_svd_nonconvergence\u001b[0;34m(err, flag)\u001b[0m\n\u001b[1;32m     95\u001b[0m \u001b[0;34m\u001b[0m\u001b[0m\n\u001b[1;32m     96\u001b[0m \u001b[0;32mdef\u001b[0m \u001b[0m_raise_linalgerror_svd_nonconvergence\u001b[0m\u001b[0;34m(\u001b[0m\u001b[0merr\u001b[0m\u001b[0;34m,\u001b[0m \u001b[0mflag\u001b[0m\u001b[0;34m)\u001b[0m\u001b[0;34m:\u001b[0m\u001b[0;34m\u001b[0m\u001b[0;34m\u001b[0m\u001b[0m\n\u001b[0;32m---> 97\u001b[0;31m     \u001b[0;32mraise\u001b[0m \u001b[0mLinAlgError\u001b[0m\u001b[0;34m(\u001b[0m\u001b[0;34m\"SVD did not converge\"\u001b[0m\u001b[0;34m)\u001b[0m\u001b[0;34m\u001b[0m\u001b[0;34m\u001b[0m\u001b[0m\n\u001b[0m\u001b[1;32m     98\u001b[0m \u001b[0;34m\u001b[0m\u001b[0m\n\u001b[1;32m     99\u001b[0m \u001b[0;32mdef\u001b[0m \u001b[0m_raise_linalgerror_lstsq\u001b[0m\u001b[0;34m(\u001b[0m\u001b[0merr\u001b[0m\u001b[0;34m,\u001b[0m \u001b[0mflag\u001b[0m\u001b[0;34m)\u001b[0m\u001b[0;34m:\u001b[0m\u001b[0;34m\u001b[0m\u001b[0;34m\u001b[0m\u001b[0m\n",
            "\u001b[0;31mLinAlgError\u001b[0m: SVD did not converge"
          ]
        }
      ],
      "source": [
        "vecm = VECM(endog = X_train, k_ar_diff = 1, coint_rank = 1, deterministic = 'ci')\n",
        "vecm_fit = vecm.fit()\n",
        "vecm_fit.predict(steps=len(X_test))"
      ]
    },
    {
      "cell_type": "code",
      "execution_count": null,
      "metadata": {
        "id": "HAn9uTQJdn3s"
      },
      "outputs": [],
      "source": []
    },
    {
      "cell_type": "code",
      "execution_count": null,
      "metadata": {
        "id": "NC4_mhN8ZXut"
      },
      "outputs": [],
      "source": []
    },
    {
      "cell_type": "code",
      "execution_count": null,
      "metadata": {
        "id": "LUCMb5QmYJO1"
      },
      "outputs": [],
      "source": []
    },
    {
      "cell_type": "code",
      "execution_count": null,
      "metadata": {
        "id": "A4hnD6XfUcet"
      },
      "outputs": [],
      "source": []
    },
    {
      "cell_type": "code",
      "execution_count": null,
      "metadata": {
        "id": "1BPTGPHoUchR"
      },
      "outputs": [],
      "source": []
    },
    {
      "cell_type": "markdown",
      "metadata": {
        "id": "CtzgCdvVEi05"
      },
      "source": [
        "# 8. Correlation vs Cointegration"
      ]
    },
    {
      "cell_type": "markdown",
      "metadata": {
        "id": "MHJB6uHHEpPI"
      },
      "source": [
        "## 8.1\n",
        "\n",
        "Correlation between two variables X and Y are symmetric. This means that correlation between X and Y is saame as Y and X.\n",
        "\n",
        "\\begin{equation}\n",
        "Corr(X,Y) = Cov(X,Y) / [ Var(X) Var(Y)]\n",
        "= \\frac{\\sum (X_{i} - \\bar{X}) (Y_{i} - \\bar{Y})}{\\sqrt{\\sum (X_{i} - \\bar{X})^{2} \\sum (Y_{i} - \\bar{Y})^{2}}}\n",
        "\\end{equation}\n",
        "\n",
        "Here Cov(X,Y) is the covariance of X and Y, Var(X) and Var(Y) are the variances of X and Y respectively.\n",
        "Correlation ranges from -1 aand +1 where -1 pimples a negative relationship between X aand Y and +1 is positive. Correlation is symmetric in X and Y.\n",
        "\n"
      ]
    },
    {
      "cell_type": "markdown",
      "metadata": {
        "id": "cCK9158NE-oE"
      },
      "source": [
        "## 8.2\n",
        "\n",
        "The coefficients of linear regression is not the same when X is regressed on Y and when Y is regressed on X except when X and Y aare standerdized as in the case of the correlation shown above.\n",
        "When we fit a linear regression between two variables X and where Y is regressed on X, we are minimizing the mean squared error (loss function) to estimate the coefficients.\n",
        "\n",
        "Y = beta0 + beta1 * X\n",
        "\n",
        "to find beta0 and beta1, minimize the vertical distance on the Y vs X plot\n",
        "\n",
        "Sum [ yi - (beta0 + beta1 * xi) ]\n",
        "\n",
        "However, when we regress X on Y i.e.\n",
        "\n",
        "X = alpha0 + alpha1 * Y\n",
        "where  alpha0 = (- beta0/beta1)\n",
        "            alpha1 = (1/beta1)\n",
        "\n",
        "we are minimizing a different loss function, horizontal distance on the Y vs X plot\n",
        "\n",
        "Sum [ xi - (alpha0 + alpha1 * yi) ]\n",
        "\n",
        "Minimizing vertical distance results in a flatter slope while minimizing horizontal distance gives a steeper slope. But, if X and Y are standerdized i.e. centered on origin, the slope will be the same in both the cases.\n",
        "\n"
      ]
    },
    {
      "cell_type": "markdown",
      "metadata": {
        "id": "5_WHPTLoFGzl"
      },
      "source": [
        "## 8.3\n",
        "\n",
        "A vector of I(1) variables Yt is said to be cointegrated if there exists beta such that Beta * Yt is stationary [1]\n",
        "\n",
        "If there are r such linearly independent vectors beta_i , then Yt is cointegrated with rank r.\n",
        "The matrix Beta = {beta_1, beta_2…beta_r} is called the cointegration matrix.\n",
        "\n",
        "This cointegration vector Beta is same when x regresses on y and y regresses on X\n",
        "\n"
      ]
    }
  ],
  "metadata": {
    "colab": {
      "provenance": [],
      "include_colab_link": true
    },
    "kernelspec": {
      "display_name": "Python 3",
      "language": "python",
      "name": "python3"
    },
    "language_info": {
      "codemirror_mode": {
        "name": "ipython",
        "version": 3
      },
      "file_extension": ".py",
      "mimetype": "text/x-python",
      "name": "python",
      "nbconvert_exporter": "python",
      "pygments_lexer": "ipython3",
      "version": "3.7.1"
    }
  },
  "nbformat": 4,
  "nbformat_minor": 0
}